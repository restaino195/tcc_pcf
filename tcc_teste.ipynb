{
 "cells": [
  {
   "cell_type": "markdown",
   "id": "bf9be2e9",
   "metadata": {},
   "source": [
    "Análise de Viabilidade com Redes Neurais - Programa Criança Feliz\n",
    "Autor: Paulo Renato Restaino\n",
    "Data Science e Analytics - USP/Esalq\n",
    "\n",
    "\n",
    "## 1. Importação de Bibliotecas e Configuração Inicial\n",
    "\n"
   ]
  },
  {
   "cell_type": "markdown",
   "id": "1becc41e",
   "metadata": {},
   "source": [
    "### Bibliotecas para preparação dos dados"
   ]
  },
  {
   "cell_type": "code",
   "execution_count": 1,
   "id": "a5a5cf5e",
   "metadata": {},
   "outputs": [],
   "source": [
    "import pandas as pd\n",
    "import numpy as np\n",
    "import matplotlib.pyplot as plt\n",
    "import seaborn as sns\n",
    "import warnings\n",
    "from datetime import datetime\n",
    "import os"
   ]
  },
  {
   "cell_type": "markdown",
   "id": "d5f90cb3",
   "metadata": {},
   "source": [
    "### Bibliotecas para modelagem\n"
   ]
  },
  {
   "cell_type": "code",
   "execution_count": 2,
   "id": "1475ef52",
   "metadata": {},
   "outputs": [],
   "source": [
    "from sklearn.preprocessing import StandardScaler, MinMaxScaler\n",
    "from sklearn.model_selection import train_test_split, TimeSeriesSplit\n",
    "from sklearn.metrics import mean_squared_error, mean_absolute_error, r2_score"
   ]
  },
  {
   "cell_type": "markdown",
   "id": "4877b393",
   "metadata": {},
   "source": [
    "### Deep Learning\n"
   ]
  },
  {
   "cell_type": "code",
   "execution_count": 3,
   "id": "eee56283",
   "metadata": {},
   "outputs": [],
   "source": [
    "import tensorflow as tf\n",
    "from tensorflow.keras.models import Sequential, Model\n",
    "from tensorflow.keras.layers import LSTM, GRU, Dense, Dropout, Conv1D, MaxPooling1D, Flatten, Input, concatenate\n",
    "from tensorflow.keras.callbacks import EarlyStopping, ReduceLROnPlateau\n",
    "from tensorflow.keras.optimizers import Adam"
   ]
  },
  {
   "cell_type": "markdown",
   "id": "52ac6db2",
   "metadata": {},
   "source": [
    "### Visualizações interativas\n"
   ]
  },
  {
   "cell_type": "code",
   "execution_count": 4,
   "id": "ef189f71",
   "metadata": {},
   "outputs": [],
   "source": [
    "import plotly.express as px\n",
    "import plotly.graph_objects as go\n",
    "from plotly.subplots import make_subplots"
   ]
  },
  {
   "cell_type": "markdown",
   "id": "ef621a82",
   "metadata": {},
   "source": [
    "### Configurações"
   ]
  },
  {
   "cell_type": "code",
   "execution_count": 5,
   "id": "151309ef",
   "metadata": {},
   "outputs": [],
   "source": [
    "warnings.filterwarnings('ignore')\n",
    "plt.style.use('seaborn-v0_8-darkgrid')\n",
    "sns.set_palette(\"husl\")"
   ]
  },
  {
   "cell_type": "markdown",
   "id": "6fb4b6cc",
   "metadata": {},
   "source": [
    "### Definir seed para reprodutibilidade"
   ]
  },
  {
   "cell_type": "code",
   "execution_count": 25,
   "id": "0fbaa330",
   "metadata": {},
   "outputs": [
    {
     "name": "stdout",
     "output_type": "stream",
     "text": [
      "TensorFlow version: 2.19.0\n",
      "GPU disponível: False\n"
     ]
    }
   ],
   "source": [
    "np.random.seed(42)\n",
    "tf.random.set_seed(42)\n",
    "\n",
    "print(f\"TensorFlow version: {tf.__version__}\")\n",
    "print(f\"GPU disponível: {len(tf.config.list_physical_devices('GPU')) > 0}\")"
   ]
  },
  {
   "cell_type": "code",
   "execution_count": 7,
   "id": "38255ad3",
   "metadata": {},
   "outputs": [],
   "source": [
    "def load_pcf_data():\n",
    "    \"\"\"Carrega todos os arquivos CSV do Programa Criança Feliz\"\"\"\n",
    "    \n",
    "    # Dicionário para armazenar os dataframes\n",
    "    dfs = {}\n",
    "    \n",
    "    # Lista de arquivos e suas colunas esperadas\n",
    "    files_info = {\n",
    "        'crianca2018.csv': {\n",
    "            'year': 2018,\n",
    "            'cols': ['codigo_ibge', 'anomes_s', 'visitas_realizadas_criancas_pcf_i', \n",
    "                    'visitas_realizadas_gestantes_pcf_i', 'total_visitas_realizadas_pcf_i']\n",
    "        },\n",
    "        'crianca2019.csv': {\n",
    "            'year': 2019,\n",
    "            'cols': ['codigo_ibge', 'anomes_s', 'visitas_realizadas_criancas_pcf_i', \n",
    "                    'visitas_realizadas_gestantes_pcf_i', 'total_visitas_realizadas_pcf_i']\n",
    "        },\n",
    "        'crianca2020.csv': {\n",
    "            'year': 2020,\n",
    "            'cols': ['codigo_ibge', 'anomes_s', 'visitas_realizadas_criancas_pcf_i', \n",
    "                    'visitas_realizadas_gestantes_pcf_i', 'total_visitas_realizadas_pcf_i']\n",
    "        },\n",
    "        'crianca2021.csv': {\n",
    "            'year': 2021,\n",
    "            'cols': ['codigo_ibge', 'anomes_s', 'qtd_criancas_visitadas_pcf_i', \n",
    "                    'qtd_gestantes_visitadas_pcf_i', 'total_pessoas_visitadas_pcf_i']\n",
    "        },\n",
    "        'crianca2022.csv': {\n",
    "            'year': 2022,\n",
    "            'cols': ['codigo_ibge', 'anomes_s', 'qtd_criancas_visitadas_pcf_i', \n",
    "                    'qtd_gestantes_visitadas_pcf_i', 'total_pessoas_visitadas_pcf_i']\n",
    "        }\n",
    "    }\n",
    "    \n",
    "    for filename, info in files_info.items():\n",
    "        try:\n",
    "            df = pd.read_csv(filename)\n",
    "            \n",
    "            # Padronizar nomes de colunas\n",
    "            if 'qtd_criancas_visitadas_pcf_i' in df.columns:\n",
    "                df = df.rename(columns={\n",
    "                    'qtd_criancas_visitadas_pcf_i': 'visitas_criancas',\n",
    "                    'qtd_gestantes_visitadas_pcf_i': 'visitas_gestantes',\n",
    "                    'total_pessoas_visitadas_pcf_i': 'total_visitas'\n",
    "                })\n",
    "            else:\n",
    "                df = df.rename(columns={\n",
    "                    'visitas_realizadas_criancas_pcf_i': 'visitas_criancas',\n",
    "                    'visitas_realizadas_gestantes_pcf_i': 'visitas_gestantes',\n",
    "                    'total_visitas_realizadas_pcf_i': 'total_visitas'\n",
    "                })\n",
    "            \n",
    "            dfs[info['year']] = df\n",
    "            print(f\"✓ Carregado {filename}: {len(df)} registros\")\n",
    "            \n",
    "        except Exception as e:\n",
    "            print(f\"✗ Erro ao carregar {filename}: {str(e)}\")\n",
    "        \n",
    "    df_combined = pd.concat(dfs.values(), ignore_index=True)\n",
    "\n",
    "    df_combined['ano'] = df_combined['anomes_s'].astype(str).str[:4].astype(int)\n",
    "    df_combined['mes'] = df_combined['anomes_s'].astype(str).str[4:6].astype(int)\n",
    "    df_combined['data'] = pd.to_datetime(df_combined['anomes_s'].astype(str), format='%Y%m')\n",
    "    \n",
    "    return df_combined\n"
   ]
  },
  {
   "cell_type": "code",
   "execution_count": 8,
   "id": "c1269039",
   "metadata": {},
   "outputs": [
    {
     "name": "stdout",
     "output_type": "stream",
     "text": [
      "✓ Carregado crianca2018.csv: 25292 registros\n",
      "✓ Carregado crianca2019.csv: 29311 registros\n",
      "✓ Carregado crianca2020.csv: 30250 registros\n",
      "✓ Carregado crianca2021.csv: 31725 registros\n",
      "✓ Carregado crianca2022.csv: 16581 registros\n"
     ]
    }
   ],
   "source": [
    "df_pcf = load_pcf_data()\n"
   ]
  },
  {
   "cell_type": "code",
   "execution_count": 9,
   "id": "548467d2",
   "metadata": {},
   "outputs": [
    {
     "data": {
      "application/vnd.microsoft.datawrangler.viewer.v0+json": {
       "columns": [
        {
         "name": "index",
         "rawType": "int64",
         "type": "integer"
        },
        {
         "name": "codigo_ibge",
         "rawType": "int64",
         "type": "integer"
        },
        {
         "name": "anomes_s",
         "rawType": "int64",
         "type": "integer"
        },
        {
         "name": "visitas_criancas",
         "rawType": "int64",
         "type": "integer"
        },
        {
         "name": "visitas_gestantes",
         "rawType": "float64",
         "type": "float"
        },
        {
         "name": "total_visitas",
         "rawType": "int64",
         "type": "integer"
        },
        {
         "name": "ano",
         "rawType": "int64",
         "type": "integer"
        },
        {
         "name": "mes",
         "rawType": "int64",
         "type": "integer"
        },
        {
         "name": "data",
         "rawType": "datetime64[ns]",
         "type": "datetime"
        }
       ],
       "conversionMethod": "pd.DataFrame",
       "ref": "e17896b8-a44b-414c-850c-6581844d9fcb",
       "rows": [
        [
         "0",
         "110005",
         "201801",
         "204",
         "33.0",
         "237",
         "2018",
         "1",
         "2018-01-01 00:00:00"
        ],
        [
         "1",
         "110007",
         "201801",
         "1",
         "0.0",
         "1",
         "2018",
         "1",
         "2018-01-01 00:00:00"
        ],
        [
         "2",
         "110009",
         "201801",
         "52",
         "1.0",
         "53",
         "2018",
         "1",
         "2018-01-01 00:00:00"
        ],
        [
         "3",
         "110025",
         "201801",
         "173",
         "6.0",
         "179",
         "2018",
         "1",
         "2018-01-01 00:00:00"
        ],
        [
         "4",
         "110070",
         "201801",
         "113",
         "7.0",
         "120",
         "2018",
         "1",
         "2018-01-01 00:00:00"
        ],
        [
         "5",
         "110080",
         "201801",
         "34",
         "0.0",
         "34",
         "2018",
         "1",
         "2018-01-01 00:00:00"
        ],
        [
         "6",
         "110092",
         "201801",
         "87",
         "8.0",
         "95",
         "2018",
         "1",
         "2018-01-01 00:00:00"
        ],
        [
         "7",
         "110094",
         "201801",
         "9",
         "0.0",
         "9",
         "2018",
         "1",
         "2018-01-01 00:00:00"
        ],
        [
         "8",
         "110149",
         "201801",
         "332",
         "0.0",
         "332",
         "2018",
         "1",
         "2018-01-01 00:00:00"
        ],
        [
         "9",
         "120010",
         "201801",
         "327",
         "45.0",
         "372",
         "2018",
         "1",
         "2018-01-01 00:00:00"
        ],
        [
         "10",
         "120013",
         "201801",
         "1",
         "0.0",
         "1",
         "2018",
         "1",
         "2018-01-01 00:00:00"
        ],
        [
         "11",
         "120017",
         "201801",
         "41",
         "9.0",
         "50",
         "2018",
         "1",
         "2018-01-01 00:00:00"
        ],
        [
         "12",
         "120020",
         "201801",
         "739",
         "68.0",
         "807",
         "2018",
         "1",
         "2018-01-01 00:00:00"
        ],
        [
         "13",
         "120032",
         "201801",
         "242",
         "21.0",
         "263",
         "2018",
         "1",
         "2018-01-01 00:00:00"
        ],
        [
         "14",
         "120033",
         "201801",
         "187",
         "22.0",
         "209",
         "2018",
         "1",
         "2018-01-01 00:00:00"
        ],
        [
         "15",
         "120035",
         "201801",
         "305",
         "35.0",
         "340",
         "2018",
         "1",
         "2018-01-01 00:00:00"
        ],
        [
         "16",
         "120038",
         "201801",
         "381",
         "37.0",
         "418",
         "2018",
         "1",
         "2018-01-01 00:00:00"
        ],
        [
         "17",
         "120039",
         "201801",
         "183",
         "16.0",
         "199",
         "2018",
         "1",
         "2018-01-01 00:00:00"
        ],
        [
         "18",
         "120040",
         "201801",
         "18",
         "2.0",
         "20",
         "2018",
         "1",
         "2018-01-01 00:00:00"
        ],
        [
         "19",
         "120042",
         "201801",
         "189",
         "13.0",
         "202",
         "2018",
         "1",
         "2018-01-01 00:00:00"
        ],
        [
         "20",
         "120043",
         "201801",
         "224",
         "18.0",
         "242",
         "2018",
         "1",
         "2018-01-01 00:00:00"
        ],
        [
         "21",
         "120060",
         "201801",
         "256",
         "4.0",
         "260",
         "2018",
         "1",
         "2018-01-01 00:00:00"
        ],
        [
         "22",
         "120080",
         "201801",
         "135",
         "13.0",
         "148",
         "2018",
         "1",
         "2018-01-01 00:00:00"
        ],
        [
         "23",
         "130002",
         "201801",
         "283",
         "18.0",
         "301",
         "2018",
         "1",
         "2018-01-01 00:00:00"
        ],
        [
         "24",
         "130008",
         "201801",
         "321",
         "27.0",
         "348",
         "2018",
         "1",
         "2018-01-01 00:00:00"
        ],
        [
         "25",
         "130020",
         "201801",
         "236",
         "4.0",
         "240",
         "2018",
         "1",
         "2018-01-01 00:00:00"
        ],
        [
         "26",
         "130030",
         "201801",
         "404",
         "4.0",
         "408",
         "2018",
         "1",
         "2018-01-01 00:00:00"
        ],
        [
         "27",
         "130050",
         "201801",
         "96",
         "1.0",
         "97",
         "2018",
         "1",
         "2018-01-01 00:00:00"
        ],
        [
         "28",
         "130060",
         "201801",
         "135",
         "43.0",
         "178",
         "2018",
         "1",
         "2018-01-01 00:00:00"
        ],
        [
         "29",
         "130063",
         "201801",
         "340",
         "9.0",
         "349",
         "2018",
         "1",
         "2018-01-01 00:00:00"
        ],
        [
         "30",
         "130068",
         "201801",
         "143",
         "18.0",
         "161",
         "2018",
         "1",
         "2018-01-01 00:00:00"
        ],
        [
         "31",
         "130080",
         "201801",
         "432",
         "5.0",
         "437",
         "2018",
         "1",
         "2018-01-01 00:00:00"
        ],
        [
         "32",
         "130090",
         "201801",
         "273",
         "26.0",
         "299",
         "2018",
         "1",
         "2018-01-01 00:00:00"
        ],
        [
         "33",
         "130100",
         "201801",
         "173",
         "9.0",
         "182",
         "2018",
         "1",
         "2018-01-01 00:00:00"
        ],
        [
         "34",
         "130115",
         "201801",
         "277",
         "21.0",
         "298",
         "2018",
         "1",
         "2018-01-01 00:00:00"
        ],
        [
         "35",
         "130120",
         "201801",
         "538",
         "8.0",
         "546",
         "2018",
         "1",
         "2018-01-01 00:00:00"
        ],
        [
         "36",
         "130160",
         "201801",
         "312",
         "36.0",
         "348",
         "2018",
         "1",
         "2018-01-01 00:00:00"
        ],
        [
         "37",
         "130165",
         "201801",
         "359",
         "4.0",
         "363",
         "2018",
         "1",
         "2018-01-01 00:00:00"
        ],
        [
         "38",
         "130170",
         "201801",
         "337",
         "25.0",
         "362",
         "2018",
         "1",
         "2018-01-01 00:00:00"
        ],
        [
         "39",
         "130180",
         "201801",
         "220",
         "17.0",
         "237",
         "2018",
         "1",
         "2018-01-01 00:00:00"
        ],
        [
         "40",
         "130185",
         "201801",
         "584",
         "0.0",
         "584",
         "2018",
         "1",
         "2018-01-01 00:00:00"
        ],
        [
         "41",
         "130190",
         "201801",
         "677",
         "17.0",
         "694",
         "2018",
         "1",
         "2018-01-01 00:00:00"
        ],
        [
         "42",
         "130195",
         "201801",
         "75",
         "3.0",
         "78",
         "2018",
         "1",
         "2018-01-01 00:00:00"
        ],
        [
         "43",
         "130200",
         "201801",
         "221",
         "5.0",
         "226",
         "2018",
         "1",
         "2018-01-01 00:00:00"
        ],
        [
         "44",
         "130210",
         "201801",
         "280",
         "2.0",
         "282",
         "2018",
         "1",
         "2018-01-01 00:00:00"
        ],
        [
         "45",
         "130220",
         "201801",
         "384",
         "3.0",
         "387",
         "2018",
         "1",
         "2018-01-01 00:00:00"
        ],
        [
         "46",
         "130250",
         "201801",
         "752",
         "0.0",
         "752",
         "2018",
         "1",
         "2018-01-01 00:00:00"
        ],
        [
         "47",
         "130255",
         "201801",
         "204",
         "10.0",
         "214",
         "2018",
         "1",
         "2018-01-01 00:00:00"
        ],
        [
         "48",
         "130270",
         "201801",
         "107",
         "6.0",
         "113",
         "2018",
         "1",
         "2018-01-01 00:00:00"
        ],
        [
         "49",
         "130280",
         "201801",
         "91",
         "0.0",
         "91",
         "2018",
         "1",
         "2018-01-01 00:00:00"
        ]
       ],
       "shape": {
        "columns": 8,
        "rows": 133159
       }
      },
      "text/html": [
       "<div>\n",
       "<style scoped>\n",
       "    .dataframe tbody tr th:only-of-type {\n",
       "        vertical-align: middle;\n",
       "    }\n",
       "\n",
       "    .dataframe tbody tr th {\n",
       "        vertical-align: top;\n",
       "    }\n",
       "\n",
       "    .dataframe thead th {\n",
       "        text-align: right;\n",
       "    }\n",
       "</style>\n",
       "<table border=\"1\" class=\"dataframe\">\n",
       "  <thead>\n",
       "    <tr style=\"text-align: right;\">\n",
       "      <th></th>\n",
       "      <th>codigo_ibge</th>\n",
       "      <th>anomes_s</th>\n",
       "      <th>visitas_criancas</th>\n",
       "      <th>visitas_gestantes</th>\n",
       "      <th>total_visitas</th>\n",
       "      <th>ano</th>\n",
       "      <th>mes</th>\n",
       "      <th>data</th>\n",
       "    </tr>\n",
       "  </thead>\n",
       "  <tbody>\n",
       "    <tr>\n",
       "      <th>0</th>\n",
       "      <td>110005</td>\n",
       "      <td>201801</td>\n",
       "      <td>204</td>\n",
       "      <td>33.0</td>\n",
       "      <td>237</td>\n",
       "      <td>2018</td>\n",
       "      <td>1</td>\n",
       "      <td>2018-01-01</td>\n",
       "    </tr>\n",
       "    <tr>\n",
       "      <th>1</th>\n",
       "      <td>110007</td>\n",
       "      <td>201801</td>\n",
       "      <td>1</td>\n",
       "      <td>0.0</td>\n",
       "      <td>1</td>\n",
       "      <td>2018</td>\n",
       "      <td>1</td>\n",
       "      <td>2018-01-01</td>\n",
       "    </tr>\n",
       "    <tr>\n",
       "      <th>2</th>\n",
       "      <td>110009</td>\n",
       "      <td>201801</td>\n",
       "      <td>52</td>\n",
       "      <td>1.0</td>\n",
       "      <td>53</td>\n",
       "      <td>2018</td>\n",
       "      <td>1</td>\n",
       "      <td>2018-01-01</td>\n",
       "    </tr>\n",
       "    <tr>\n",
       "      <th>3</th>\n",
       "      <td>110025</td>\n",
       "      <td>201801</td>\n",
       "      <td>173</td>\n",
       "      <td>6.0</td>\n",
       "      <td>179</td>\n",
       "      <td>2018</td>\n",
       "      <td>1</td>\n",
       "      <td>2018-01-01</td>\n",
       "    </tr>\n",
       "    <tr>\n",
       "      <th>4</th>\n",
       "      <td>110070</td>\n",
       "      <td>201801</td>\n",
       "      <td>113</td>\n",
       "      <td>7.0</td>\n",
       "      <td>120</td>\n",
       "      <td>2018</td>\n",
       "      <td>1</td>\n",
       "      <td>2018-01-01</td>\n",
       "    </tr>\n",
       "    <tr>\n",
       "      <th>...</th>\n",
       "      <td>...</td>\n",
       "      <td>...</td>\n",
       "      <td>...</td>\n",
       "      <td>...</td>\n",
       "      <td>...</td>\n",
       "      <td>...</td>\n",
       "      <td>...</td>\n",
       "      <td>...</td>\n",
       "    </tr>\n",
       "    <tr>\n",
       "      <th>133154</th>\n",
       "      <td>522185</td>\n",
       "      <td>202201</td>\n",
       "      <td>154</td>\n",
       "      <td>8.0</td>\n",
       "      <td>162</td>\n",
       "      <td>2022</td>\n",
       "      <td>1</td>\n",
       "      <td>2022-01-01</td>\n",
       "    </tr>\n",
       "    <tr>\n",
       "      <th>133155</th>\n",
       "      <td>522200</td>\n",
       "      <td>202201</td>\n",
       "      <td>87</td>\n",
       "      <td>15.0</td>\n",
       "      <td>102</td>\n",
       "      <td>2022</td>\n",
       "      <td>1</td>\n",
       "      <td>2022-01-01</td>\n",
       "    </tr>\n",
       "    <tr>\n",
       "      <th>133156</th>\n",
       "      <td>522205</td>\n",
       "      <td>202201</td>\n",
       "      <td>94</td>\n",
       "      <td>11.0</td>\n",
       "      <td>105</td>\n",
       "      <td>2022</td>\n",
       "      <td>1</td>\n",
       "      <td>2022-01-01</td>\n",
       "    </tr>\n",
       "    <tr>\n",
       "      <th>133157</th>\n",
       "      <td>522220</td>\n",
       "      <td>202201</td>\n",
       "      <td>36</td>\n",
       "      <td>NaN</td>\n",
       "      <td>36</td>\n",
       "      <td>2022</td>\n",
       "      <td>1</td>\n",
       "      <td>2022-01-01</td>\n",
       "    </tr>\n",
       "    <tr>\n",
       "      <th>133158</th>\n",
       "      <td>530010</td>\n",
       "      <td>202201</td>\n",
       "      <td>2825</td>\n",
       "      <td>201.0</td>\n",
       "      <td>3026</td>\n",
       "      <td>2022</td>\n",
       "      <td>1</td>\n",
       "      <td>2022-01-01</td>\n",
       "    </tr>\n",
       "  </tbody>\n",
       "</table>\n",
       "<p>133159 rows × 8 columns</p>\n",
       "</div>"
      ],
      "text/plain": [
       "        codigo_ibge  anomes_s  visitas_criancas  visitas_gestantes  \\\n",
       "0            110005    201801               204               33.0   \n",
       "1            110007    201801                 1                0.0   \n",
       "2            110009    201801                52                1.0   \n",
       "3            110025    201801               173                6.0   \n",
       "4            110070    201801               113                7.0   \n",
       "...             ...       ...               ...                ...   \n",
       "133154       522185    202201               154                8.0   \n",
       "133155       522200    202201                87               15.0   \n",
       "133156       522205    202201                94               11.0   \n",
       "133157       522220    202201                36                NaN   \n",
       "133158       530010    202201              2825              201.0   \n",
       "\n",
       "        total_visitas   ano  mes       data  \n",
       "0                 237  2018    1 2018-01-01  \n",
       "1                   1  2018    1 2018-01-01  \n",
       "2                  53  2018    1 2018-01-01  \n",
       "3                 179  2018    1 2018-01-01  \n",
       "4                 120  2018    1 2018-01-01  \n",
       "...               ...   ...  ...        ...  \n",
       "133154            162  2022    1 2022-01-01  \n",
       "133155            102  2022    1 2022-01-01  \n",
       "133156            105  2022    1 2022-01-01  \n",
       "133157             36  2022    1 2022-01-01  \n",
       "133158           3026  2022    1 2022-01-01  \n",
       "\n",
       "[133159 rows x 8 columns]"
      ]
     },
     "execution_count": 9,
     "metadata": {},
     "output_type": "execute_result"
    }
   ],
   "source": [
    "df_pcf"
   ]
  },
  {
   "cell_type": "code",
   "execution_count": 10,
   "id": "3b2634ab",
   "metadata": {},
   "outputs": [
    {
     "name": "stdout",
     "output_type": "stream",
     "text": [
      "\n",
      "✓ Carregado municipio_elegivel.csv: 52920 registros\n"
     ]
    }
   ],
   "source": [
    "df_municipios = pd.read_csv('municipio_elegivel.csv')\n",
    "print(f\"\\n✓ Carregado municipio_elegivel.csv: {len(df_municipios)} registros\")"
   ]
  },
  {
   "cell_type": "code",
   "execution_count": 11,
   "id": "26129e52",
   "metadata": {},
   "outputs": [
    {
     "data": {
      "application/vnd.microsoft.datawrangler.viewer.v0+json": {
       "columns": [
        {
         "name": "index",
         "rawType": "int64",
         "type": "integer"
        },
        {
         "name": "codigo_ibge",
         "rawType": "int64",
         "type": "integer"
        },
        {
         "name": "anomes_s",
         "rawType": "int64",
         "type": "integer"
        },
        {
         "name": "municipios_elegiveis_pcf_i",
         "rawType": "int64",
         "type": "integer"
        },
        {
         "name": "municipios_adesao_pcf_i",
         "rawType": "float64",
         "type": "float"
        }
       ],
       "conversionMethod": "pd.DataFrame",
       "ref": "342160c5-e6fb-49b6-8fbe-944a74f4a8ca",
       "rows": [
        [
         "0",
         "110001",
         "201809",
         "1",
         null
        ],
        [
         "1",
         "110002",
         "201809",
         "1",
         "1.0"
        ],
        [
         "2",
         "110004",
         "201809",
         "1",
         "1.0"
        ],
        [
         "3",
         "110005",
         "201809",
         "1",
         "1.0"
        ],
        [
         "4",
         "110007",
         "201809",
         "1",
         "1.0"
        ],
        [
         "5",
         "110008",
         "201809",
         "1",
         null
        ],
        [
         "6",
         "110009",
         "201809",
         "1",
         "1.0"
        ],
        [
         "7",
         "110010",
         "201809",
         "1",
         null
        ],
        [
         "8",
         "110011",
         "201809",
         "1",
         null
        ],
        [
         "9",
         "110012",
         "201809",
         "1",
         null
        ],
        [
         "10",
         "110013",
         "201809",
         "1",
         null
        ],
        [
         "11",
         "110014",
         "201809",
         "1",
         "1.0"
        ],
        [
         "12",
         "110015",
         "201809",
         "1",
         null
        ],
        [
         "13",
         "110018",
         "201809",
         "1",
         "1.0"
        ],
        [
         "14",
         "110020",
         "201809",
         "1",
         "1.0"
        ],
        [
         "15",
         "110025",
         "201809",
         "1",
         "1.0"
        ],
        [
         "16",
         "110028",
         "201809",
         "1",
         null
        ],
        [
         "17",
         "110030",
         "201809",
         "1",
         "1.0"
        ],
        [
         "18",
         "110032",
         "201809",
         "1",
         "1.0"
        ],
        [
         "19",
         "110033",
         "201809",
         "1",
         null
        ],
        [
         "20",
         "110037",
         "201809",
         "1",
         null
        ],
        [
         "21",
         "110040",
         "201809",
         "1",
         "1.0"
        ],
        [
         "22",
         "110045",
         "201809",
         "1",
         null
        ],
        [
         "23",
         "110050",
         "201809",
         "1",
         "1.0"
        ],
        [
         "24",
         "110070",
         "201809",
         "1",
         "1.0"
        ],
        [
         "25",
         "110080",
         "201809",
         "1",
         "1.0"
        ],
        [
         "26",
         "110092",
         "201809",
         "1",
         "1.0"
        ],
        [
         "27",
         "110094",
         "201809",
         "1",
         "1.0"
        ],
        [
         "28",
         "110100",
         "201809",
         "1",
         null
        ],
        [
         "29",
         "110110",
         "201809",
         "1",
         null
        ],
        [
         "30",
         "110120",
         "201809",
         "1",
         "1.0"
        ],
        [
         "31",
         "110130",
         "201809",
         "1",
         "1.0"
        ],
        [
         "32",
         "110140",
         "201809",
         "1",
         null
        ],
        [
         "33",
         "110149",
         "201809",
         "1",
         "1.0"
        ],
        [
         "34",
         "110150",
         "201809",
         "1",
         null
        ],
        [
         "35",
         "110170",
         "201809",
         "1",
         null
        ],
        [
         "36",
         "110175",
         "201809",
         "1",
         null
        ],
        [
         "37",
         "120001",
         "201809",
         "1",
         "1.0"
        ],
        [
         "38",
         "120005",
         "201809",
         "1",
         null
        ],
        [
         "39",
         "120010",
         "201809",
         "1",
         "1.0"
        ],
        [
         "40",
         "120013",
         "201809",
         "1",
         "1.0"
        ],
        [
         "41",
         "120017",
         "201809",
         "1",
         "1.0"
        ],
        [
         "42",
         "120020",
         "201809",
         "1",
         "1.0"
        ],
        [
         "43",
         "120025",
         "201809",
         "1",
         null
        ],
        [
         "44",
         "120030",
         "201809",
         "1",
         "1.0"
        ],
        [
         "45",
         "120032",
         "201809",
         "1",
         "1.0"
        ],
        [
         "46",
         "120033",
         "201809",
         "1",
         "1.0"
        ],
        [
         "47",
         "120034",
         "201809",
         "1",
         null
        ],
        [
         "48",
         "120035",
         "201809",
         "1",
         "1.0"
        ],
        [
         "49",
         "120038",
         "201809",
         "1",
         "1.0"
        ]
       ],
       "shape": {
        "columns": 4,
        "rows": 52920
       }
      },
      "text/html": [
       "<div>\n",
       "<style scoped>\n",
       "    .dataframe tbody tr th:only-of-type {\n",
       "        vertical-align: middle;\n",
       "    }\n",
       "\n",
       "    .dataframe tbody tr th {\n",
       "        vertical-align: top;\n",
       "    }\n",
       "\n",
       "    .dataframe thead th {\n",
       "        text-align: right;\n",
       "    }\n",
       "</style>\n",
       "<table border=\"1\" class=\"dataframe\">\n",
       "  <thead>\n",
       "    <tr style=\"text-align: right;\">\n",
       "      <th></th>\n",
       "      <th>codigo_ibge</th>\n",
       "      <th>anomes_s</th>\n",
       "      <th>municipios_elegiveis_pcf_i</th>\n",
       "      <th>municipios_adesao_pcf_i</th>\n",
       "    </tr>\n",
       "  </thead>\n",
       "  <tbody>\n",
       "    <tr>\n",
       "      <th>0</th>\n",
       "      <td>110001</td>\n",
       "      <td>201809</td>\n",
       "      <td>1</td>\n",
       "      <td>NaN</td>\n",
       "    </tr>\n",
       "    <tr>\n",
       "      <th>1</th>\n",
       "      <td>110002</td>\n",
       "      <td>201809</td>\n",
       "      <td>1</td>\n",
       "      <td>1.0</td>\n",
       "    </tr>\n",
       "    <tr>\n",
       "      <th>2</th>\n",
       "      <td>110004</td>\n",
       "      <td>201809</td>\n",
       "      <td>1</td>\n",
       "      <td>1.0</td>\n",
       "    </tr>\n",
       "    <tr>\n",
       "      <th>3</th>\n",
       "      <td>110005</td>\n",
       "      <td>201809</td>\n",
       "      <td>1</td>\n",
       "      <td>1.0</td>\n",
       "    </tr>\n",
       "    <tr>\n",
       "      <th>4</th>\n",
       "      <td>110007</td>\n",
       "      <td>201809</td>\n",
       "      <td>1</td>\n",
       "      <td>1.0</td>\n",
       "    </tr>\n",
       "    <tr>\n",
       "      <th>...</th>\n",
       "      <td>...</td>\n",
       "      <td>...</td>\n",
       "      <td>...</td>\n",
       "      <td>...</td>\n",
       "    </tr>\n",
       "    <tr>\n",
       "      <th>52915</th>\n",
       "      <td>522185</td>\n",
       "      <td>201910</td>\n",
       "      <td>1</td>\n",
       "      <td>1.0</td>\n",
       "    </tr>\n",
       "    <tr>\n",
       "      <th>52916</th>\n",
       "      <td>522200</td>\n",
       "      <td>201910</td>\n",
       "      <td>1</td>\n",
       "      <td>1.0</td>\n",
       "    </tr>\n",
       "    <tr>\n",
       "      <th>52917</th>\n",
       "      <td>522205</td>\n",
       "      <td>201910</td>\n",
       "      <td>1</td>\n",
       "      <td>1.0</td>\n",
       "    </tr>\n",
       "    <tr>\n",
       "      <th>52918</th>\n",
       "      <td>522220</td>\n",
       "      <td>201910</td>\n",
       "      <td>1</td>\n",
       "      <td>1.0</td>\n",
       "    </tr>\n",
       "    <tr>\n",
       "      <th>52919</th>\n",
       "      <td>530010</td>\n",
       "      <td>201910</td>\n",
       "      <td>1</td>\n",
       "      <td>1.0</td>\n",
       "    </tr>\n",
       "  </tbody>\n",
       "</table>\n",
       "<p>52920 rows × 4 columns</p>\n",
       "</div>"
      ],
      "text/plain": [
       "       codigo_ibge  anomes_s  municipios_elegiveis_pcf_i  \\\n",
       "0           110001    201809                           1   \n",
       "1           110002    201809                           1   \n",
       "2           110004    201809                           1   \n",
       "3           110005    201809                           1   \n",
       "4           110007    201809                           1   \n",
       "...            ...       ...                         ...   \n",
       "52915       522185    201910                           1   \n",
       "52916       522200    201910                           1   \n",
       "52917       522205    201910                           1   \n",
       "52918       522220    201910                           1   \n",
       "52919       530010    201910                           1   \n",
       "\n",
       "       municipios_adesao_pcf_i  \n",
       "0                          NaN  \n",
       "1                          1.0  \n",
       "2                          1.0  \n",
       "3                          1.0  \n",
       "4                          1.0  \n",
       "...                        ...  \n",
       "52915                      1.0  \n",
       "52916                      1.0  \n",
       "52917                      1.0  \n",
       "52918                      1.0  \n",
       "52919                      1.0  \n",
       "\n",
       "[52920 rows x 4 columns]"
      ]
     },
     "execution_count": 11,
     "metadata": {},
     "output_type": "execute_result"
    }
   ],
   "source": [
    "df_municipios"
   ]
  },
  {
   "cell_type": "code",
   "execution_count": 12,
   "id": "4119bb04",
   "metadata": {},
   "outputs": [
    {
     "name": "stdout",
     "output_type": "stream",
     "text": [
      "=== INFORMAÇÕES DO DATASET PCF ===\n",
      "Período: 2018-01-01 00:00:00 a 2022-06-01 00:00:00\n",
      "Total de registros: 133,159\n",
      "Municípios únicos: 2,981\n",
      "Anos disponíveis: [np.int64(2018), np.int64(2019), np.int64(2020), np.int64(2021), np.int64(2022)]\n",
      "\n",
      "=== ESTATÍSTICAS DESCRITIVAS ===\n",
      "       visitas_criancas  visitas_gestantes  total_visitas\n",
      "count     133159.000000      128945.000000  133159.000000\n",
      "mean         336.783049          15.293862     351.592915\n",
      "std          414.359732          22.154742     426.376899\n",
      "min            0.000000           0.000000       1.000000\n",
      "25%          119.000000           4.000000     129.000000\n",
      "50%          252.000000          10.000000     265.000000\n",
      "75%          398.000000          19.000000     412.000000\n",
      "max        14179.000000         828.000000   14599.000000\n"
     ]
    }
   ],
   "source": [
    "print(\"=== INFORMAÇÕES DO DATASET PCF ===\")\n",
    "print(f\"Período: {df_pcf['data'].min()} a {df_pcf['data'].max()}\")\n",
    "print(f\"Total de registros: {len(df_pcf):,}\")\n",
    "print(f\"Municípios únicos: {df_pcf['codigo_ibge'].nunique():,}\")\n",
    "print(f\"Anos disponíveis: {sorted(df_pcf['ano'].unique())}\")\n",
    "\n",
    "print(\"\\n=== ESTATÍSTICAS DESCRITIVAS ===\")\n",
    "print(df_pcf[['visitas_criancas', 'visitas_gestantes', 'total_visitas']].describe())"
   ]
  },
  {
   "cell_type": "code",
   "execution_count": 13,
   "id": "8f3ff822",
   "metadata": {},
   "outputs": [
    {
     "data": {
      "application/vnd.plotly.v1+json": {
       "config": {
        "plotlyServerURL": "https://plot.ly"
       },
       "data": [
        {
         "line": {
          "color": "blue",
          "width": 2
         },
         "name": "Visitas Crianças",
         "type": "scatter",
         "x": [
          "2018-01-01T00:00:00.000000000",
          "2018-02-01T00:00:00.000000000",
          "2018-03-01T00:00:00.000000000",
          "2018-04-01T00:00:00.000000000",
          "2018-05-01T00:00:00.000000000",
          "2018-06-01T00:00:00.000000000",
          "2018-07-01T00:00:00.000000000",
          "2018-08-01T00:00:00.000000000",
          "2018-09-01T00:00:00.000000000",
          "2018-10-01T00:00:00.000000000",
          "2018-11-01T00:00:00.000000000",
          "2018-12-01T00:00:00.000000000",
          "2019-01-01T00:00:00.000000000",
          "2019-02-01T00:00:00.000000000",
          "2019-03-01T00:00:00.000000000",
          "2019-04-01T00:00:00.000000000",
          "2019-05-01T00:00:00.000000000",
          "2019-06-01T00:00:00.000000000",
          "2019-07-01T00:00:00.000000000",
          "2019-08-01T00:00:00.000000000",
          "2019-09-01T00:00:00.000000000",
          "2019-10-01T00:00:00.000000000",
          "2019-11-01T00:00:00.000000000",
          "2019-12-01T00:00:00.000000000",
          "2020-01-01T00:00:00.000000000",
          "2020-02-01T00:00:00.000000000",
          "2020-03-01T00:00:00.000000000",
          "2020-04-01T00:00:00.000000000",
          "2020-05-01T00:00:00.000000000",
          "2020-06-01T00:00:00.000000000",
          "2020-07-01T00:00:00.000000000",
          "2020-08-01T00:00:00.000000000",
          "2020-09-01T00:00:00.000000000",
          "2020-10-01T00:00:00.000000000",
          "2020-11-01T00:00:00.000000000",
          "2020-12-01T00:00:00.000000000",
          "2021-01-01T00:00:00.000000000",
          "2021-02-01T00:00:00.000000000",
          "2021-03-01T00:00:00.000000000",
          "2021-04-01T00:00:00.000000000",
          "2021-05-01T00:00:00.000000000",
          "2021-06-01T00:00:00.000000000",
          "2021-07-01T00:00:00.000000000",
          "2021-08-01T00:00:00.000000000",
          "2021-09-01T00:00:00.000000000",
          "2021-10-01T00:00:00.000000000",
          "2021-11-01T00:00:00.000000000",
          "2021-12-01T00:00:00.000000000",
          "2022-01-01T00:00:00.000000000",
          "2022-02-01T00:00:00.000000000",
          "2022-03-01T00:00:00.000000000",
          "2022-04-01T00:00:00.000000000",
          "2022-05-01T00:00:00.000000000",
          "2022-06-01T00:00:00.000000000"
         ],
         "xaxis": "x",
         "y": {
          "bdata": "0/4HAB63BwBdyAgAvhQJAMjwCQAm/QkAbO0KABasCwBZQAsAF9YMAHNgDAAGZwwAqrANAFLsDQAeMQ8AT3IQAE3DEQC3uBEAXa4TAA6hEwDonhMARcUUAJ74EwB0yxMAv6gTALwpEwCdNBIAO/wQAN7WEQAsYBMA8PgTANp/EwBCqhQAHa8UAPUFFADfthMADMEEACIuBQAynAUA7dgFAMoIBgDoHwYAwUcGAPluBgAMfwYApokGAISOBgAumAYAOn4GAOO7BgAkywYAnd8GADP/BgB6/QYA",
          "dtype": "i4"
         },
         "yaxis": "y"
        },
        {
         "line": {
          "color": "red",
          "width": 2
         },
         "name": "Visitas Gestantes",
         "type": "scatter",
         "x": [
          "2018-01-01T00:00:00.000000000",
          "2018-02-01T00:00:00.000000000",
          "2018-03-01T00:00:00.000000000",
          "2018-04-01T00:00:00.000000000",
          "2018-05-01T00:00:00.000000000",
          "2018-06-01T00:00:00.000000000",
          "2018-07-01T00:00:00.000000000",
          "2018-08-01T00:00:00.000000000",
          "2018-09-01T00:00:00.000000000",
          "2018-10-01T00:00:00.000000000",
          "2018-11-01T00:00:00.000000000",
          "2018-12-01T00:00:00.000000000",
          "2019-01-01T00:00:00.000000000",
          "2019-02-01T00:00:00.000000000",
          "2019-03-01T00:00:00.000000000",
          "2019-04-01T00:00:00.000000000",
          "2019-05-01T00:00:00.000000000",
          "2019-06-01T00:00:00.000000000",
          "2019-07-01T00:00:00.000000000",
          "2019-08-01T00:00:00.000000000",
          "2019-09-01T00:00:00.000000000",
          "2019-10-01T00:00:00.000000000",
          "2019-11-01T00:00:00.000000000",
          "2019-12-01T00:00:00.000000000",
          "2020-01-01T00:00:00.000000000",
          "2020-02-01T00:00:00.000000000",
          "2020-03-01T00:00:00.000000000",
          "2020-04-01T00:00:00.000000000",
          "2020-05-01T00:00:00.000000000",
          "2020-06-01T00:00:00.000000000",
          "2020-07-01T00:00:00.000000000",
          "2020-08-01T00:00:00.000000000",
          "2020-09-01T00:00:00.000000000",
          "2020-10-01T00:00:00.000000000",
          "2020-11-01T00:00:00.000000000",
          "2020-12-01T00:00:00.000000000",
          "2021-01-01T00:00:00.000000000",
          "2021-02-01T00:00:00.000000000",
          "2021-03-01T00:00:00.000000000",
          "2021-04-01T00:00:00.000000000",
          "2021-05-01T00:00:00.000000000",
          "2021-06-01T00:00:00.000000000",
          "2021-07-01T00:00:00.000000000",
          "2021-08-01T00:00:00.000000000",
          "2021-09-01T00:00:00.000000000",
          "2021-10-01T00:00:00.000000000",
          "2021-11-01T00:00:00.000000000",
          "2021-12-01T00:00:00.000000000",
          "2022-01-01T00:00:00.000000000",
          "2022-02-01T00:00:00.000000000",
          "2022-03-01T00:00:00.000000000",
          "2022-04-01T00:00:00.000000000",
          "2022-05-01T00:00:00.000000000",
          "2022-06-01T00:00:00.000000000"
         ],
         "xaxis": "x",
         "y": {
          "bdata": "AAAAAADz1UAAAAAAQInVQAAAAABAQddAAAAAAIDx10AAAAAAAB/bQAAAAAAAcNtAAAAAAIBE3UAAAAAAgK3fQAAAAAAAIt5AAAAAAEBa30AAAAAAAPXdQAAAAAAA0d1AAAAAAMAG30AAAAAAAB7fQAAAAAAgP+BAAAAAAAAB4UAAAAAAAI/iQAAAAAAgjOJAAAAAAMDs40AAAAAAQBnkQAAAAAAAaORAAAAAAMCO5EAAAAAA4LTjQAAAAACg7eJAAAAAAMD94UAAAAAA4EHiQAAAAACAROJAAAAAAIAT30AAAAAAgI7gQAAAAAAg9OFAAAAAAAAP40AAAAAAIOvjQAAAAAAgJ+ZAAAAAAGB940AAAAAAIDThQAAAAACglOBAAAAAAEB42kAAAAAAgP3eQAAAAAAAE+JAAAAAAEBj40AAAAAAoHTkQAAAAADgfORAAAAAAMDQ5EAAAAAAgJTlQAAAAACgnOVAAAAAAKDb5UAAAAAAIIrlQAAAAABAheRAAAAAAMBi40AAAAAAgPLjQAAAAACg6eRAAAAAAOAU5UAAAAAAgK/lQAAAAADAG+VA",
          "dtype": "f8"
         },
         "yaxis": "y"
        },
        {
         "marker": {
          "color": "green"
         },
         "name": "Taxa de Crescimento (%)",
         "type": "bar",
         "x": [
          "2018-01-01T00:00:00.000000000",
          "2018-02-01T00:00:00.000000000",
          "2018-03-01T00:00:00.000000000",
          "2018-04-01T00:00:00.000000000",
          "2018-05-01T00:00:00.000000000",
          "2018-06-01T00:00:00.000000000",
          "2018-07-01T00:00:00.000000000",
          "2018-08-01T00:00:00.000000000",
          "2018-09-01T00:00:00.000000000",
          "2018-10-01T00:00:00.000000000",
          "2018-11-01T00:00:00.000000000",
          "2018-12-01T00:00:00.000000000",
          "2019-01-01T00:00:00.000000000",
          "2019-02-01T00:00:00.000000000",
          "2019-03-01T00:00:00.000000000",
          "2019-04-01T00:00:00.000000000",
          "2019-05-01T00:00:00.000000000",
          "2019-06-01T00:00:00.000000000",
          "2019-07-01T00:00:00.000000000",
          "2019-08-01T00:00:00.000000000",
          "2019-09-01T00:00:00.000000000",
          "2019-10-01T00:00:00.000000000",
          "2019-11-01T00:00:00.000000000",
          "2019-12-01T00:00:00.000000000",
          "2020-01-01T00:00:00.000000000",
          "2020-02-01T00:00:00.000000000",
          "2020-03-01T00:00:00.000000000",
          "2020-04-01T00:00:00.000000000",
          "2020-05-01T00:00:00.000000000",
          "2020-06-01T00:00:00.000000000",
          "2020-07-01T00:00:00.000000000",
          "2020-08-01T00:00:00.000000000",
          "2020-09-01T00:00:00.000000000",
          "2020-10-01T00:00:00.000000000",
          "2020-11-01T00:00:00.000000000",
          "2020-12-01T00:00:00.000000000",
          "2021-01-01T00:00:00.000000000",
          "2021-02-01T00:00:00.000000000",
          "2021-03-01T00:00:00.000000000",
          "2021-04-01T00:00:00.000000000",
          "2021-05-01T00:00:00.000000000",
          "2021-06-01T00:00:00.000000000",
          "2021-07-01T00:00:00.000000000",
          "2021-08-01T00:00:00.000000000",
          "2021-09-01T00:00:00.000000000",
          "2021-10-01T00:00:00.000000000",
          "2021-11-01T00:00:00.000000000",
          "2021-12-01T00:00:00.000000000",
          "2022-01-01T00:00:00.000000000",
          "2022-02-01T00:00:00.000000000",
          "2022-03-01T00:00:00.000000000",
          "2022-04-01T00:00:00.000000000",
          "2022-05-01T00:00:00.000000000",
          "2022-06-01T00:00:00.000000000"
         ],
         "xaxis": "x2",
         "y": {
          "bdata": "AAAAAAAA+H+p1cVeQH4LwCuw56r4LStAeiQju7gJC0BWn9yfPzsjQBBzKhMnceA/ECiCCWORIkB3+FeDqH0bQFjXgvYuQg3AVnsFfuFdK0D1FhsiVeUMwODOX028Zsc/LLYa+oJOJEDkSL6Mv3b6PwRkhSuK6CFA1iwDcedIIEBAQkiFShQgQJBWHvXEGc2/IRtxy5PiJUBQyVpNY1nNvwA0qIW9rng/QGosWxPMFkAhEkdrR9wOwHBYqfANNO+/HJPsg5Dg6b/LbIZRn0wDwBQGKgvzZhPAWFPAUvvPG8D1cRf9T0gUQGmmr4LkNiFA3o/7YbxUCUALFmJaIFoBwIGtsQlQjxhA0CIyqTdB079EiBPje4ILwPSnmesnjvm/OyTAIFidUsBc8Ii4qjkjQBBUPyOZBiJAp2mkTagGEkAyy1vOnlALQIy7K6sy5PU/0D4yl0OeA0AiHwH2AHEEQHDaEzQDt+w/IFLYwuTo5T/gCYiSJRHAPwD5hfjV6LQ/VOMtXUtC/r/6lDzj9h4NQAgmE5m/hPM/HLFYEfJQ8j/ElakZ3Tf+PyixYUv1ptS/",
          "dtype": "f8"
         },
         "yaxis": "y2"
        }
       ],
       "layout": {
        "annotations": [
         {
          "font": {
           "size": 16
          },
          "showarrow": false,
          "text": "Evolução Mensal das Visitas",
          "x": 0.5,
          "xanchor": "center",
          "xref": "paper",
          "y": 1,
          "yanchor": "bottom",
          "yref": "paper"
         },
         {
          "font": {
           "size": 16
          },
          "showarrow": false,
          "text": "Taxa de Crescimento Mensal",
          "x": 0.5,
          "xanchor": "center",
          "xref": "paper",
          "y": 0.27,
          "yanchor": "bottom",
          "yref": "paper"
         }
        ],
        "height": 800,
        "template": {
         "data": {
          "bar": [
           {
            "error_x": {
             "color": "#2a3f5f"
            },
            "error_y": {
             "color": "#2a3f5f"
            },
            "marker": {
             "line": {
              "color": "#E5ECF6",
              "width": 0.5
             },
             "pattern": {
              "fillmode": "overlay",
              "size": 10,
              "solidity": 0.2
             }
            },
            "type": "bar"
           }
          ],
          "barpolar": [
           {
            "marker": {
             "line": {
              "color": "#E5ECF6",
              "width": 0.5
             },
             "pattern": {
              "fillmode": "overlay",
              "size": 10,
              "solidity": 0.2
             }
            },
            "type": "barpolar"
           }
          ],
          "carpet": [
           {
            "aaxis": {
             "endlinecolor": "#2a3f5f",
             "gridcolor": "white",
             "linecolor": "white",
             "minorgridcolor": "white",
             "startlinecolor": "#2a3f5f"
            },
            "baxis": {
             "endlinecolor": "#2a3f5f",
             "gridcolor": "white",
             "linecolor": "white",
             "minorgridcolor": "white",
             "startlinecolor": "#2a3f5f"
            },
            "type": "carpet"
           }
          ],
          "choropleth": [
           {
            "colorbar": {
             "outlinewidth": 0,
             "ticks": ""
            },
            "type": "choropleth"
           }
          ],
          "contour": [
           {
            "colorbar": {
             "outlinewidth": 0,
             "ticks": ""
            },
            "colorscale": [
             [
              0,
              "#0d0887"
             ],
             [
              0.1111111111111111,
              "#46039f"
             ],
             [
              0.2222222222222222,
              "#7201a8"
             ],
             [
              0.3333333333333333,
              "#9c179e"
             ],
             [
              0.4444444444444444,
              "#bd3786"
             ],
             [
              0.5555555555555556,
              "#d8576b"
             ],
             [
              0.6666666666666666,
              "#ed7953"
             ],
             [
              0.7777777777777778,
              "#fb9f3a"
             ],
             [
              0.8888888888888888,
              "#fdca26"
             ],
             [
              1,
              "#f0f921"
             ]
            ],
            "type": "contour"
           }
          ],
          "contourcarpet": [
           {
            "colorbar": {
             "outlinewidth": 0,
             "ticks": ""
            },
            "type": "contourcarpet"
           }
          ],
          "heatmap": [
           {
            "colorbar": {
             "outlinewidth": 0,
             "ticks": ""
            },
            "colorscale": [
             [
              0,
              "#0d0887"
             ],
             [
              0.1111111111111111,
              "#46039f"
             ],
             [
              0.2222222222222222,
              "#7201a8"
             ],
             [
              0.3333333333333333,
              "#9c179e"
             ],
             [
              0.4444444444444444,
              "#bd3786"
             ],
             [
              0.5555555555555556,
              "#d8576b"
             ],
             [
              0.6666666666666666,
              "#ed7953"
             ],
             [
              0.7777777777777778,
              "#fb9f3a"
             ],
             [
              0.8888888888888888,
              "#fdca26"
             ],
             [
              1,
              "#f0f921"
             ]
            ],
            "type": "heatmap"
           }
          ],
          "histogram": [
           {
            "marker": {
             "pattern": {
              "fillmode": "overlay",
              "size": 10,
              "solidity": 0.2
             }
            },
            "type": "histogram"
           }
          ],
          "histogram2d": [
           {
            "colorbar": {
             "outlinewidth": 0,
             "ticks": ""
            },
            "colorscale": [
             [
              0,
              "#0d0887"
             ],
             [
              0.1111111111111111,
              "#46039f"
             ],
             [
              0.2222222222222222,
              "#7201a8"
             ],
             [
              0.3333333333333333,
              "#9c179e"
             ],
             [
              0.4444444444444444,
              "#bd3786"
             ],
             [
              0.5555555555555556,
              "#d8576b"
             ],
             [
              0.6666666666666666,
              "#ed7953"
             ],
             [
              0.7777777777777778,
              "#fb9f3a"
             ],
             [
              0.8888888888888888,
              "#fdca26"
             ],
             [
              1,
              "#f0f921"
             ]
            ],
            "type": "histogram2d"
           }
          ],
          "histogram2dcontour": [
           {
            "colorbar": {
             "outlinewidth": 0,
             "ticks": ""
            },
            "colorscale": [
             [
              0,
              "#0d0887"
             ],
             [
              0.1111111111111111,
              "#46039f"
             ],
             [
              0.2222222222222222,
              "#7201a8"
             ],
             [
              0.3333333333333333,
              "#9c179e"
             ],
             [
              0.4444444444444444,
              "#bd3786"
             ],
             [
              0.5555555555555556,
              "#d8576b"
             ],
             [
              0.6666666666666666,
              "#ed7953"
             ],
             [
              0.7777777777777778,
              "#fb9f3a"
             ],
             [
              0.8888888888888888,
              "#fdca26"
             ],
             [
              1,
              "#f0f921"
             ]
            ],
            "type": "histogram2dcontour"
           }
          ],
          "mesh3d": [
           {
            "colorbar": {
             "outlinewidth": 0,
             "ticks": ""
            },
            "type": "mesh3d"
           }
          ],
          "parcoords": [
           {
            "line": {
             "colorbar": {
              "outlinewidth": 0,
              "ticks": ""
             }
            },
            "type": "parcoords"
           }
          ],
          "pie": [
           {
            "automargin": true,
            "type": "pie"
           }
          ],
          "scatter": [
           {
            "fillpattern": {
             "fillmode": "overlay",
             "size": 10,
             "solidity": 0.2
            },
            "type": "scatter"
           }
          ],
          "scatter3d": [
           {
            "line": {
             "colorbar": {
              "outlinewidth": 0,
              "ticks": ""
             }
            },
            "marker": {
             "colorbar": {
              "outlinewidth": 0,
              "ticks": ""
             }
            },
            "type": "scatter3d"
           }
          ],
          "scattercarpet": [
           {
            "marker": {
             "colorbar": {
              "outlinewidth": 0,
              "ticks": ""
             }
            },
            "type": "scattercarpet"
           }
          ],
          "scattergeo": [
           {
            "marker": {
             "colorbar": {
              "outlinewidth": 0,
              "ticks": ""
             }
            },
            "type": "scattergeo"
           }
          ],
          "scattergl": [
           {
            "marker": {
             "colorbar": {
              "outlinewidth": 0,
              "ticks": ""
             }
            },
            "type": "scattergl"
           }
          ],
          "scattermap": [
           {
            "marker": {
             "colorbar": {
              "outlinewidth": 0,
              "ticks": ""
             }
            },
            "type": "scattermap"
           }
          ],
          "scattermapbox": [
           {
            "marker": {
             "colorbar": {
              "outlinewidth": 0,
              "ticks": ""
             }
            },
            "type": "scattermapbox"
           }
          ],
          "scatterpolar": [
           {
            "marker": {
             "colorbar": {
              "outlinewidth": 0,
              "ticks": ""
             }
            },
            "type": "scatterpolar"
           }
          ],
          "scatterpolargl": [
           {
            "marker": {
             "colorbar": {
              "outlinewidth": 0,
              "ticks": ""
             }
            },
            "type": "scatterpolargl"
           }
          ],
          "scatterternary": [
           {
            "marker": {
             "colorbar": {
              "outlinewidth": 0,
              "ticks": ""
             }
            },
            "type": "scatterternary"
           }
          ],
          "surface": [
           {
            "colorbar": {
             "outlinewidth": 0,
             "ticks": ""
            },
            "colorscale": [
             [
              0,
              "#0d0887"
             ],
             [
              0.1111111111111111,
              "#46039f"
             ],
             [
              0.2222222222222222,
              "#7201a8"
             ],
             [
              0.3333333333333333,
              "#9c179e"
             ],
             [
              0.4444444444444444,
              "#bd3786"
             ],
             [
              0.5555555555555556,
              "#d8576b"
             ],
             [
              0.6666666666666666,
              "#ed7953"
             ],
             [
              0.7777777777777778,
              "#fb9f3a"
             ],
             [
              0.8888888888888888,
              "#fdca26"
             ],
             [
              1,
              "#f0f921"
             ]
            ],
            "type": "surface"
           }
          ],
          "table": [
           {
            "cells": {
             "fill": {
              "color": "#EBF0F8"
             },
             "line": {
              "color": "white"
             }
            },
            "header": {
             "fill": {
              "color": "#C8D4E3"
             },
             "line": {
              "color": "white"
             }
            },
            "type": "table"
           }
          ]
         },
         "layout": {
          "annotationdefaults": {
           "arrowcolor": "#2a3f5f",
           "arrowhead": 0,
           "arrowwidth": 1
          },
          "autotypenumbers": "strict",
          "coloraxis": {
           "colorbar": {
            "outlinewidth": 0,
            "ticks": ""
           }
          },
          "colorscale": {
           "diverging": [
            [
             0,
             "#8e0152"
            ],
            [
             0.1,
             "#c51b7d"
            ],
            [
             0.2,
             "#de77ae"
            ],
            [
             0.3,
             "#f1b6da"
            ],
            [
             0.4,
             "#fde0ef"
            ],
            [
             0.5,
             "#f7f7f7"
            ],
            [
             0.6,
             "#e6f5d0"
            ],
            [
             0.7,
             "#b8e186"
            ],
            [
             0.8,
             "#7fbc41"
            ],
            [
             0.9,
             "#4d9221"
            ],
            [
             1,
             "#276419"
            ]
           ],
           "sequential": [
            [
             0,
             "#0d0887"
            ],
            [
             0.1111111111111111,
             "#46039f"
            ],
            [
             0.2222222222222222,
             "#7201a8"
            ],
            [
             0.3333333333333333,
             "#9c179e"
            ],
            [
             0.4444444444444444,
             "#bd3786"
            ],
            [
             0.5555555555555556,
             "#d8576b"
            ],
            [
             0.6666666666666666,
             "#ed7953"
            ],
            [
             0.7777777777777778,
             "#fb9f3a"
            ],
            [
             0.8888888888888888,
             "#fdca26"
            ],
            [
             1,
             "#f0f921"
            ]
           ],
           "sequentialminus": [
            [
             0,
             "#0d0887"
            ],
            [
             0.1111111111111111,
             "#46039f"
            ],
            [
             0.2222222222222222,
             "#7201a8"
            ],
            [
             0.3333333333333333,
             "#9c179e"
            ],
            [
             0.4444444444444444,
             "#bd3786"
            ],
            [
             0.5555555555555556,
             "#d8576b"
            ],
            [
             0.6666666666666666,
             "#ed7953"
            ],
            [
             0.7777777777777778,
             "#fb9f3a"
            ],
            [
             0.8888888888888888,
             "#fdca26"
            ],
            [
             1,
             "#f0f921"
            ]
           ]
          },
          "colorway": [
           "#636efa",
           "#EF553B",
           "#00cc96",
           "#ab63fa",
           "#FFA15A",
           "#19d3f3",
           "#FF6692",
           "#B6E880",
           "#FF97FF",
           "#FECB52"
          ],
          "font": {
           "color": "#2a3f5f"
          },
          "geo": {
           "bgcolor": "white",
           "lakecolor": "white",
           "landcolor": "#E5ECF6",
           "showlakes": true,
           "showland": true,
           "subunitcolor": "white"
          },
          "hoverlabel": {
           "align": "left"
          },
          "hovermode": "closest",
          "mapbox": {
           "style": "light"
          },
          "paper_bgcolor": "white",
          "plot_bgcolor": "#E5ECF6",
          "polar": {
           "angularaxis": {
            "gridcolor": "white",
            "linecolor": "white",
            "ticks": ""
           },
           "bgcolor": "#E5ECF6",
           "radialaxis": {
            "gridcolor": "white",
            "linecolor": "white",
            "ticks": ""
           }
          },
          "scene": {
           "xaxis": {
            "backgroundcolor": "#E5ECF6",
            "gridcolor": "white",
            "gridwidth": 2,
            "linecolor": "white",
            "showbackground": true,
            "ticks": "",
            "zerolinecolor": "white"
           },
           "yaxis": {
            "backgroundcolor": "#E5ECF6",
            "gridcolor": "white",
            "gridwidth": 2,
            "linecolor": "white",
            "showbackground": true,
            "ticks": "",
            "zerolinecolor": "white"
           },
           "zaxis": {
            "backgroundcolor": "#E5ECF6",
            "gridcolor": "white",
            "gridwidth": 2,
            "linecolor": "white",
            "showbackground": true,
            "ticks": "",
            "zerolinecolor": "white"
           }
          },
          "shapedefaults": {
           "line": {
            "color": "#2a3f5f"
           }
          },
          "ternary": {
           "aaxis": {
            "gridcolor": "white",
            "linecolor": "white",
            "ticks": ""
           },
           "baxis": {
            "gridcolor": "white",
            "linecolor": "white",
            "ticks": ""
           },
           "bgcolor": "#E5ECF6",
           "caxis": {
            "gridcolor": "white",
            "linecolor": "white",
            "ticks": ""
           }
          },
          "title": {
           "x": 0.05
          },
          "xaxis": {
           "automargin": true,
           "gridcolor": "white",
           "linecolor": "white",
           "ticks": "",
           "title": {
            "standoff": 15
           },
           "zerolinecolor": "white",
           "zerolinewidth": 2
          },
          "yaxis": {
           "automargin": true,
           "gridcolor": "white",
           "linecolor": "white",
           "ticks": "",
           "title": {
            "standoff": 15
           },
           "zerolinecolor": "white",
           "zerolinewidth": 2
          }
         }
        },
        "title": {
         "text": "Análise Temporal do Programa Criança Feliz"
        },
        "xaxis": {
         "anchor": "y",
         "domain": [
          0,
          1
         ]
        },
        "xaxis2": {
         "anchor": "y2",
         "domain": [
          0,
          1
         ],
         "title": {
          "text": "Data"
         }
        },
        "yaxis": {
         "anchor": "x",
         "domain": [
          0.37,
          1
         ],
         "title": {
          "text": "Número de Visitas"
         }
        },
        "yaxis2": {
         "anchor": "x2",
         "domain": [
          0,
          0.27
         ],
         "title": {
          "text": "Crescimento (%)"
         }
        }
       }
      }
     },
     "metadata": {},
     "output_type": "display_data"
    }
   ],
   "source": [
    "df_temporal = df_pcf.groupby('data').agg({\n",
    "    'visitas_criancas': 'sum',\n",
    "    'visitas_gestantes': 'sum',\n",
    "    'total_visitas': 'sum'\n",
    "}).reset_index()\n",
    "\n",
    "# Criar visualização interativa\n",
    "fig = make_subplots(\n",
    "    rows=2, cols=1,\n",
    "    subplot_titles=('Evolução Mensal das Visitas', 'Taxa de Crescimento Mensal'),\n",
    "    vertical_spacing=0.1,\n",
    "    row_heights=[0.7, 0.3]\n",
    ")\n",
    "\n",
    "# Gráfico de linhas\n",
    "fig.add_trace(\n",
    "    go.Scatter(x=df_temporal['data'], y=df_temporal['visitas_criancas'],\n",
    "               name='Visitas Crianças', line=dict(color='blue', width=2)),\n",
    "    row=1, col=1\n",
    ")\n",
    "fig.add_trace(\n",
    "    go.Scatter(x=df_temporal['data'], y=df_temporal['visitas_gestantes'],\n",
    "               name='Visitas Gestantes', line=dict(color='red', width=2)),\n",
    "    row=1, col=1\n",
    ")\n",
    "\n",
    "# Taxa de crescimento\n",
    "df_temporal['crescimento_total'] = df_temporal['total_visitas'].pct_change() * 100\n",
    "fig.add_trace(\n",
    "    go.Bar(x=df_temporal['data'], y=df_temporal['crescimento_total'],\n",
    "           name='Taxa de Crescimento (%)', marker_color='green'),\n",
    "    row=2, col=1\n",
    ")\n",
    "\n",
    "fig.update_layout(height=800, title_text=\"Análise Temporal do Programa Criança Feliz\")\n",
    "fig.update_xaxes(title_text=\"Data\", row=2, col=1)\n",
    "fig.update_yaxes(title_text=\"Número de Visitas\", row=1, col=1)\n",
    "fig.update_yaxes(title_text=\"Crescimento (%)\", row=2, col=1)\n",
    "fig.show()"
   ]
  },
  {
   "cell_type": "code",
   "execution_count": 14,
   "id": "9a371422",
   "metadata": {},
   "outputs": [
    {
     "data": {
      "application/vnd.plotly.v1+json": {
       "config": {
        "plotlyServerURL": "https://plot.ly"
       },
       "data": [
        {
         "hovertemplate": "regiao=Centro-Oeste<br>Ano=%{x}<br>Total de Visitas=%{y}<extra></extra>",
         "legendgroup": "Centro-Oeste",
         "marker": {
          "color": "#636efa",
          "pattern": {
           "shape": ""
          }
         },
         "name": "Centro-Oeste",
         "orientation": "v",
         "showlegend": true,
         "textposition": "auto",
         "type": "bar",
         "x": {
          "bdata": "4gfjB+QH5QfmBw==",
          "dtype": "i2"
         },
         "xaxis": "x",
         "y": {
          "bdata": "+fwGAA9hCgBtVQsAZPsDAJpXAgA=",
          "dtype": "i4"
         },
         "yaxis": "y"
        },
        {
         "hovertemplate": "regiao=Nordeste<br>Ano=%{x}<br>Total de Visitas=%{y}<extra></extra>",
         "legendgroup": "Nordeste",
         "marker": {
          "color": "#EF553B",
          "pattern": {
           "shape": ""
          }
         },
         "name": "Nordeste",
         "orientation": "v",
         "showlegend": true,
         "textposition": "auto",
         "type": "bar",
         "x": {
          "bdata": "4gfjB+QH5QfmBw==",
          "dtype": "i2"
         },
         "xaxis": "x",
         "y": {
          "bdata": "491ZACOnmQDpAqMAJU00ADWOHQA=",
          "dtype": "i4"
         },
         "yaxis": "y"
        },
        {
         "hovertemplate": "regiao=Norte<br>Ano=%{x}<br>Total de Visitas=%{y}<extra></extra>",
         "legendgroup": "Norte",
         "marker": {
          "color": "#00cc96",
          "pattern": {
           "shape": ""
          }
         },
         "name": "Norte",
         "orientation": "v",
         "showlegend": true,
         "textposition": "auto",
         "type": "bar",
         "x": {
          "bdata": "4gfjB+QH5QfmBw==",
          "dtype": "i2"
         },
         "xaxis": "x",
         "y": {
          "bdata": "ro0NAFtRFwDPiBgAB+cIAHEUBQA=",
          "dtype": "i4"
         },
         "yaxis": "y"
        },
        {
         "hovertemplate": "regiao=Sudeste<br>Ano=%{x}<br>Total de Visitas=%{y}<extra></extra>",
         "legendgroup": "Sudeste",
         "marker": {
          "color": "#ab63fa",
          "pattern": {
           "shape": ""
          }
         },
         "name": "Sudeste",
         "orientation": "v",
         "showlegend": true,
         "textposition": "auto",
         "type": "bar",
         "x": {
          "bdata": "4gfjB+QH5QfmBw==",
          "dtype": "i2"
         },
         "xaxis": "x",
         "y": {
          "bdata": "+RURAL8wHQBiriIAdq4MABq4BgA=",
          "dtype": "i4"
         },
         "yaxis": "y"
        },
        {
         "hovertemplate": "regiao=Sul<br>Ano=%{x}<br>Total de Visitas=%{y}<extra></extra>",
         "legendgroup": "Sul",
         "marker": {
          "color": "#FFA15A",
          "pattern": {
           "shape": ""
          }
         },
         "name": "Sul",
         "orientation": "v",
         "showlegend": true,
         "textposition": "auto",
         "type": "bar",
         "x": {
          "bdata": "4gfjB+QH5QfmBw==",
          "dtype": "i2"
         },
         "xaxis": "x",
         "y": {
          "bdata": "q5cCADKSBACSEQUAk+0BACkQAQA=",
          "dtype": "i4"
         },
         "yaxis": "y"
        }
       ],
       "layout": {
        "barmode": "relative",
        "legend": {
         "title": {
          "text": "regiao"
         },
         "tracegroupgap": 0
        },
        "template": {
         "data": {
          "bar": [
           {
            "error_x": {
             "color": "#2a3f5f"
            },
            "error_y": {
             "color": "#2a3f5f"
            },
            "marker": {
             "line": {
              "color": "#E5ECF6",
              "width": 0.5
             },
             "pattern": {
              "fillmode": "overlay",
              "size": 10,
              "solidity": 0.2
             }
            },
            "type": "bar"
           }
          ],
          "barpolar": [
           {
            "marker": {
             "line": {
              "color": "#E5ECF6",
              "width": 0.5
             },
             "pattern": {
              "fillmode": "overlay",
              "size": 10,
              "solidity": 0.2
             }
            },
            "type": "barpolar"
           }
          ],
          "carpet": [
           {
            "aaxis": {
             "endlinecolor": "#2a3f5f",
             "gridcolor": "white",
             "linecolor": "white",
             "minorgridcolor": "white",
             "startlinecolor": "#2a3f5f"
            },
            "baxis": {
             "endlinecolor": "#2a3f5f",
             "gridcolor": "white",
             "linecolor": "white",
             "minorgridcolor": "white",
             "startlinecolor": "#2a3f5f"
            },
            "type": "carpet"
           }
          ],
          "choropleth": [
           {
            "colorbar": {
             "outlinewidth": 0,
             "ticks": ""
            },
            "type": "choropleth"
           }
          ],
          "contour": [
           {
            "colorbar": {
             "outlinewidth": 0,
             "ticks": ""
            },
            "colorscale": [
             [
              0,
              "#0d0887"
             ],
             [
              0.1111111111111111,
              "#46039f"
             ],
             [
              0.2222222222222222,
              "#7201a8"
             ],
             [
              0.3333333333333333,
              "#9c179e"
             ],
             [
              0.4444444444444444,
              "#bd3786"
             ],
             [
              0.5555555555555556,
              "#d8576b"
             ],
             [
              0.6666666666666666,
              "#ed7953"
             ],
             [
              0.7777777777777778,
              "#fb9f3a"
             ],
             [
              0.8888888888888888,
              "#fdca26"
             ],
             [
              1,
              "#f0f921"
             ]
            ],
            "type": "contour"
           }
          ],
          "contourcarpet": [
           {
            "colorbar": {
             "outlinewidth": 0,
             "ticks": ""
            },
            "type": "contourcarpet"
           }
          ],
          "heatmap": [
           {
            "colorbar": {
             "outlinewidth": 0,
             "ticks": ""
            },
            "colorscale": [
             [
              0,
              "#0d0887"
             ],
             [
              0.1111111111111111,
              "#46039f"
             ],
             [
              0.2222222222222222,
              "#7201a8"
             ],
             [
              0.3333333333333333,
              "#9c179e"
             ],
             [
              0.4444444444444444,
              "#bd3786"
             ],
             [
              0.5555555555555556,
              "#d8576b"
             ],
             [
              0.6666666666666666,
              "#ed7953"
             ],
             [
              0.7777777777777778,
              "#fb9f3a"
             ],
             [
              0.8888888888888888,
              "#fdca26"
             ],
             [
              1,
              "#f0f921"
             ]
            ],
            "type": "heatmap"
           }
          ],
          "histogram": [
           {
            "marker": {
             "pattern": {
              "fillmode": "overlay",
              "size": 10,
              "solidity": 0.2
             }
            },
            "type": "histogram"
           }
          ],
          "histogram2d": [
           {
            "colorbar": {
             "outlinewidth": 0,
             "ticks": ""
            },
            "colorscale": [
             [
              0,
              "#0d0887"
             ],
             [
              0.1111111111111111,
              "#46039f"
             ],
             [
              0.2222222222222222,
              "#7201a8"
             ],
             [
              0.3333333333333333,
              "#9c179e"
             ],
             [
              0.4444444444444444,
              "#bd3786"
             ],
             [
              0.5555555555555556,
              "#d8576b"
             ],
             [
              0.6666666666666666,
              "#ed7953"
             ],
             [
              0.7777777777777778,
              "#fb9f3a"
             ],
             [
              0.8888888888888888,
              "#fdca26"
             ],
             [
              1,
              "#f0f921"
             ]
            ],
            "type": "histogram2d"
           }
          ],
          "histogram2dcontour": [
           {
            "colorbar": {
             "outlinewidth": 0,
             "ticks": ""
            },
            "colorscale": [
             [
              0,
              "#0d0887"
             ],
             [
              0.1111111111111111,
              "#46039f"
             ],
             [
              0.2222222222222222,
              "#7201a8"
             ],
             [
              0.3333333333333333,
              "#9c179e"
             ],
             [
              0.4444444444444444,
              "#bd3786"
             ],
             [
              0.5555555555555556,
              "#d8576b"
             ],
             [
              0.6666666666666666,
              "#ed7953"
             ],
             [
              0.7777777777777778,
              "#fb9f3a"
             ],
             [
              0.8888888888888888,
              "#fdca26"
             ],
             [
              1,
              "#f0f921"
             ]
            ],
            "type": "histogram2dcontour"
           }
          ],
          "mesh3d": [
           {
            "colorbar": {
             "outlinewidth": 0,
             "ticks": ""
            },
            "type": "mesh3d"
           }
          ],
          "parcoords": [
           {
            "line": {
             "colorbar": {
              "outlinewidth": 0,
              "ticks": ""
             }
            },
            "type": "parcoords"
           }
          ],
          "pie": [
           {
            "automargin": true,
            "type": "pie"
           }
          ],
          "scatter": [
           {
            "fillpattern": {
             "fillmode": "overlay",
             "size": 10,
             "solidity": 0.2
            },
            "type": "scatter"
           }
          ],
          "scatter3d": [
           {
            "line": {
             "colorbar": {
              "outlinewidth": 0,
              "ticks": ""
             }
            },
            "marker": {
             "colorbar": {
              "outlinewidth": 0,
              "ticks": ""
             }
            },
            "type": "scatter3d"
           }
          ],
          "scattercarpet": [
           {
            "marker": {
             "colorbar": {
              "outlinewidth": 0,
              "ticks": ""
             }
            },
            "type": "scattercarpet"
           }
          ],
          "scattergeo": [
           {
            "marker": {
             "colorbar": {
              "outlinewidth": 0,
              "ticks": ""
             }
            },
            "type": "scattergeo"
           }
          ],
          "scattergl": [
           {
            "marker": {
             "colorbar": {
              "outlinewidth": 0,
              "ticks": ""
             }
            },
            "type": "scattergl"
           }
          ],
          "scattermap": [
           {
            "marker": {
             "colorbar": {
              "outlinewidth": 0,
              "ticks": ""
             }
            },
            "type": "scattermap"
           }
          ],
          "scattermapbox": [
           {
            "marker": {
             "colorbar": {
              "outlinewidth": 0,
              "ticks": ""
             }
            },
            "type": "scattermapbox"
           }
          ],
          "scatterpolar": [
           {
            "marker": {
             "colorbar": {
              "outlinewidth": 0,
              "ticks": ""
             }
            },
            "type": "scatterpolar"
           }
          ],
          "scatterpolargl": [
           {
            "marker": {
             "colorbar": {
              "outlinewidth": 0,
              "ticks": ""
             }
            },
            "type": "scatterpolargl"
           }
          ],
          "scatterternary": [
           {
            "marker": {
             "colorbar": {
              "outlinewidth": 0,
              "ticks": ""
             }
            },
            "type": "scatterternary"
           }
          ],
          "surface": [
           {
            "colorbar": {
             "outlinewidth": 0,
             "ticks": ""
            },
            "colorscale": [
             [
              0,
              "#0d0887"
             ],
             [
              0.1111111111111111,
              "#46039f"
             ],
             [
              0.2222222222222222,
              "#7201a8"
             ],
             [
              0.3333333333333333,
              "#9c179e"
             ],
             [
              0.4444444444444444,
              "#bd3786"
             ],
             [
              0.5555555555555556,
              "#d8576b"
             ],
             [
              0.6666666666666666,
              "#ed7953"
             ],
             [
              0.7777777777777778,
              "#fb9f3a"
             ],
             [
              0.8888888888888888,
              "#fdca26"
             ],
             [
              1,
              "#f0f921"
             ]
            ],
            "type": "surface"
           }
          ],
          "table": [
           {
            "cells": {
             "fill": {
              "color": "#EBF0F8"
             },
             "line": {
              "color": "white"
             }
            },
            "header": {
             "fill": {
              "color": "#C8D4E3"
             },
             "line": {
              "color": "white"
             }
            },
            "type": "table"
           }
          ]
         },
         "layout": {
          "annotationdefaults": {
           "arrowcolor": "#2a3f5f",
           "arrowhead": 0,
           "arrowwidth": 1
          },
          "autotypenumbers": "strict",
          "coloraxis": {
           "colorbar": {
            "outlinewidth": 0,
            "ticks": ""
           }
          },
          "colorscale": {
           "diverging": [
            [
             0,
             "#8e0152"
            ],
            [
             0.1,
             "#c51b7d"
            ],
            [
             0.2,
             "#de77ae"
            ],
            [
             0.3,
             "#f1b6da"
            ],
            [
             0.4,
             "#fde0ef"
            ],
            [
             0.5,
             "#f7f7f7"
            ],
            [
             0.6,
             "#e6f5d0"
            ],
            [
             0.7,
             "#b8e186"
            ],
            [
             0.8,
             "#7fbc41"
            ],
            [
             0.9,
             "#4d9221"
            ],
            [
             1,
             "#276419"
            ]
           ],
           "sequential": [
            [
             0,
             "#0d0887"
            ],
            [
             0.1111111111111111,
             "#46039f"
            ],
            [
             0.2222222222222222,
             "#7201a8"
            ],
            [
             0.3333333333333333,
             "#9c179e"
            ],
            [
             0.4444444444444444,
             "#bd3786"
            ],
            [
             0.5555555555555556,
             "#d8576b"
            ],
            [
             0.6666666666666666,
             "#ed7953"
            ],
            [
             0.7777777777777778,
             "#fb9f3a"
            ],
            [
             0.8888888888888888,
             "#fdca26"
            ],
            [
             1,
             "#f0f921"
            ]
           ],
           "sequentialminus": [
            [
             0,
             "#0d0887"
            ],
            [
             0.1111111111111111,
             "#46039f"
            ],
            [
             0.2222222222222222,
             "#7201a8"
            ],
            [
             0.3333333333333333,
             "#9c179e"
            ],
            [
             0.4444444444444444,
             "#bd3786"
            ],
            [
             0.5555555555555556,
             "#d8576b"
            ],
            [
             0.6666666666666666,
             "#ed7953"
            ],
            [
             0.7777777777777778,
             "#fb9f3a"
            ],
            [
             0.8888888888888888,
             "#fdca26"
            ],
            [
             1,
             "#f0f921"
            ]
           ]
          },
          "colorway": [
           "#636efa",
           "#EF553B",
           "#00cc96",
           "#ab63fa",
           "#FFA15A",
           "#19d3f3",
           "#FF6692",
           "#B6E880",
           "#FF97FF",
           "#FECB52"
          ],
          "font": {
           "color": "#2a3f5f"
          },
          "geo": {
           "bgcolor": "white",
           "lakecolor": "white",
           "landcolor": "#E5ECF6",
           "showlakes": true,
           "showland": true,
           "subunitcolor": "white"
          },
          "hoverlabel": {
           "align": "left"
          },
          "hovermode": "closest",
          "mapbox": {
           "style": "light"
          },
          "paper_bgcolor": "white",
          "plot_bgcolor": "#E5ECF6",
          "polar": {
           "angularaxis": {
            "gridcolor": "white",
            "linecolor": "white",
            "ticks": ""
           },
           "bgcolor": "#E5ECF6",
           "radialaxis": {
            "gridcolor": "white",
            "linecolor": "white",
            "ticks": ""
           }
          },
          "scene": {
           "xaxis": {
            "backgroundcolor": "#E5ECF6",
            "gridcolor": "white",
            "gridwidth": 2,
            "linecolor": "white",
            "showbackground": true,
            "ticks": "",
            "zerolinecolor": "white"
           },
           "yaxis": {
            "backgroundcolor": "#E5ECF6",
            "gridcolor": "white",
            "gridwidth": 2,
            "linecolor": "white",
            "showbackground": true,
            "ticks": "",
            "zerolinecolor": "white"
           },
           "zaxis": {
            "backgroundcolor": "#E5ECF6",
            "gridcolor": "white",
            "gridwidth": 2,
            "linecolor": "white",
            "showbackground": true,
            "ticks": "",
            "zerolinecolor": "white"
           }
          },
          "shapedefaults": {
           "line": {
            "color": "#2a3f5f"
           }
          },
          "ternary": {
           "aaxis": {
            "gridcolor": "white",
            "linecolor": "white",
            "ticks": ""
           },
           "baxis": {
            "gridcolor": "white",
            "linecolor": "white",
            "ticks": ""
           },
           "bgcolor": "#E5ECF6",
           "caxis": {
            "gridcolor": "white",
            "linecolor": "white",
            "ticks": ""
           }
          },
          "title": {
           "x": 0.05
          },
          "xaxis": {
           "automargin": true,
           "gridcolor": "white",
           "linecolor": "white",
           "ticks": "",
           "title": {
            "standoff": 15
           },
           "zerolinecolor": "white",
           "zerolinewidth": 2
          },
          "yaxis": {
           "automargin": true,
           "gridcolor": "white",
           "linecolor": "white",
           "ticks": "",
           "title": {
            "standoff": 15
           },
           "zerolinecolor": "white",
           "zerolinewidth": 2
          }
         }
        },
        "title": {
         "text": "Distribuição Regional das Visitas por Ano"
        },
        "xaxis": {
         "anchor": "y",
         "domain": [
          0,
          1
         ],
         "title": {
          "text": "Ano"
         }
        },
        "yaxis": {
         "anchor": "x",
         "domain": [
          0,
          1
         ],
         "title": {
          "text": "Total de Visitas"
         }
        }
       }
      }
     },
     "metadata": {},
     "output_type": "display_data"
    }
   ],
   "source": [
    "df_municipios_top = df_pcf.groupby('codigo_ibge')['total_visitas'].sum().sort_values(ascending=False).head(20)\n",
    "\n",
    "# Análise por região (primeiro dígito do código IBGE)\n",
    "df_pcf['regiao'] = df_pcf['codigo_ibge'].astype(str).str[0].map({\n",
    "    '1': 'Norte',\n",
    "    '2': 'Nordeste',\n",
    "    '3': 'Sudeste',\n",
    "    '4': 'Sul',\n",
    "    '5': 'Centro-Oeste'\n",
    "})\n",
    "\n",
    "df_regional = df_pcf.groupby(['ano', 'regiao'])['total_visitas'].sum().reset_index()\n",
    "\n",
    "# Visualização por região\n",
    "fig = px.bar(df_regional, x='ano', y='total_visitas', color='regiao',\n",
    "             title='Distribuição Regional das Visitas por Ano',\n",
    "             labels={'total_visitas': 'Total de Visitas', 'ano': 'Ano'})\n",
    "fig.show()\n"
   ]
  },
  {
   "cell_type": "code",
   "execution_count": 15,
   "id": "9f6259d0",
   "metadata": {},
   "outputs": [
    {
     "data": {
      "application/vnd.plotly.v1+json": {
       "config": {
        "plotlyServerURL": "https://plot.ly"
       },
       "data": [
        {
         "hovertemplate": "Mês=%{x}<br>Média de Visitas=%{y}<extra></extra>",
         "legendgroup": "",
         "marker": {
          "color": "#636efa",
          "pattern": {
           "shape": ""
          }
         },
         "name": "",
         "orientation": "v",
         "showlegend": false,
         "textposition": "auto",
         "type": "bar",
         "x": [
          "January",
          "February",
          "March",
          "April",
          "May",
          "June",
          "July",
          "August",
          "September",
          "October",
          "November",
          "December"
         ],
         "xaxis": "x",
         "y": {
          "bdata": "KqiGrYqoc0C/rCMSIw5zQNB/UwQXPHNAfwsi0U2Ac0BshlankDB0QGipaJ33fHRAsLY2yvNkeECL+qZ5BlV4QJ7IaRvMe3hA2U41l0qkeUAhFDONBMV4QByPXtp0q3hA",
          "dtype": "f8"
         },
         "yaxis": "y"
        }
       ],
       "layout": {
        "barmode": "relative",
        "legend": {
         "tracegroupgap": 0
        },
        "template": {
         "data": {
          "bar": [
           {
            "error_x": {
             "color": "#2a3f5f"
            },
            "error_y": {
             "color": "#2a3f5f"
            },
            "marker": {
             "line": {
              "color": "#E5ECF6",
              "width": 0.5
             },
             "pattern": {
              "fillmode": "overlay",
              "size": 10,
              "solidity": 0.2
             }
            },
            "type": "bar"
           }
          ],
          "barpolar": [
           {
            "marker": {
             "line": {
              "color": "#E5ECF6",
              "width": 0.5
             },
             "pattern": {
              "fillmode": "overlay",
              "size": 10,
              "solidity": 0.2
             }
            },
            "type": "barpolar"
           }
          ],
          "carpet": [
           {
            "aaxis": {
             "endlinecolor": "#2a3f5f",
             "gridcolor": "white",
             "linecolor": "white",
             "minorgridcolor": "white",
             "startlinecolor": "#2a3f5f"
            },
            "baxis": {
             "endlinecolor": "#2a3f5f",
             "gridcolor": "white",
             "linecolor": "white",
             "minorgridcolor": "white",
             "startlinecolor": "#2a3f5f"
            },
            "type": "carpet"
           }
          ],
          "choropleth": [
           {
            "colorbar": {
             "outlinewidth": 0,
             "ticks": ""
            },
            "type": "choropleth"
           }
          ],
          "contour": [
           {
            "colorbar": {
             "outlinewidth": 0,
             "ticks": ""
            },
            "colorscale": [
             [
              0,
              "#0d0887"
             ],
             [
              0.1111111111111111,
              "#46039f"
             ],
             [
              0.2222222222222222,
              "#7201a8"
             ],
             [
              0.3333333333333333,
              "#9c179e"
             ],
             [
              0.4444444444444444,
              "#bd3786"
             ],
             [
              0.5555555555555556,
              "#d8576b"
             ],
             [
              0.6666666666666666,
              "#ed7953"
             ],
             [
              0.7777777777777778,
              "#fb9f3a"
             ],
             [
              0.8888888888888888,
              "#fdca26"
             ],
             [
              1,
              "#f0f921"
             ]
            ],
            "type": "contour"
           }
          ],
          "contourcarpet": [
           {
            "colorbar": {
             "outlinewidth": 0,
             "ticks": ""
            },
            "type": "contourcarpet"
           }
          ],
          "heatmap": [
           {
            "colorbar": {
             "outlinewidth": 0,
             "ticks": ""
            },
            "colorscale": [
             [
              0,
              "#0d0887"
             ],
             [
              0.1111111111111111,
              "#46039f"
             ],
             [
              0.2222222222222222,
              "#7201a8"
             ],
             [
              0.3333333333333333,
              "#9c179e"
             ],
             [
              0.4444444444444444,
              "#bd3786"
             ],
             [
              0.5555555555555556,
              "#d8576b"
             ],
             [
              0.6666666666666666,
              "#ed7953"
             ],
             [
              0.7777777777777778,
              "#fb9f3a"
             ],
             [
              0.8888888888888888,
              "#fdca26"
             ],
             [
              1,
              "#f0f921"
             ]
            ],
            "type": "heatmap"
           }
          ],
          "histogram": [
           {
            "marker": {
             "pattern": {
              "fillmode": "overlay",
              "size": 10,
              "solidity": 0.2
             }
            },
            "type": "histogram"
           }
          ],
          "histogram2d": [
           {
            "colorbar": {
             "outlinewidth": 0,
             "ticks": ""
            },
            "colorscale": [
             [
              0,
              "#0d0887"
             ],
             [
              0.1111111111111111,
              "#46039f"
             ],
             [
              0.2222222222222222,
              "#7201a8"
             ],
             [
              0.3333333333333333,
              "#9c179e"
             ],
             [
              0.4444444444444444,
              "#bd3786"
             ],
             [
              0.5555555555555556,
              "#d8576b"
             ],
             [
              0.6666666666666666,
              "#ed7953"
             ],
             [
              0.7777777777777778,
              "#fb9f3a"
             ],
             [
              0.8888888888888888,
              "#fdca26"
             ],
             [
              1,
              "#f0f921"
             ]
            ],
            "type": "histogram2d"
           }
          ],
          "histogram2dcontour": [
           {
            "colorbar": {
             "outlinewidth": 0,
             "ticks": ""
            },
            "colorscale": [
             [
              0,
              "#0d0887"
             ],
             [
              0.1111111111111111,
              "#46039f"
             ],
             [
              0.2222222222222222,
              "#7201a8"
             ],
             [
              0.3333333333333333,
              "#9c179e"
             ],
             [
              0.4444444444444444,
              "#bd3786"
             ],
             [
              0.5555555555555556,
              "#d8576b"
             ],
             [
              0.6666666666666666,
              "#ed7953"
             ],
             [
              0.7777777777777778,
              "#fb9f3a"
             ],
             [
              0.8888888888888888,
              "#fdca26"
             ],
             [
              1,
              "#f0f921"
             ]
            ],
            "type": "histogram2dcontour"
           }
          ],
          "mesh3d": [
           {
            "colorbar": {
             "outlinewidth": 0,
             "ticks": ""
            },
            "type": "mesh3d"
           }
          ],
          "parcoords": [
           {
            "line": {
             "colorbar": {
              "outlinewidth": 0,
              "ticks": ""
             }
            },
            "type": "parcoords"
           }
          ],
          "pie": [
           {
            "automargin": true,
            "type": "pie"
           }
          ],
          "scatter": [
           {
            "fillpattern": {
             "fillmode": "overlay",
             "size": 10,
             "solidity": 0.2
            },
            "type": "scatter"
           }
          ],
          "scatter3d": [
           {
            "line": {
             "colorbar": {
              "outlinewidth": 0,
              "ticks": ""
             }
            },
            "marker": {
             "colorbar": {
              "outlinewidth": 0,
              "ticks": ""
             }
            },
            "type": "scatter3d"
           }
          ],
          "scattercarpet": [
           {
            "marker": {
             "colorbar": {
              "outlinewidth": 0,
              "ticks": ""
             }
            },
            "type": "scattercarpet"
           }
          ],
          "scattergeo": [
           {
            "marker": {
             "colorbar": {
              "outlinewidth": 0,
              "ticks": ""
             }
            },
            "type": "scattergeo"
           }
          ],
          "scattergl": [
           {
            "marker": {
             "colorbar": {
              "outlinewidth": 0,
              "ticks": ""
             }
            },
            "type": "scattergl"
           }
          ],
          "scattermap": [
           {
            "marker": {
             "colorbar": {
              "outlinewidth": 0,
              "ticks": ""
             }
            },
            "type": "scattermap"
           }
          ],
          "scattermapbox": [
           {
            "marker": {
             "colorbar": {
              "outlinewidth": 0,
              "ticks": ""
             }
            },
            "type": "scattermapbox"
           }
          ],
          "scatterpolar": [
           {
            "marker": {
             "colorbar": {
              "outlinewidth": 0,
              "ticks": ""
             }
            },
            "type": "scatterpolar"
           }
          ],
          "scatterpolargl": [
           {
            "marker": {
             "colorbar": {
              "outlinewidth": 0,
              "ticks": ""
             }
            },
            "type": "scatterpolargl"
           }
          ],
          "scatterternary": [
           {
            "marker": {
             "colorbar": {
              "outlinewidth": 0,
              "ticks": ""
             }
            },
            "type": "scatterternary"
           }
          ],
          "surface": [
           {
            "colorbar": {
             "outlinewidth": 0,
             "ticks": ""
            },
            "colorscale": [
             [
              0,
              "#0d0887"
             ],
             [
              0.1111111111111111,
              "#46039f"
             ],
             [
              0.2222222222222222,
              "#7201a8"
             ],
             [
              0.3333333333333333,
              "#9c179e"
             ],
             [
              0.4444444444444444,
              "#bd3786"
             ],
             [
              0.5555555555555556,
              "#d8576b"
             ],
             [
              0.6666666666666666,
              "#ed7953"
             ],
             [
              0.7777777777777778,
              "#fb9f3a"
             ],
             [
              0.8888888888888888,
              "#fdca26"
             ],
             [
              1,
              "#f0f921"
             ]
            ],
            "type": "surface"
           }
          ],
          "table": [
           {
            "cells": {
             "fill": {
              "color": "#EBF0F8"
             },
             "line": {
              "color": "white"
             }
            },
            "header": {
             "fill": {
              "color": "#C8D4E3"
             },
             "line": {
              "color": "white"
             }
            },
            "type": "table"
           }
          ]
         },
         "layout": {
          "annotationdefaults": {
           "arrowcolor": "#2a3f5f",
           "arrowhead": 0,
           "arrowwidth": 1
          },
          "autotypenumbers": "strict",
          "coloraxis": {
           "colorbar": {
            "outlinewidth": 0,
            "ticks": ""
           }
          },
          "colorscale": {
           "diverging": [
            [
             0,
             "#8e0152"
            ],
            [
             0.1,
             "#c51b7d"
            ],
            [
             0.2,
             "#de77ae"
            ],
            [
             0.3,
             "#f1b6da"
            ],
            [
             0.4,
             "#fde0ef"
            ],
            [
             0.5,
             "#f7f7f7"
            ],
            [
             0.6,
             "#e6f5d0"
            ],
            [
             0.7,
             "#b8e186"
            ],
            [
             0.8,
             "#7fbc41"
            ],
            [
             0.9,
             "#4d9221"
            ],
            [
             1,
             "#276419"
            ]
           ],
           "sequential": [
            [
             0,
             "#0d0887"
            ],
            [
             0.1111111111111111,
             "#46039f"
            ],
            [
             0.2222222222222222,
             "#7201a8"
            ],
            [
             0.3333333333333333,
             "#9c179e"
            ],
            [
             0.4444444444444444,
             "#bd3786"
            ],
            [
             0.5555555555555556,
             "#d8576b"
            ],
            [
             0.6666666666666666,
             "#ed7953"
            ],
            [
             0.7777777777777778,
             "#fb9f3a"
            ],
            [
             0.8888888888888888,
             "#fdca26"
            ],
            [
             1,
             "#f0f921"
            ]
           ],
           "sequentialminus": [
            [
             0,
             "#0d0887"
            ],
            [
             0.1111111111111111,
             "#46039f"
            ],
            [
             0.2222222222222222,
             "#7201a8"
            ],
            [
             0.3333333333333333,
             "#9c179e"
            ],
            [
             0.4444444444444444,
             "#bd3786"
            ],
            [
             0.5555555555555556,
             "#d8576b"
            ],
            [
             0.6666666666666666,
             "#ed7953"
            ],
            [
             0.7777777777777778,
             "#fb9f3a"
            ],
            [
             0.8888888888888888,
             "#fdca26"
            ],
            [
             1,
             "#f0f921"
            ]
           ]
          },
          "colorway": [
           "#636efa",
           "#EF553B",
           "#00cc96",
           "#ab63fa",
           "#FFA15A",
           "#19d3f3",
           "#FF6692",
           "#B6E880",
           "#FF97FF",
           "#FECB52"
          ],
          "font": {
           "color": "#2a3f5f"
          },
          "geo": {
           "bgcolor": "white",
           "lakecolor": "white",
           "landcolor": "#E5ECF6",
           "showlakes": true,
           "showland": true,
           "subunitcolor": "white"
          },
          "hoverlabel": {
           "align": "left"
          },
          "hovermode": "closest",
          "mapbox": {
           "style": "light"
          },
          "paper_bgcolor": "white",
          "plot_bgcolor": "#E5ECF6",
          "polar": {
           "angularaxis": {
            "gridcolor": "white",
            "linecolor": "white",
            "ticks": ""
           },
           "bgcolor": "#E5ECF6",
           "radialaxis": {
            "gridcolor": "white",
            "linecolor": "white",
            "ticks": ""
           }
          },
          "scene": {
           "xaxis": {
            "backgroundcolor": "#E5ECF6",
            "gridcolor": "white",
            "gridwidth": 2,
            "linecolor": "white",
            "showbackground": true,
            "ticks": "",
            "zerolinecolor": "white"
           },
           "yaxis": {
            "backgroundcolor": "#E5ECF6",
            "gridcolor": "white",
            "gridwidth": 2,
            "linecolor": "white",
            "showbackground": true,
            "ticks": "",
            "zerolinecolor": "white"
           },
           "zaxis": {
            "backgroundcolor": "#E5ECF6",
            "gridcolor": "white",
            "gridwidth": 2,
            "linecolor": "white",
            "showbackground": true,
            "ticks": "",
            "zerolinecolor": "white"
           }
          },
          "shapedefaults": {
           "line": {
            "color": "#2a3f5f"
           }
          },
          "ternary": {
           "aaxis": {
            "gridcolor": "white",
            "linecolor": "white",
            "ticks": ""
           },
           "baxis": {
            "gridcolor": "white",
            "linecolor": "white",
            "ticks": ""
           },
           "bgcolor": "#E5ECF6",
           "caxis": {
            "gridcolor": "white",
            "linecolor": "white",
            "ticks": ""
           }
          },
          "title": {
           "x": 0.05
          },
          "xaxis": {
           "automargin": true,
           "gridcolor": "white",
           "linecolor": "white",
           "ticks": "",
           "title": {
            "standoff": 15
           },
           "zerolinecolor": "white",
           "zerolinewidth": 2
          },
          "yaxis": {
           "automargin": true,
           "gridcolor": "white",
           "linecolor": "white",
           "ticks": "",
           "title": {
            "standoff": 15
           },
           "zerolinecolor": "white",
           "zerolinewidth": 2
          }
         }
        },
        "title": {
         "text": "Padrão de Sazonalidade Mensal (Média de Visitas)"
        },
        "xaxis": {
         "anchor": "y",
         "domain": [
          0,
          1
         ],
         "title": {
          "text": "Mês"
         }
        },
        "yaxis": {
         "anchor": "x",
         "domain": [
          0,
          1
         ],
         "title": {
          "text": "Média de Visitas"
         }
        }
       }
      }
     },
     "metadata": {},
     "output_type": "display_data"
    }
   ],
   "source": [
    "df_pcf['mes_nome'] = pd.to_datetime(df_pcf['mes'], format='%m').dt.month_name()\n",
    "df_sazonal = df_pcf.groupby(['mes', 'mes_nome'])['total_visitas'].mean().reset_index()\n",
    "df_sazonal = df_sazonal.sort_values('mes')\n",
    "\n",
    "fig = px.bar(df_sazonal, x='mes_nome', y='total_visitas',\n",
    "             title='Padrão de Sazonalidade Mensal (Média de Visitas)',\n",
    "             labels={'total_visitas': 'Média de Visitas', 'mes_nome': 'Mês'})\n",
    "fig.show()"
   ]
  },
  {
   "cell_type": "code",
   "execution_count": 16,
   "id": "1478addc",
   "metadata": {},
   "outputs": [
    {
     "data": {
      "application/vnd.plotly.v1+json": {
       "config": {
        "plotlyServerURL": "https://plot.ly"
       },
       "data": [
        {
         "hovertemplate": "status_adesao=Aderente<br>Data=%{x}<br>Total de Visitas=%{y}<extra></extra>",
         "legendgroup": "Aderente",
         "line": {
          "color": "#636efa",
          "dash": "solid"
         },
         "marker": {
          "symbol": "circle"
         },
         "mode": "lines",
         "name": "Aderente",
         "orientation": "v",
         "showlegend": true,
         "type": "scatter",
         "x": [
          "2018-09-01T00:00:00.000000000",
          "2018-10-01T00:00:00.000000000",
          "2018-11-01T00:00:00.000000000",
          "2018-12-01T00:00:00.000000000",
          "2019-01-01T00:00:00.000000000",
          "2019-02-01T00:00:00.000000000",
          "2019-03-01T00:00:00.000000000",
          "2019-04-01T00:00:00.000000000",
          "2019-05-01T00:00:00.000000000",
          "2019-06-01T00:00:00.000000000",
          "2019-07-01T00:00:00.000000000",
          "2019-08-01T00:00:00.000000000",
          "2019-09-01T00:00:00.000000000",
          "2019-10-01T00:00:00.000000000"
         ],
         "xaxis": "x",
         "y": {
          "bdata": "9WkLAOMQDQARsgwAZ7oMAMUsDgDKaA4AF7MPAFf6EADFVxIAGE0SAMNNFADYQRQAKEIUAHxpFQA=",
          "dtype": "i4"
         },
         "yaxis": "y"
        }
       ],
       "layout": {
        "legend": {
         "title": {
          "text": "status_adesao"
         },
         "tracegroupgap": 0
        },
        "template": {
         "data": {
          "bar": [
           {
            "error_x": {
             "color": "#2a3f5f"
            },
            "error_y": {
             "color": "#2a3f5f"
            },
            "marker": {
             "line": {
              "color": "#E5ECF6",
              "width": 0.5
             },
             "pattern": {
              "fillmode": "overlay",
              "size": 10,
              "solidity": 0.2
             }
            },
            "type": "bar"
           }
          ],
          "barpolar": [
           {
            "marker": {
             "line": {
              "color": "#E5ECF6",
              "width": 0.5
             },
             "pattern": {
              "fillmode": "overlay",
              "size": 10,
              "solidity": 0.2
             }
            },
            "type": "barpolar"
           }
          ],
          "carpet": [
           {
            "aaxis": {
             "endlinecolor": "#2a3f5f",
             "gridcolor": "white",
             "linecolor": "white",
             "minorgridcolor": "white",
             "startlinecolor": "#2a3f5f"
            },
            "baxis": {
             "endlinecolor": "#2a3f5f",
             "gridcolor": "white",
             "linecolor": "white",
             "minorgridcolor": "white",
             "startlinecolor": "#2a3f5f"
            },
            "type": "carpet"
           }
          ],
          "choropleth": [
           {
            "colorbar": {
             "outlinewidth": 0,
             "ticks": ""
            },
            "type": "choropleth"
           }
          ],
          "contour": [
           {
            "colorbar": {
             "outlinewidth": 0,
             "ticks": ""
            },
            "colorscale": [
             [
              0,
              "#0d0887"
             ],
             [
              0.1111111111111111,
              "#46039f"
             ],
             [
              0.2222222222222222,
              "#7201a8"
             ],
             [
              0.3333333333333333,
              "#9c179e"
             ],
             [
              0.4444444444444444,
              "#bd3786"
             ],
             [
              0.5555555555555556,
              "#d8576b"
             ],
             [
              0.6666666666666666,
              "#ed7953"
             ],
             [
              0.7777777777777778,
              "#fb9f3a"
             ],
             [
              0.8888888888888888,
              "#fdca26"
             ],
             [
              1,
              "#f0f921"
             ]
            ],
            "type": "contour"
           }
          ],
          "contourcarpet": [
           {
            "colorbar": {
             "outlinewidth": 0,
             "ticks": ""
            },
            "type": "contourcarpet"
           }
          ],
          "heatmap": [
           {
            "colorbar": {
             "outlinewidth": 0,
             "ticks": ""
            },
            "colorscale": [
             [
              0,
              "#0d0887"
             ],
             [
              0.1111111111111111,
              "#46039f"
             ],
             [
              0.2222222222222222,
              "#7201a8"
             ],
             [
              0.3333333333333333,
              "#9c179e"
             ],
             [
              0.4444444444444444,
              "#bd3786"
             ],
             [
              0.5555555555555556,
              "#d8576b"
             ],
             [
              0.6666666666666666,
              "#ed7953"
             ],
             [
              0.7777777777777778,
              "#fb9f3a"
             ],
             [
              0.8888888888888888,
              "#fdca26"
             ],
             [
              1,
              "#f0f921"
             ]
            ],
            "type": "heatmap"
           }
          ],
          "histogram": [
           {
            "marker": {
             "pattern": {
              "fillmode": "overlay",
              "size": 10,
              "solidity": 0.2
             }
            },
            "type": "histogram"
           }
          ],
          "histogram2d": [
           {
            "colorbar": {
             "outlinewidth": 0,
             "ticks": ""
            },
            "colorscale": [
             [
              0,
              "#0d0887"
             ],
             [
              0.1111111111111111,
              "#46039f"
             ],
             [
              0.2222222222222222,
              "#7201a8"
             ],
             [
              0.3333333333333333,
              "#9c179e"
             ],
             [
              0.4444444444444444,
              "#bd3786"
             ],
             [
              0.5555555555555556,
              "#d8576b"
             ],
             [
              0.6666666666666666,
              "#ed7953"
             ],
             [
              0.7777777777777778,
              "#fb9f3a"
             ],
             [
              0.8888888888888888,
              "#fdca26"
             ],
             [
              1,
              "#f0f921"
             ]
            ],
            "type": "histogram2d"
           }
          ],
          "histogram2dcontour": [
           {
            "colorbar": {
             "outlinewidth": 0,
             "ticks": ""
            },
            "colorscale": [
             [
              0,
              "#0d0887"
             ],
             [
              0.1111111111111111,
              "#46039f"
             ],
             [
              0.2222222222222222,
              "#7201a8"
             ],
             [
              0.3333333333333333,
              "#9c179e"
             ],
             [
              0.4444444444444444,
              "#bd3786"
             ],
             [
              0.5555555555555556,
              "#d8576b"
             ],
             [
              0.6666666666666666,
              "#ed7953"
             ],
             [
              0.7777777777777778,
              "#fb9f3a"
             ],
             [
              0.8888888888888888,
              "#fdca26"
             ],
             [
              1,
              "#f0f921"
             ]
            ],
            "type": "histogram2dcontour"
           }
          ],
          "mesh3d": [
           {
            "colorbar": {
             "outlinewidth": 0,
             "ticks": ""
            },
            "type": "mesh3d"
           }
          ],
          "parcoords": [
           {
            "line": {
             "colorbar": {
              "outlinewidth": 0,
              "ticks": ""
             }
            },
            "type": "parcoords"
           }
          ],
          "pie": [
           {
            "automargin": true,
            "type": "pie"
           }
          ],
          "scatter": [
           {
            "fillpattern": {
             "fillmode": "overlay",
             "size": 10,
             "solidity": 0.2
            },
            "type": "scatter"
           }
          ],
          "scatter3d": [
           {
            "line": {
             "colorbar": {
              "outlinewidth": 0,
              "ticks": ""
             }
            },
            "marker": {
             "colorbar": {
              "outlinewidth": 0,
              "ticks": ""
             }
            },
            "type": "scatter3d"
           }
          ],
          "scattercarpet": [
           {
            "marker": {
             "colorbar": {
              "outlinewidth": 0,
              "ticks": ""
             }
            },
            "type": "scattercarpet"
           }
          ],
          "scattergeo": [
           {
            "marker": {
             "colorbar": {
              "outlinewidth": 0,
              "ticks": ""
             }
            },
            "type": "scattergeo"
           }
          ],
          "scattergl": [
           {
            "marker": {
             "colorbar": {
              "outlinewidth": 0,
              "ticks": ""
             }
            },
            "type": "scattergl"
           }
          ],
          "scattermap": [
           {
            "marker": {
             "colorbar": {
              "outlinewidth": 0,
              "ticks": ""
             }
            },
            "type": "scattermap"
           }
          ],
          "scattermapbox": [
           {
            "marker": {
             "colorbar": {
              "outlinewidth": 0,
              "ticks": ""
             }
            },
            "type": "scattermapbox"
           }
          ],
          "scatterpolar": [
           {
            "marker": {
             "colorbar": {
              "outlinewidth": 0,
              "ticks": ""
             }
            },
            "type": "scatterpolar"
           }
          ],
          "scatterpolargl": [
           {
            "marker": {
             "colorbar": {
              "outlinewidth": 0,
              "ticks": ""
             }
            },
            "type": "scatterpolargl"
           }
          ],
          "scatterternary": [
           {
            "marker": {
             "colorbar": {
              "outlinewidth": 0,
              "ticks": ""
             }
            },
            "type": "scatterternary"
           }
          ],
          "surface": [
           {
            "colorbar": {
             "outlinewidth": 0,
             "ticks": ""
            },
            "colorscale": [
             [
              0,
              "#0d0887"
             ],
             [
              0.1111111111111111,
              "#46039f"
             ],
             [
              0.2222222222222222,
              "#7201a8"
             ],
             [
              0.3333333333333333,
              "#9c179e"
             ],
             [
              0.4444444444444444,
              "#bd3786"
             ],
             [
              0.5555555555555556,
              "#d8576b"
             ],
             [
              0.6666666666666666,
              "#ed7953"
             ],
             [
              0.7777777777777778,
              "#fb9f3a"
             ],
             [
              0.8888888888888888,
              "#fdca26"
             ],
             [
              1,
              "#f0f921"
             ]
            ],
            "type": "surface"
           }
          ],
          "table": [
           {
            "cells": {
             "fill": {
              "color": "#EBF0F8"
             },
             "line": {
              "color": "white"
             }
            },
            "header": {
             "fill": {
              "color": "#C8D4E3"
             },
             "line": {
              "color": "white"
             }
            },
            "type": "table"
           }
          ]
         },
         "layout": {
          "annotationdefaults": {
           "arrowcolor": "#2a3f5f",
           "arrowhead": 0,
           "arrowwidth": 1
          },
          "autotypenumbers": "strict",
          "coloraxis": {
           "colorbar": {
            "outlinewidth": 0,
            "ticks": ""
           }
          },
          "colorscale": {
           "diverging": [
            [
             0,
             "#8e0152"
            ],
            [
             0.1,
             "#c51b7d"
            ],
            [
             0.2,
             "#de77ae"
            ],
            [
             0.3,
             "#f1b6da"
            ],
            [
             0.4,
             "#fde0ef"
            ],
            [
             0.5,
             "#f7f7f7"
            ],
            [
             0.6,
             "#e6f5d0"
            ],
            [
             0.7,
             "#b8e186"
            ],
            [
             0.8,
             "#7fbc41"
            ],
            [
             0.9,
             "#4d9221"
            ],
            [
             1,
             "#276419"
            ]
           ],
           "sequential": [
            [
             0,
             "#0d0887"
            ],
            [
             0.1111111111111111,
             "#46039f"
            ],
            [
             0.2222222222222222,
             "#7201a8"
            ],
            [
             0.3333333333333333,
             "#9c179e"
            ],
            [
             0.4444444444444444,
             "#bd3786"
            ],
            [
             0.5555555555555556,
             "#d8576b"
            ],
            [
             0.6666666666666666,
             "#ed7953"
            ],
            [
             0.7777777777777778,
             "#fb9f3a"
            ],
            [
             0.8888888888888888,
             "#fdca26"
            ],
            [
             1,
             "#f0f921"
            ]
           ],
           "sequentialminus": [
            [
             0,
             "#0d0887"
            ],
            [
             0.1111111111111111,
             "#46039f"
            ],
            [
             0.2222222222222222,
             "#7201a8"
            ],
            [
             0.3333333333333333,
             "#9c179e"
            ],
            [
             0.4444444444444444,
             "#bd3786"
            ],
            [
             0.5555555555555556,
             "#d8576b"
            ],
            [
             0.6666666666666666,
             "#ed7953"
            ],
            [
             0.7777777777777778,
             "#fb9f3a"
            ],
            [
             0.8888888888888888,
             "#fdca26"
            ],
            [
             1,
             "#f0f921"
            ]
           ]
          },
          "colorway": [
           "#636efa",
           "#EF553B",
           "#00cc96",
           "#ab63fa",
           "#FFA15A",
           "#19d3f3",
           "#FF6692",
           "#B6E880",
           "#FF97FF",
           "#FECB52"
          ],
          "font": {
           "color": "#2a3f5f"
          },
          "geo": {
           "bgcolor": "white",
           "lakecolor": "white",
           "landcolor": "#E5ECF6",
           "showlakes": true,
           "showland": true,
           "subunitcolor": "white"
          },
          "hoverlabel": {
           "align": "left"
          },
          "hovermode": "closest",
          "mapbox": {
           "style": "light"
          },
          "paper_bgcolor": "white",
          "plot_bgcolor": "#E5ECF6",
          "polar": {
           "angularaxis": {
            "gridcolor": "white",
            "linecolor": "white",
            "ticks": ""
           },
           "bgcolor": "#E5ECF6",
           "radialaxis": {
            "gridcolor": "white",
            "linecolor": "white",
            "ticks": ""
           }
          },
          "scene": {
           "xaxis": {
            "backgroundcolor": "#E5ECF6",
            "gridcolor": "white",
            "gridwidth": 2,
            "linecolor": "white",
            "showbackground": true,
            "ticks": "",
            "zerolinecolor": "white"
           },
           "yaxis": {
            "backgroundcolor": "#E5ECF6",
            "gridcolor": "white",
            "gridwidth": 2,
            "linecolor": "white",
            "showbackground": true,
            "ticks": "",
            "zerolinecolor": "white"
           },
           "zaxis": {
            "backgroundcolor": "#E5ECF6",
            "gridcolor": "white",
            "gridwidth": 2,
            "linecolor": "white",
            "showbackground": true,
            "ticks": "",
            "zerolinecolor": "white"
           }
          },
          "shapedefaults": {
           "line": {
            "color": "#2a3f5f"
           }
          },
          "ternary": {
           "aaxis": {
            "gridcolor": "white",
            "linecolor": "white",
            "ticks": ""
           },
           "baxis": {
            "gridcolor": "white",
            "linecolor": "white",
            "ticks": ""
           },
           "bgcolor": "#E5ECF6",
           "caxis": {
            "gridcolor": "white",
            "linecolor": "white",
            "ticks": ""
           }
          },
          "title": {
           "x": 0.05
          },
          "xaxis": {
           "automargin": true,
           "gridcolor": "white",
           "linecolor": "white",
           "ticks": "",
           "title": {
            "standoff": 15
           },
           "zerolinecolor": "white",
           "zerolinewidth": 2
          },
          "yaxis": {
           "automargin": true,
           "gridcolor": "white",
           "linecolor": "white",
           "ticks": "",
           "title": {
            "standoff": 15
           },
           "zerolinecolor": "white",
           "zerolinewidth": 2
          }
         }
        },
        "title": {
         "text": "Comparação: Municípios Aderentes vs Não Aderentes"
        },
        "xaxis": {
         "anchor": "y",
         "domain": [
          0,
          1
         ],
         "title": {
          "text": "Data"
         }
        },
        "yaxis": {
         "anchor": "x",
         "domain": [
          0,
          1
         ],
         "title": {
          "text": "Total de Visitas"
         }
        }
       }
      }
     },
     "metadata": {},
     "output_type": "display_data"
    }
   ],
   "source": [
    "df_analise = pd.merge(\n",
    "    df_pcf,\n",
    "    df_municipios[['codigo_ibge', 'anomes_s', 'municipios_adesao_pcf_i']],\n",
    "    on=['codigo_ibge', 'anomes_s'],\n",
    "    how='left'\n",
    ")\n",
    "\n",
    "# Análise de adesão\n",
    "df_adesao = df_analise.groupby(['data', 'municipios_adesao_pcf_i'])['total_visitas'].sum().reset_index()\n",
    "df_adesao['status_adesao'] = df_adesao['municipios_adesao_pcf_i'].map({\n",
    "    1.0: 'Aderente',\n",
    "    0.0: 'Não Aderente'\n",
    "}).fillna('Sem informação')\n",
    "\n",
    "fig = px.line(df_adesao[df_adesao['status_adesao'] != 'Sem informação'], \n",
    "              x='data', y='total_visitas', color='status_adesao',\n",
    "              title='Comparação: Municípios Aderentes vs Não Aderentes',\n",
    "              labels={'total_visitas': 'Total de Visitas', 'data': 'Data'})\n",
    "fig.show()"
   ]
  },
  {
   "cell_type": "code",
   "execution_count": 17,
   "id": "72088522",
   "metadata": {},
   "outputs": [
    {
     "data": {
      "application/vnd.microsoft.datawrangler.viewer.v0+json": {
       "columns": [
        {
         "name": "index",
         "rawType": "int64",
         "type": "integer"
        },
        {
         "name": "codigo_ibge",
         "rawType": "int64",
         "type": "integer"
        },
        {
         "name": "anomes_s",
         "rawType": "int64",
         "type": "integer"
        },
        {
         "name": "visitas_criancas",
         "rawType": "int64",
         "type": "integer"
        },
        {
         "name": "visitas_gestantes",
         "rawType": "float64",
         "type": "float"
        },
        {
         "name": "total_visitas",
         "rawType": "int64",
         "type": "integer"
        },
        {
         "name": "ano",
         "rawType": "int64",
         "type": "integer"
        },
        {
         "name": "mes",
         "rawType": "int64",
         "type": "integer"
        },
        {
         "name": "data",
         "rawType": "datetime64[ns]",
         "type": "datetime"
        },
        {
         "name": "regiao",
         "rawType": "object",
         "type": "string"
        },
        {
         "name": "mes_nome",
         "rawType": "object",
         "type": "string"
        },
        {
         "name": "municipios_adesao_pcf_i",
         "rawType": "float64",
         "type": "float"
        }
       ],
       "conversionMethod": "pd.DataFrame",
       "ref": "c223bc3b-ca74-4530-873b-1934d77710eb",
       "rows": [
        [
         "0",
         "110005",
         "201801",
         "204",
         "33.0",
         "237",
         "2018",
         "1",
         "2018-01-01 00:00:00",
         "Norte",
         "January",
         null
        ],
        [
         "1",
         "110007",
         "201801",
         "1",
         "0.0",
         "1",
         "2018",
         "1",
         "2018-01-01 00:00:00",
         "Norte",
         "January",
         null
        ],
        [
         "2",
         "110009",
         "201801",
         "52",
         "1.0",
         "53",
         "2018",
         "1",
         "2018-01-01 00:00:00",
         "Norte",
         "January",
         null
        ],
        [
         "3",
         "110025",
         "201801",
         "173",
         "6.0",
         "179",
         "2018",
         "1",
         "2018-01-01 00:00:00",
         "Norte",
         "January",
         null
        ],
        [
         "4",
         "110070",
         "201801",
         "113",
         "7.0",
         "120",
         "2018",
         "1",
         "2018-01-01 00:00:00",
         "Norte",
         "January",
         null
        ],
        [
         "5",
         "110080",
         "201801",
         "34",
         "0.0",
         "34",
         "2018",
         "1",
         "2018-01-01 00:00:00",
         "Norte",
         "January",
         null
        ],
        [
         "6",
         "110092",
         "201801",
         "87",
         "8.0",
         "95",
         "2018",
         "1",
         "2018-01-01 00:00:00",
         "Norte",
         "January",
         null
        ],
        [
         "7",
         "110094",
         "201801",
         "9",
         "0.0",
         "9",
         "2018",
         "1",
         "2018-01-01 00:00:00",
         "Norte",
         "January",
         null
        ],
        [
         "8",
         "110149",
         "201801",
         "332",
         "0.0",
         "332",
         "2018",
         "1",
         "2018-01-01 00:00:00",
         "Norte",
         "January",
         null
        ],
        [
         "9",
         "120010",
         "201801",
         "327",
         "45.0",
         "372",
         "2018",
         "1",
         "2018-01-01 00:00:00",
         "Norte",
         "January",
         null
        ],
        [
         "10",
         "120013",
         "201801",
         "1",
         "0.0",
         "1",
         "2018",
         "1",
         "2018-01-01 00:00:00",
         "Norte",
         "January",
         null
        ],
        [
         "11",
         "120017",
         "201801",
         "41",
         "9.0",
         "50",
         "2018",
         "1",
         "2018-01-01 00:00:00",
         "Norte",
         "January",
         null
        ],
        [
         "12",
         "120020",
         "201801",
         "739",
         "68.0",
         "807",
         "2018",
         "1",
         "2018-01-01 00:00:00",
         "Norte",
         "January",
         null
        ],
        [
         "13",
         "120032",
         "201801",
         "242",
         "21.0",
         "263",
         "2018",
         "1",
         "2018-01-01 00:00:00",
         "Norte",
         "January",
         null
        ],
        [
         "14",
         "120033",
         "201801",
         "187",
         "22.0",
         "209",
         "2018",
         "1",
         "2018-01-01 00:00:00",
         "Norte",
         "January",
         null
        ],
        [
         "15",
         "120035",
         "201801",
         "305",
         "35.0",
         "340",
         "2018",
         "1",
         "2018-01-01 00:00:00",
         "Norte",
         "January",
         null
        ],
        [
         "16",
         "120038",
         "201801",
         "381",
         "37.0",
         "418",
         "2018",
         "1",
         "2018-01-01 00:00:00",
         "Norte",
         "January",
         null
        ],
        [
         "17",
         "120039",
         "201801",
         "183",
         "16.0",
         "199",
         "2018",
         "1",
         "2018-01-01 00:00:00",
         "Norte",
         "January",
         null
        ],
        [
         "18",
         "120040",
         "201801",
         "18",
         "2.0",
         "20",
         "2018",
         "1",
         "2018-01-01 00:00:00",
         "Norte",
         "January",
         null
        ],
        [
         "19",
         "120042",
         "201801",
         "189",
         "13.0",
         "202",
         "2018",
         "1",
         "2018-01-01 00:00:00",
         "Norte",
         "January",
         null
        ],
        [
         "20",
         "120043",
         "201801",
         "224",
         "18.0",
         "242",
         "2018",
         "1",
         "2018-01-01 00:00:00",
         "Norte",
         "January",
         null
        ],
        [
         "21",
         "120060",
         "201801",
         "256",
         "4.0",
         "260",
         "2018",
         "1",
         "2018-01-01 00:00:00",
         "Norte",
         "January",
         null
        ],
        [
         "22",
         "120080",
         "201801",
         "135",
         "13.0",
         "148",
         "2018",
         "1",
         "2018-01-01 00:00:00",
         "Norte",
         "January",
         null
        ],
        [
         "23",
         "130002",
         "201801",
         "283",
         "18.0",
         "301",
         "2018",
         "1",
         "2018-01-01 00:00:00",
         "Norte",
         "January",
         null
        ],
        [
         "24",
         "130008",
         "201801",
         "321",
         "27.0",
         "348",
         "2018",
         "1",
         "2018-01-01 00:00:00",
         "Norte",
         "January",
         null
        ],
        [
         "25",
         "130020",
         "201801",
         "236",
         "4.0",
         "240",
         "2018",
         "1",
         "2018-01-01 00:00:00",
         "Norte",
         "January",
         null
        ],
        [
         "26",
         "130030",
         "201801",
         "404",
         "4.0",
         "408",
         "2018",
         "1",
         "2018-01-01 00:00:00",
         "Norte",
         "January",
         null
        ],
        [
         "27",
         "130050",
         "201801",
         "96",
         "1.0",
         "97",
         "2018",
         "1",
         "2018-01-01 00:00:00",
         "Norte",
         "January",
         null
        ],
        [
         "28",
         "130060",
         "201801",
         "135",
         "43.0",
         "178",
         "2018",
         "1",
         "2018-01-01 00:00:00",
         "Norte",
         "January",
         null
        ],
        [
         "29",
         "130063",
         "201801",
         "340",
         "9.0",
         "349",
         "2018",
         "1",
         "2018-01-01 00:00:00",
         "Norte",
         "January",
         null
        ],
        [
         "30",
         "130068",
         "201801",
         "143",
         "18.0",
         "161",
         "2018",
         "1",
         "2018-01-01 00:00:00",
         "Norte",
         "January",
         null
        ],
        [
         "31",
         "130080",
         "201801",
         "432",
         "5.0",
         "437",
         "2018",
         "1",
         "2018-01-01 00:00:00",
         "Norte",
         "January",
         null
        ],
        [
         "32",
         "130090",
         "201801",
         "273",
         "26.0",
         "299",
         "2018",
         "1",
         "2018-01-01 00:00:00",
         "Norte",
         "January",
         null
        ],
        [
         "33",
         "130100",
         "201801",
         "173",
         "9.0",
         "182",
         "2018",
         "1",
         "2018-01-01 00:00:00",
         "Norte",
         "January",
         null
        ],
        [
         "34",
         "130115",
         "201801",
         "277",
         "21.0",
         "298",
         "2018",
         "1",
         "2018-01-01 00:00:00",
         "Norte",
         "January",
         null
        ],
        [
         "35",
         "130120",
         "201801",
         "538",
         "8.0",
         "546",
         "2018",
         "1",
         "2018-01-01 00:00:00",
         "Norte",
         "January",
         null
        ],
        [
         "36",
         "130160",
         "201801",
         "312",
         "36.0",
         "348",
         "2018",
         "1",
         "2018-01-01 00:00:00",
         "Norte",
         "January",
         null
        ],
        [
         "37",
         "130165",
         "201801",
         "359",
         "4.0",
         "363",
         "2018",
         "1",
         "2018-01-01 00:00:00",
         "Norte",
         "January",
         null
        ],
        [
         "38",
         "130170",
         "201801",
         "337",
         "25.0",
         "362",
         "2018",
         "1",
         "2018-01-01 00:00:00",
         "Norte",
         "January",
         null
        ],
        [
         "39",
         "130180",
         "201801",
         "220",
         "17.0",
         "237",
         "2018",
         "1",
         "2018-01-01 00:00:00",
         "Norte",
         "January",
         null
        ],
        [
         "40",
         "130185",
         "201801",
         "584",
         "0.0",
         "584",
         "2018",
         "1",
         "2018-01-01 00:00:00",
         "Norte",
         "January",
         null
        ],
        [
         "41",
         "130190",
         "201801",
         "677",
         "17.0",
         "694",
         "2018",
         "1",
         "2018-01-01 00:00:00",
         "Norte",
         "January",
         null
        ],
        [
         "42",
         "130195",
         "201801",
         "75",
         "3.0",
         "78",
         "2018",
         "1",
         "2018-01-01 00:00:00",
         "Norte",
         "January",
         null
        ],
        [
         "43",
         "130200",
         "201801",
         "221",
         "5.0",
         "226",
         "2018",
         "1",
         "2018-01-01 00:00:00",
         "Norte",
         "January",
         null
        ],
        [
         "44",
         "130210",
         "201801",
         "280",
         "2.0",
         "282",
         "2018",
         "1",
         "2018-01-01 00:00:00",
         "Norte",
         "January",
         null
        ],
        [
         "45",
         "130220",
         "201801",
         "384",
         "3.0",
         "387",
         "2018",
         "1",
         "2018-01-01 00:00:00",
         "Norte",
         "January",
         null
        ],
        [
         "46",
         "130250",
         "201801",
         "752",
         "0.0",
         "752",
         "2018",
         "1",
         "2018-01-01 00:00:00",
         "Norte",
         "January",
         null
        ],
        [
         "47",
         "130255",
         "201801",
         "204",
         "10.0",
         "214",
         "2018",
         "1",
         "2018-01-01 00:00:00",
         "Norte",
         "January",
         null
        ],
        [
         "48",
         "130270",
         "201801",
         "107",
         "6.0",
         "113",
         "2018",
         "1",
         "2018-01-01 00:00:00",
         "Norte",
         "January",
         null
        ],
        [
         "49",
         "130280",
         "201801",
         "91",
         "0.0",
         "91",
         "2018",
         "1",
         "2018-01-01 00:00:00",
         "Norte",
         "January",
         null
        ]
       ],
       "shape": {
        "columns": 11,
        "rows": 133159
       }
      },
      "text/html": [
       "<div>\n",
       "<style scoped>\n",
       "    .dataframe tbody tr th:only-of-type {\n",
       "        vertical-align: middle;\n",
       "    }\n",
       "\n",
       "    .dataframe tbody tr th {\n",
       "        vertical-align: top;\n",
       "    }\n",
       "\n",
       "    .dataframe thead th {\n",
       "        text-align: right;\n",
       "    }\n",
       "</style>\n",
       "<table border=\"1\" class=\"dataframe\">\n",
       "  <thead>\n",
       "    <tr style=\"text-align: right;\">\n",
       "      <th></th>\n",
       "      <th>codigo_ibge</th>\n",
       "      <th>anomes_s</th>\n",
       "      <th>visitas_criancas</th>\n",
       "      <th>visitas_gestantes</th>\n",
       "      <th>total_visitas</th>\n",
       "      <th>ano</th>\n",
       "      <th>mes</th>\n",
       "      <th>data</th>\n",
       "      <th>regiao</th>\n",
       "      <th>mes_nome</th>\n",
       "      <th>municipios_adesao_pcf_i</th>\n",
       "    </tr>\n",
       "  </thead>\n",
       "  <tbody>\n",
       "    <tr>\n",
       "      <th>0</th>\n",
       "      <td>110005</td>\n",
       "      <td>201801</td>\n",
       "      <td>204</td>\n",
       "      <td>33.0</td>\n",
       "      <td>237</td>\n",
       "      <td>2018</td>\n",
       "      <td>1</td>\n",
       "      <td>2018-01-01</td>\n",
       "      <td>Norte</td>\n",
       "      <td>January</td>\n",
       "      <td>NaN</td>\n",
       "    </tr>\n",
       "    <tr>\n",
       "      <th>1</th>\n",
       "      <td>110007</td>\n",
       "      <td>201801</td>\n",
       "      <td>1</td>\n",
       "      <td>0.0</td>\n",
       "      <td>1</td>\n",
       "      <td>2018</td>\n",
       "      <td>1</td>\n",
       "      <td>2018-01-01</td>\n",
       "      <td>Norte</td>\n",
       "      <td>January</td>\n",
       "      <td>NaN</td>\n",
       "    </tr>\n",
       "    <tr>\n",
       "      <th>2</th>\n",
       "      <td>110009</td>\n",
       "      <td>201801</td>\n",
       "      <td>52</td>\n",
       "      <td>1.0</td>\n",
       "      <td>53</td>\n",
       "      <td>2018</td>\n",
       "      <td>1</td>\n",
       "      <td>2018-01-01</td>\n",
       "      <td>Norte</td>\n",
       "      <td>January</td>\n",
       "      <td>NaN</td>\n",
       "    </tr>\n",
       "    <tr>\n",
       "      <th>3</th>\n",
       "      <td>110025</td>\n",
       "      <td>201801</td>\n",
       "      <td>173</td>\n",
       "      <td>6.0</td>\n",
       "      <td>179</td>\n",
       "      <td>2018</td>\n",
       "      <td>1</td>\n",
       "      <td>2018-01-01</td>\n",
       "      <td>Norte</td>\n",
       "      <td>January</td>\n",
       "      <td>NaN</td>\n",
       "    </tr>\n",
       "    <tr>\n",
       "      <th>4</th>\n",
       "      <td>110070</td>\n",
       "      <td>201801</td>\n",
       "      <td>113</td>\n",
       "      <td>7.0</td>\n",
       "      <td>120</td>\n",
       "      <td>2018</td>\n",
       "      <td>1</td>\n",
       "      <td>2018-01-01</td>\n",
       "      <td>Norte</td>\n",
       "      <td>January</td>\n",
       "      <td>NaN</td>\n",
       "    </tr>\n",
       "    <tr>\n",
       "      <th>...</th>\n",
       "      <td>...</td>\n",
       "      <td>...</td>\n",
       "      <td>...</td>\n",
       "      <td>...</td>\n",
       "      <td>...</td>\n",
       "      <td>...</td>\n",
       "      <td>...</td>\n",
       "      <td>...</td>\n",
       "      <td>...</td>\n",
       "      <td>...</td>\n",
       "      <td>...</td>\n",
       "    </tr>\n",
       "    <tr>\n",
       "      <th>133154</th>\n",
       "      <td>522185</td>\n",
       "      <td>202201</td>\n",
       "      <td>154</td>\n",
       "      <td>8.0</td>\n",
       "      <td>162</td>\n",
       "      <td>2022</td>\n",
       "      <td>1</td>\n",
       "      <td>2022-01-01</td>\n",
       "      <td>Centro-Oeste</td>\n",
       "      <td>January</td>\n",
       "      <td>NaN</td>\n",
       "    </tr>\n",
       "    <tr>\n",
       "      <th>133155</th>\n",
       "      <td>522200</td>\n",
       "      <td>202201</td>\n",
       "      <td>87</td>\n",
       "      <td>15.0</td>\n",
       "      <td>102</td>\n",
       "      <td>2022</td>\n",
       "      <td>1</td>\n",
       "      <td>2022-01-01</td>\n",
       "      <td>Centro-Oeste</td>\n",
       "      <td>January</td>\n",
       "      <td>NaN</td>\n",
       "    </tr>\n",
       "    <tr>\n",
       "      <th>133156</th>\n",
       "      <td>522205</td>\n",
       "      <td>202201</td>\n",
       "      <td>94</td>\n",
       "      <td>11.0</td>\n",
       "      <td>105</td>\n",
       "      <td>2022</td>\n",
       "      <td>1</td>\n",
       "      <td>2022-01-01</td>\n",
       "      <td>Centro-Oeste</td>\n",
       "      <td>January</td>\n",
       "      <td>NaN</td>\n",
       "    </tr>\n",
       "    <tr>\n",
       "      <th>133157</th>\n",
       "      <td>522220</td>\n",
       "      <td>202201</td>\n",
       "      <td>36</td>\n",
       "      <td>NaN</td>\n",
       "      <td>36</td>\n",
       "      <td>2022</td>\n",
       "      <td>1</td>\n",
       "      <td>2022-01-01</td>\n",
       "      <td>Centro-Oeste</td>\n",
       "      <td>January</td>\n",
       "      <td>NaN</td>\n",
       "    </tr>\n",
       "    <tr>\n",
       "      <th>133158</th>\n",
       "      <td>530010</td>\n",
       "      <td>202201</td>\n",
       "      <td>2825</td>\n",
       "      <td>201.0</td>\n",
       "      <td>3026</td>\n",
       "      <td>2022</td>\n",
       "      <td>1</td>\n",
       "      <td>2022-01-01</td>\n",
       "      <td>Centro-Oeste</td>\n",
       "      <td>January</td>\n",
       "      <td>NaN</td>\n",
       "    </tr>\n",
       "  </tbody>\n",
       "</table>\n",
       "<p>133159 rows × 11 columns</p>\n",
       "</div>"
      ],
      "text/plain": [
       "        codigo_ibge  anomes_s  visitas_criancas  visitas_gestantes  \\\n",
       "0            110005    201801               204               33.0   \n",
       "1            110007    201801                 1                0.0   \n",
       "2            110009    201801                52                1.0   \n",
       "3            110025    201801               173                6.0   \n",
       "4            110070    201801               113                7.0   \n",
       "...             ...       ...               ...                ...   \n",
       "133154       522185    202201               154                8.0   \n",
       "133155       522200    202201                87               15.0   \n",
       "133156       522205    202201                94               11.0   \n",
       "133157       522220    202201                36                NaN   \n",
       "133158       530010    202201              2825              201.0   \n",
       "\n",
       "        total_visitas   ano  mes       data        regiao mes_nome  \\\n",
       "0                 237  2018    1 2018-01-01         Norte  January   \n",
       "1                   1  2018    1 2018-01-01         Norte  January   \n",
       "2                  53  2018    1 2018-01-01         Norte  January   \n",
       "3                 179  2018    1 2018-01-01         Norte  January   \n",
       "4                 120  2018    1 2018-01-01         Norte  January   \n",
       "...               ...   ...  ...        ...           ...      ...   \n",
       "133154            162  2022    1 2022-01-01  Centro-Oeste  January   \n",
       "133155            102  2022    1 2022-01-01  Centro-Oeste  January   \n",
       "133156            105  2022    1 2022-01-01  Centro-Oeste  January   \n",
       "133157             36  2022    1 2022-01-01  Centro-Oeste  January   \n",
       "133158           3026  2022    1 2022-01-01  Centro-Oeste  January   \n",
       "\n",
       "        municipios_adesao_pcf_i  \n",
       "0                           NaN  \n",
       "1                           NaN  \n",
       "2                           NaN  \n",
       "3                           NaN  \n",
       "4                           NaN  \n",
       "...                         ...  \n",
       "133154                      NaN  \n",
       "133155                      NaN  \n",
       "133156                      NaN  \n",
       "133157                      NaN  \n",
       "133158                      NaN  \n",
       "\n",
       "[133159 rows x 11 columns]"
      ]
     },
     "execution_count": 17,
     "metadata": {},
     "output_type": "execute_result"
    }
   ],
   "source": [
    "df_analise"
   ]
  },
  {
   "cell_type": "code",
   "execution_count": 18,
   "id": "1469e4a3",
   "metadata": {},
   "outputs": [],
   "source": [
    "def create_temporal_features(df):\n",
    "    \"\"\"Cria features temporais para melhorar a performance dos modelos\"\"\"\n",
    "    df = df.copy()\n",
    "    \n",
    "    # Features básicas\n",
    "    df['trimestre'] = df['mes'].apply(lambda x: (x-1)//3 + 1)\n",
    "    df['semestre'] = df['mes'].apply(lambda x: 1 if x <= 6 else 2)\n",
    "    df['dia_ano'] = df['data'].dt.dayofyear\n",
    "    df['semana_ano'] = df['data'].dt.isocalendar().week\n",
    "    \n",
    "    # Features cíclicas (seno e cosseno para capturar padrões circulares)\n",
    "    df['mes_sin'] = np.sin(2 * np.pi * df['mes'] / 12)\n",
    "    df['mes_cos'] = np.cos(2 * np.pi * df['mes'] / 12)\n",
    "    df['trimestre_sin'] = np.sin(2 * np.pi * df['trimestre'] / 4)\n",
    "    df['trimestre_cos'] = np.cos(2 * np.pi * df['trimestre'] / 4)\n",
    "    \n",
    "    return df\n",
    "\n",
    "# Função para criar lags (valores passados)\n",
    "def create_lag_features(df, columns, lags):\n",
    "    \"\"\"Cria features de lag para as colunas especificadas\"\"\"\n",
    "    df = df.copy()\n",
    "    \n",
    "    for col in columns:\n",
    "        for lag in lags:\n",
    "            df[f'{col}_lag_{lag}'] = df.groupby('codigo_ibge')[col].shift(lag)\n",
    "    \n",
    "    return df\n",
    "\n",
    "# Função para criar features de janela móvel\n",
    "def create_rolling_features(df, columns, windows):\n",
    "    \"\"\"Cria features de média móvel e desvio padrão\"\"\"\n",
    "    df = df.copy()\n",
    "    \n",
    "    for col in columns:\n",
    "        for window in windows:\n",
    "            df[f'{col}_ma_{window}'] = df.groupby('codigo_ibge')[col].transform(\n",
    "                lambda x: x.rolling(window, min_periods=1).mean()\n",
    "            )\n",
    "            df[f'{col}_std_{window}'] = df.groupby('codigo_ibge')[col].transform(\n",
    "                lambda x: x.rolling(window, min_periods=1).std()\n",
    "            )\n",
    "    \n",
    "    return df"
   ]
  },
  {
   "cell_type": "code",
   "execution_count": 19,
   "id": "bd12b0e1",
   "metadata": {},
   "outputs": [
    {
     "name": "stdout",
     "output_type": "stream",
     "text": [
      "Criando features temporais...\n",
      "Criando features de lag...\n",
      "Criando features de janela móvel...\n",
      "\n",
      "Dataset após engenharia de features: (133159, 53)\n"
     ]
    }
   ],
   "source": [
    "print(\"Criando features temporais...\")\n",
    "df_model = create_temporal_features(df_pcf)\n",
    "\n",
    "print(\"Criando features de lag...\")\n",
    "lag_columns = ['visitas_criancas', 'visitas_gestantes', 'total_visitas']\n",
    "df_model = create_lag_features(df_model, lag_columns, [1, 2, 3, 6, 12])\n",
    "\n",
    "print(\"Criando features de janela móvel...\")\n",
    "df_model = create_rolling_features(df_model, lag_columns, [3, 6, 12])\n",
    "\n",
    "# Adicionar informações de adesão\n",
    "df_model = pd.merge(\n",
    "    df_model,\n",
    "    df_municipios[['codigo_ibge', 'anomes_s', 'municipios_elegiveis_pcf_i', 'municipios_adesao_pcf_i']],\n",
    "    on=['codigo_ibge', 'anomes_s'],\n",
    "    how='left'\n",
    ")\n",
    "\n",
    "# Preencher valores faltantes\n",
    "df_model['municipios_adesao_pcf_i'] = df_model['municipios_adesao_pcf_i'].fillna(0)\n",
    "df_model['municipios_elegiveis_pcf_i'] = df_model['municipios_elegiveis_pcf_i'].fillna(0)\n",
    "\n",
    "print(f\"\\nDataset após engenharia de features: {df_model.shape}\")"
   ]
  },
  {
   "cell_type": "code",
   "execution_count": 20,
   "id": "eb65abe0",
   "metadata": {},
   "outputs": [
    {
     "name": "stdout",
     "output_type": "stream",
     "text": [
      "Usando município 110005 para demonstração\n",
      "Shape dos dados: X=(42, 44), y=(42,)\n"
     ]
    }
   ],
   "source": [
    "codigo_exemplo = 3550308\n",
    "df_exemplo = df_model[df_model['codigo_ibge'] == codigo_exemplo].sort_values('data')\n",
    "\n",
    "# Se São Paulo não tiver dados suficientes, pegar o município com mais registros\n",
    "if len(df_exemplo) < 24:\n",
    "    municipio_mais_dados = df_model.groupby('codigo_ibge').size().idxmax()\n",
    "    df_exemplo = df_model[df_model['codigo_ibge'] == municipio_mais_dados].sort_values('data')\n",
    "    print(f\"Usando município {municipio_mais_dados} para demonstração\")\n",
    "\n",
    "# Remover linhas com NaN após criar lags\n",
    "df_exemplo = df_exemplo.dropna()\n",
    "\n",
    "# Definir features e target\n",
    "feature_columns = [col for col in df_exemplo.columns if col not in [\n",
    "    'codigo_ibge', 'anomes_s', 'data', 'ano', 'mes_nome', 'regiao',\n",
    "    'visitas_criancas', 'visitas_gestantes', 'total_visitas'\n",
    "]]\n",
    "\n",
    "X = df_exemplo[feature_columns].values\n",
    "y = df_exemplo['total_visitas'].values\n",
    "\n",
    "print(f\"Shape dos dados: X={X.shape}, y={y.shape}\")\n"
   ]
  },
  {
   "cell_type": "code",
   "execution_count": 21,
   "id": "be29d577",
   "metadata": {},
   "outputs": [
    {
     "name": "stdout",
     "output_type": "stream",
     "text": [
      "Dados de treino: (33, 44)\n",
      "Dados de teste: (9, 44)\n"
     ]
    }
   ],
   "source": [
    "scaler_X = MinMaxScaler()\n",
    "scaler_y = MinMaxScaler()\n",
    "\n",
    "X_scaled = scaler_X.fit_transform(X)\n",
    "y_scaled = scaler_y.fit_transform(y.reshape(-1, 1)).flatten()\n",
    "\n",
    "# Divisão temporal (80% treino, 20% teste)\n",
    "split_idx = int(0.8 * len(X_scaled))\n",
    "X_train, X_test = X_scaled[:split_idx], X_scaled[split_idx:]\n",
    "y_train, y_test = y_scaled[:split_idx], y_scaled[split_idx:]\n",
    "\n",
    "print(f\"Dados de treino: {X_train.shape}\")\n",
    "print(f\"Dados de teste: {X_test.shape}\")"
   ]
  },
  {
   "cell_type": "code",
   "execution_count": 22,
   "id": "0a64f3db",
   "metadata": {},
   "outputs": [
    {
     "name": "stdout",
     "output_type": "stream",
     "text": [
      "Shape das sequências de treino: (27, 6, 44)\n",
      "Shape das sequências de teste: (3, 6, 44)\n"
     ]
    }
   ],
   "source": [
    "def create_sequences(X, y, seq_length):\n",
    "    \"\"\"Cria sequências para modelos de séries temporais\"\"\"\n",
    "    X_seq, y_seq = [], []\n",
    "    \n",
    "    for i in range(len(X) - seq_length):\n",
    "        X_seq.append(X[i:i+seq_length])\n",
    "        y_seq.append(y[i+seq_length])\n",
    "    \n",
    "    return np.array(X_seq), np.array(y_seq)\n",
    "\n",
    "# Criar sequências\n",
    "SEQ_LENGTH = 6  # Usar últimos 6 meses para prever o próximo\n",
    "X_train_seq, y_train_seq = create_sequences(X_train, y_train, SEQ_LENGTH)\n",
    "X_test_seq, y_test_seq = create_sequences(X_test, y_test, SEQ_LENGTH)\n",
    "\n",
    "print(f\"Shape das sequências de treino: {X_train_seq.shape}\")\n",
    "print(f\"Shape das sequências de teste: {X_test_seq.shape}\")"
   ]
  },
  {
   "cell_type": "code",
   "execution_count": 23,
   "id": "c187da04",
   "metadata": {},
   "outputs": [
    {
     "data": {
      "text/html": [
       "<pre style=\"white-space:pre;overflow-x:auto;line-height:normal;font-family:Menlo,'DejaVu Sans Mono',consolas,'Courier New',monospace\"><span style=\"font-weight: bold\">Model: \"sequential\"</span>\n",
       "</pre>\n"
      ],
      "text/plain": [
       "\u001b[1mModel: \"sequential\"\u001b[0m\n"
      ]
     },
     "metadata": {},
     "output_type": "display_data"
    },
    {
     "data": {
      "text/html": [
       "<pre style=\"white-space:pre;overflow-x:auto;line-height:normal;font-family:Menlo,'DejaVu Sans Mono',consolas,'Courier New',monospace\">┏━━━━━━━━━━━━━━━━━━━━━━━━━━━━━━━━━┳━━━━━━━━━━━━━━━━━━━━━━━━┳━━━━━━━━━━━━━━━┓\n",
       "┃<span style=\"font-weight: bold\"> Layer (type)                    </span>┃<span style=\"font-weight: bold\"> Output Shape           </span>┃<span style=\"font-weight: bold\">       Param # </span>┃\n",
       "┡━━━━━━━━━━━━━━━━━━━━━━━━━━━━━━━━━╇━━━━━━━━━━━━━━━━━━━━━━━━╇━━━━━━━━━━━━━━━┩\n",
       "│ lstm (<span style=\"color: #0087ff; text-decoration-color: #0087ff\">LSTM</span>)                     │ (<span style=\"color: #00d7ff; text-decoration-color: #00d7ff\">None</span>, <span style=\"color: #00af00; text-decoration-color: #00af00\">6</span>, <span style=\"color: #00af00; text-decoration-color: #00af00\">128</span>)         │        <span style=\"color: #00af00; text-decoration-color: #00af00\">88,576</span> │\n",
       "├─────────────────────────────────┼────────────────────────┼───────────────┤\n",
       "│ dropout (<span style=\"color: #0087ff; text-decoration-color: #0087ff\">Dropout</span>)               │ (<span style=\"color: #00d7ff; text-decoration-color: #00d7ff\">None</span>, <span style=\"color: #00af00; text-decoration-color: #00af00\">6</span>, <span style=\"color: #00af00; text-decoration-color: #00af00\">128</span>)         │             <span style=\"color: #00af00; text-decoration-color: #00af00\">0</span> │\n",
       "├─────────────────────────────────┼────────────────────────┼───────────────┤\n",
       "│ lstm_1 (<span style=\"color: #0087ff; text-decoration-color: #0087ff\">LSTM</span>)                   │ (<span style=\"color: #00d7ff; text-decoration-color: #00d7ff\">None</span>, <span style=\"color: #00af00; text-decoration-color: #00af00\">6</span>, <span style=\"color: #00af00; text-decoration-color: #00af00\">64</span>)          │        <span style=\"color: #00af00; text-decoration-color: #00af00\">49,408</span> │\n",
       "├─────────────────────────────────┼────────────────────────┼───────────────┤\n",
       "│ dropout_1 (<span style=\"color: #0087ff; text-decoration-color: #0087ff\">Dropout</span>)             │ (<span style=\"color: #00d7ff; text-decoration-color: #00d7ff\">None</span>, <span style=\"color: #00af00; text-decoration-color: #00af00\">6</span>, <span style=\"color: #00af00; text-decoration-color: #00af00\">64</span>)          │             <span style=\"color: #00af00; text-decoration-color: #00af00\">0</span> │\n",
       "├─────────────────────────────────┼────────────────────────┼───────────────┤\n",
       "│ lstm_2 (<span style=\"color: #0087ff; text-decoration-color: #0087ff\">LSTM</span>)                   │ (<span style=\"color: #00d7ff; text-decoration-color: #00d7ff\">None</span>, <span style=\"color: #00af00; text-decoration-color: #00af00\">32</span>)             │        <span style=\"color: #00af00; text-decoration-color: #00af00\">12,416</span> │\n",
       "├─────────────────────────────────┼────────────────────────┼───────────────┤\n",
       "│ dropout_2 (<span style=\"color: #0087ff; text-decoration-color: #0087ff\">Dropout</span>)             │ (<span style=\"color: #00d7ff; text-decoration-color: #00d7ff\">None</span>, <span style=\"color: #00af00; text-decoration-color: #00af00\">32</span>)             │             <span style=\"color: #00af00; text-decoration-color: #00af00\">0</span> │\n",
       "├─────────────────────────────────┼────────────────────────┼───────────────┤\n",
       "│ dense (<span style=\"color: #0087ff; text-decoration-color: #0087ff\">Dense</span>)                   │ (<span style=\"color: #00d7ff; text-decoration-color: #00d7ff\">None</span>, <span style=\"color: #00af00; text-decoration-color: #00af00\">16</span>)             │           <span style=\"color: #00af00; text-decoration-color: #00af00\">528</span> │\n",
       "├─────────────────────────────────┼────────────────────────┼───────────────┤\n",
       "│ dense_1 (<span style=\"color: #0087ff; text-decoration-color: #0087ff\">Dense</span>)                 │ (<span style=\"color: #00d7ff; text-decoration-color: #00d7ff\">None</span>, <span style=\"color: #00af00; text-decoration-color: #00af00\">1</span>)              │            <span style=\"color: #00af00; text-decoration-color: #00af00\">17</span> │\n",
       "└─────────────────────────────────┴────────────────────────┴───────────────┘\n",
       "</pre>\n"
      ],
      "text/plain": [
       "┏━━━━━━━━━━━━━━━━━━━━━━━━━━━━━━━━━┳━━━━━━━━━━━━━━━━━━━━━━━━┳━━━━━━━━━━━━━━━┓\n",
       "┃\u001b[1m \u001b[0m\u001b[1mLayer (type)                   \u001b[0m\u001b[1m \u001b[0m┃\u001b[1m \u001b[0m\u001b[1mOutput Shape          \u001b[0m\u001b[1m \u001b[0m┃\u001b[1m \u001b[0m\u001b[1m      Param #\u001b[0m\u001b[1m \u001b[0m┃\n",
       "┡━━━━━━━━━━━━━━━━━━━━━━━━━━━━━━━━━╇━━━━━━━━━━━━━━━━━━━━━━━━╇━━━━━━━━━━━━━━━┩\n",
       "│ lstm (\u001b[38;5;33mLSTM\u001b[0m)                     │ (\u001b[38;5;45mNone\u001b[0m, \u001b[38;5;34m6\u001b[0m, \u001b[38;5;34m128\u001b[0m)         │        \u001b[38;5;34m88,576\u001b[0m │\n",
       "├─────────────────────────────────┼────────────────────────┼───────────────┤\n",
       "│ dropout (\u001b[38;5;33mDropout\u001b[0m)               │ (\u001b[38;5;45mNone\u001b[0m, \u001b[38;5;34m6\u001b[0m, \u001b[38;5;34m128\u001b[0m)         │             \u001b[38;5;34m0\u001b[0m │\n",
       "├─────────────────────────────────┼────────────────────────┼───────────────┤\n",
       "│ lstm_1 (\u001b[38;5;33mLSTM\u001b[0m)                   │ (\u001b[38;5;45mNone\u001b[0m, \u001b[38;5;34m6\u001b[0m, \u001b[38;5;34m64\u001b[0m)          │        \u001b[38;5;34m49,408\u001b[0m │\n",
       "├─────────────────────────────────┼────────────────────────┼───────────────┤\n",
       "│ dropout_1 (\u001b[38;5;33mDropout\u001b[0m)             │ (\u001b[38;5;45mNone\u001b[0m, \u001b[38;5;34m6\u001b[0m, \u001b[38;5;34m64\u001b[0m)          │             \u001b[38;5;34m0\u001b[0m │\n",
       "├─────────────────────────────────┼────────────────────────┼───────────────┤\n",
       "│ lstm_2 (\u001b[38;5;33mLSTM\u001b[0m)                   │ (\u001b[38;5;45mNone\u001b[0m, \u001b[38;5;34m32\u001b[0m)             │        \u001b[38;5;34m12,416\u001b[0m │\n",
       "├─────────────────────────────────┼────────────────────────┼───────────────┤\n",
       "│ dropout_2 (\u001b[38;5;33mDropout\u001b[0m)             │ (\u001b[38;5;45mNone\u001b[0m, \u001b[38;5;34m32\u001b[0m)             │             \u001b[38;5;34m0\u001b[0m │\n",
       "├─────────────────────────────────┼────────────────────────┼───────────────┤\n",
       "│ dense (\u001b[38;5;33mDense\u001b[0m)                   │ (\u001b[38;5;45mNone\u001b[0m, \u001b[38;5;34m16\u001b[0m)             │           \u001b[38;5;34m528\u001b[0m │\n",
       "├─────────────────────────────────┼────────────────────────┼───────────────┤\n",
       "│ dense_1 (\u001b[38;5;33mDense\u001b[0m)                 │ (\u001b[38;5;45mNone\u001b[0m, \u001b[38;5;34m1\u001b[0m)              │            \u001b[38;5;34m17\u001b[0m │\n",
       "└─────────────────────────────────┴────────────────────────┴───────────────┘\n"
      ]
     },
     "metadata": {},
     "output_type": "display_data"
    },
    {
     "data": {
      "text/html": [
       "<pre style=\"white-space:pre;overflow-x:auto;line-height:normal;font-family:Menlo,'DejaVu Sans Mono',consolas,'Courier New',monospace\"><span style=\"font-weight: bold\"> Total params: </span><span style=\"color: #00af00; text-decoration-color: #00af00\">150,945</span> (589.63 KB)\n",
       "</pre>\n"
      ],
      "text/plain": [
       "\u001b[1m Total params: \u001b[0m\u001b[38;5;34m150,945\u001b[0m (589.63 KB)\n"
      ]
     },
     "metadata": {},
     "output_type": "display_data"
    },
    {
     "data": {
      "text/html": [
       "<pre style=\"white-space:pre;overflow-x:auto;line-height:normal;font-family:Menlo,'DejaVu Sans Mono',consolas,'Courier New',monospace\"><span style=\"font-weight: bold\"> Trainable params: </span><span style=\"color: #00af00; text-decoration-color: #00af00\">150,945</span> (589.63 KB)\n",
       "</pre>\n"
      ],
      "text/plain": [
       "\u001b[1m Trainable params: \u001b[0m\u001b[38;5;34m150,945\u001b[0m (589.63 KB)\n"
      ]
     },
     "metadata": {},
     "output_type": "display_data"
    },
    {
     "data": {
      "text/html": [
       "<pre style=\"white-space:pre;overflow-x:auto;line-height:normal;font-family:Menlo,'DejaVu Sans Mono',consolas,'Courier New',monospace\"><span style=\"font-weight: bold\"> Non-trainable params: </span><span style=\"color: #00af00; text-decoration-color: #00af00\">0</span> (0.00 B)\n",
       "</pre>\n"
      ],
      "text/plain": [
       "\u001b[1m Non-trainable params: \u001b[0m\u001b[38;5;34m0\u001b[0m (0.00 B)\n"
      ]
     },
     "metadata": {},
     "output_type": "display_data"
    },
    {
     "name": "stdout",
     "output_type": "stream",
     "text": [
      "None\n",
      "Epoch 1/100\n",
      "\u001b[1m1/1\u001b[0m \u001b[32m━━━━━━━━━━━━━━━━━━━━\u001b[0m\u001b[37m\u001b[0m \u001b[1m29s\u001b[0m 29s/step - loss: 0.2958 - mae: 0.4771 - val_loss: 0.0023 - val_mae: 0.0455 - learning_rate: 0.0010\n",
      "Epoch 2/100\n",
      "\u001b[1m1/1\u001b[0m \u001b[32m━━━━━━━━━━━━━━━━━━━━\u001b[0m\u001b[37m\u001b[0m \u001b[1m2s\u001b[0m 2s/step - loss: 0.1863 - mae: 0.3716 - val_loss: 0.0025 - val_mae: 0.0441 - learning_rate: 0.0010\n",
      "Epoch 3/100\n",
      "\u001b[1m1/1\u001b[0m \u001b[32m━━━━━━━━━━━━━━━━━━━━\u001b[0m\u001b[37m\u001b[0m \u001b[1m0s\u001b[0m 122ms/step - loss: 0.1034 - mae: 0.2834 - val_loss: 0.0189 - val_mae: 0.1322 - learning_rate: 0.0010\n",
      "Epoch 4/100\n",
      "\u001b[1m1/1\u001b[0m \u001b[32m━━━━━━━━━━━━━━━━━━━━\u001b[0m\u001b[37m\u001b[0m \u001b[1m0s\u001b[0m 118ms/step - loss: 0.0597 - mae: 0.2234 - val_loss: 0.0559 - val_mae: 0.2312 - learning_rate: 0.0010\n",
      "Epoch 5/100\n",
      "\u001b[1m1/1\u001b[0m \u001b[32m━━━━━━━━━━━━━━━━━━━━\u001b[0m\u001b[37m\u001b[0m \u001b[1m0s\u001b[0m 127ms/step - loss: 0.0654 - mae: 0.1899 - val_loss: 0.0965 - val_mae: 0.3049 - learning_rate: 0.0010\n",
      "Epoch 6/100\n",
      "\u001b[1m1/1\u001b[0m \u001b[32m━━━━━━━━━━━━━━━━━━━━\u001b[0m\u001b[37m\u001b[0m \u001b[1m0s\u001b[0m 176ms/step - loss: 0.0975 - mae: 0.2221 - val_loss: 0.1001 - val_mae: 0.3110 - learning_rate: 0.0010\n",
      "Epoch 7/100\n",
      "\u001b[1m1/1\u001b[0m \u001b[32m━━━━━━━━━━━━━━━━━━━━\u001b[0m\u001b[37m\u001b[0m \u001b[1m0s\u001b[0m 156ms/step - loss: 0.0690 - mae: 0.2024 - val_loss: 0.0911 - val_mae: 0.2967 - learning_rate: 5.0000e-04\n",
      "Epoch 8/100\n",
      "\u001b[1m1/1\u001b[0m \u001b[32m━━━━━━━━━━━━━━━━━━━━\u001b[0m\u001b[37m\u001b[0m \u001b[1m0s\u001b[0m 202ms/step - loss: 0.0852 - mae: 0.2252 - val_loss: 0.0760 - val_mae: 0.2711 - learning_rate: 5.0000e-04\n",
      "Epoch 9/100\n",
      "\u001b[1m1/1\u001b[0m \u001b[32m━━━━━━━━━━━━━━━━━━━━\u001b[0m\u001b[37m\u001b[0m \u001b[1m0s\u001b[0m 164ms/step - loss: 0.0765 - mae: 0.2200 - val_loss: 0.0605 - val_mae: 0.2418 - learning_rate: 5.0000e-04\n",
      "Epoch 10/100\n",
      "\u001b[1m1/1\u001b[0m \u001b[32m━━━━━━━━━━━━━━━━━━━━\u001b[0m\u001b[37m\u001b[0m \u001b[1m0s\u001b[0m 223ms/step - loss: 0.0501 - mae: 0.1764 - val_loss: 0.0465 - val_mae: 0.2118 - learning_rate: 5.0000e-04\n",
      "Epoch 11/100\n",
      "\u001b[1m1/1\u001b[0m \u001b[32m━━━━━━━━━━━━━━━━━━━━\u001b[0m\u001b[37m\u001b[0m \u001b[1m0s\u001b[0m 276ms/step - loss: 0.0503 - mae: 0.1862 - val_loss: 0.0356 - val_mae: 0.1848 - learning_rate: 5.0000e-04\n"
     ]
    }
   ],
   "source": [
    "def build_lstm_model(input_shape):\n",
    "    \"\"\"Constrói modelo LSTM para previsão de séries temporais\"\"\"\n",
    "    model = Sequential([\n",
    "        LSTM(128, return_sequences=True, input_shape=input_shape),\n",
    "        Dropout(0.2),\n",
    "        LSTM(64, return_sequences=True),\n",
    "        Dropout(0.2),\n",
    "        LSTM(32),\n",
    "        Dropout(0.2),\n",
    "        Dense(16, activation='relu'),\n",
    "        Dense(1)\n",
    "    ])\n",
    "    \n",
    "    model.compile(\n",
    "        optimizer=Adam(learning_rate=0.001),\n",
    "        loss='mse',\n",
    "        metrics=['mae']\n",
    "    )\n",
    "    \n",
    "    return model\n",
    "\n",
    "# Criar e treinar modelo LSTM\n",
    "lstm_model = build_lstm_model((SEQ_LENGTH, X_train_seq.shape[2]))\n",
    "print(lstm_model.summary())\n",
    "\n",
    "# Callbacks\n",
    "early_stop = EarlyStopping(monitor='val_loss', patience=10, restore_best_weights=True)\n",
    "reduce_lr = ReduceLROnPlateau(monitor='val_loss', factor=0.5, patience=5, min_lr=0.00001)\n",
    "\n",
    "# Treinar\n",
    "history_lstm = lstm_model.fit(\n",
    "    X_train_seq, y_train_seq,\n",
    "    epochs=100,\n",
    "    batch_size=32,\n",
    "    validation_split=0.2,\n",
    "    callbacks=[early_stop, reduce_lr],\n",
    "    verbose=1\n",
    ")"
   ]
  },
  {
   "cell_type": "code",
   "execution_count": null,
   "id": "0744393e",
   "metadata": {},
   "outputs": [],
   "source": [
    "def build_gru_model(input_shape):\n",
    "    \"\"\"Constrói modelo GRU para previsão de séries temporais\"\"\"\n",
    "    model = Sequential([\n",
    "        GRU(128, return_sequences=True, input_shape=input_shape),\n",
    "        Dropout(0.2),\n",
    "        GRU(64, return_sequences=True),\n",
    "        Dropout(0.2),\n",
    "        GRU(32),\n",
    "        Dropout(0.2),\n",
    "        Dense(16, activation='relu'),\n",
    "        Dense(1)\n",
    "    ])\n",
    "    \n",
    "    model.compile(\n",
    "        optimizer=Adam(learning_rate=0.001),\n",
    "        loss='mse',\n",
    "        metrics=['mae']\n",
    "    )\n",
    "    \n",
    "    return model\n",
    "\n",
    "# Criar e treinar modelo GRU\n",
    "gru_model = build_gru_model((SEQ_LENGTH, X_train_seq.shape[2]))\n",
    "\n",
    "history_gru = gru_model.fit(\n",
    "    X_train_seq, y_train_seq,\n",
    "    epochs=100,\n",
    "    batch_size=32,\n",
    "    validation_split=0.2,\n",
    "    callbacks=[early_stop, reduce_lr],\n",
    "    verbose=1\n",
    ")"
   ]
  },
  {
   "cell_type": "code",
   "execution_count": 27,
   "id": "03417496",
   "metadata": {},
   "outputs": [
    {
     "name": "stdout",
     "output_type": "stream",
     "text": [
      "Epoch 1/100\n",
      "\u001b[1m1/1\u001b[0m \u001b[32m━━━━━━━━━━━━━━━━━━━━\u001b[0m\u001b[37m\u001b[0m \u001b[1m9s\u001b[0m 9s/step - loss: 0.3087 - mae: 0.4913 - val_loss: 0.0016 - val_mae: 0.0310 - learning_rate: 0.0010\n",
      "Epoch 2/100\n",
      "\u001b[1m1/1\u001b[0m \u001b[32m━━━━━━━━━━━━━━━━━━━━\u001b[0m\u001b[37m\u001b[0m \u001b[1m0s\u001b[0m 182ms/step - loss: 0.1794 - mae: 0.3706 - val_loss: 0.0155 - val_mae: 0.1201 - learning_rate: 0.0010\n",
      "Epoch 3/100\n",
      "\u001b[1m1/1\u001b[0m \u001b[32m━━━━━━━━━━━━━━━━━━━━\u001b[0m\u001b[37m\u001b[0m \u001b[1m0s\u001b[0m 250ms/step - loss: 0.1384 - mae: 0.3172 - val_loss: 0.0425 - val_mae: 0.2030 - learning_rate: 0.0010\n",
      "Epoch 4/100\n",
      "\u001b[1m1/1\u001b[0m \u001b[32m━━━━━━━━━━━━━━━━━━━━\u001b[0m\u001b[37m\u001b[0m \u001b[1m0s\u001b[0m 268ms/step - loss: 0.0661 - mae: 0.2235 - val_loss: 0.0868 - val_mae: 0.2925 - learning_rate: 0.0010\n",
      "Epoch 5/100\n",
      "\u001b[1m1/1\u001b[0m \u001b[32m━━━━━━━━━━━━━━━━━━━━\u001b[0m\u001b[37m\u001b[0m \u001b[1m0s\u001b[0m 136ms/step - loss: 0.0805 - mae: 0.2210 - val_loss: 0.1154 - val_mae: 0.3378 - learning_rate: 0.0010\n",
      "Epoch 6/100\n",
      "\u001b[1m1/1\u001b[0m \u001b[32m━━━━━━━━━━━━━━━━━━━━\u001b[0m\u001b[37m\u001b[0m \u001b[1m0s\u001b[0m 138ms/step - loss: 0.0685 - mae: 0.1940 - val_loss: 0.1123 - val_mae: 0.3334 - learning_rate: 0.0010\n",
      "Epoch 7/100\n",
      "\u001b[1m1/1\u001b[0m \u001b[32m━━━━━━━━━━━━━━━━━━━━\u001b[0m\u001b[37m\u001b[0m \u001b[1m0s\u001b[0m 294ms/step - loss: 0.0916 - mae: 0.2340 - val_loss: 0.1040 - val_mae: 0.3204 - learning_rate: 5.0000e-04\n",
      "Epoch 8/100\n",
      "\u001b[1m1/1\u001b[0m \u001b[32m━━━━━━━━━━━━━━━━━━━━\u001b[0m\u001b[37m\u001b[0m \u001b[1m0s\u001b[0m 171ms/step - loss: 0.0946 - mae: 0.2419 - val_loss: 0.0913 - val_mae: 0.3000 - learning_rate: 5.0000e-04\n",
      "Epoch 9/100\n",
      "\u001b[1m1/1\u001b[0m \u001b[32m━━━━━━━━━━━━━━━━━━━━\u001b[0m\u001b[37m\u001b[0m \u001b[1m0s\u001b[0m 125ms/step - loss: 0.0541 - mae: 0.1948 - val_loss: 0.0807 - val_mae: 0.2813 - learning_rate: 5.0000e-04\n",
      "Epoch 10/100\n",
      "\u001b[1m1/1\u001b[0m \u001b[32m━━━━━━━━━━━━━━━━━━━━\u001b[0m\u001b[37m\u001b[0m \u001b[1m0s\u001b[0m 113ms/step - loss: 0.0747 - mae: 0.2230 - val_loss: 0.0730 - val_mae: 0.2674 - learning_rate: 5.0000e-04\n",
      "Epoch 11/100\n",
      "\u001b[1m1/1\u001b[0m \u001b[32m━━━━━━━━━━━━━━━━━━━━\u001b[0m\u001b[37m\u001b[0m \u001b[1m0s\u001b[0m 251ms/step - loss: 0.0719 - mae: 0.2190 - val_loss: 0.0667 - val_mae: 0.2554 - learning_rate: 5.0000e-04\n"
     ]
    }
   ],
   "source": [
    "def build_gru_model(input_shape):\n",
    "    \"\"\"Constrói modelo GRU para previsão de séries temporais\"\"\"\n",
    "    model = Sequential([\n",
    "        GRU(128, return_sequences=True, input_shape=input_shape),\n",
    "        Dropout(0.2),\n",
    "        GRU(64, return_sequences=True),\n",
    "        Dropout(0.2),\n",
    "        GRU(32),\n",
    "        Dropout(0.2),\n",
    "        Dense(16, activation='relu'),\n",
    "        Dense(1)\n",
    "    ])\n",
    "    \n",
    "    model.compile(\n",
    "        optimizer=Adam(learning_rate=0.001),\n",
    "        loss='mse',\n",
    "        metrics=['mae']\n",
    "    )\n",
    "    \n",
    "    return model\n",
    "\n",
    "# Criar e treinar modelo GRU\n",
    "gru_model = build_gru_model((SEQ_LENGTH, X_train_seq.shape[2]))\n",
    "\n",
    "history_gru = gru_model.fit(\n",
    "    X_train_seq, y_train_seq,\n",
    "    epochs=100,\n",
    "    batch_size=32,\n",
    "    validation_split=0.2,\n",
    "    callbacks=[early_stop, reduce_lr],\n",
    "    verbose=1\n",
    ")"
   ]
  },
  {
   "cell_type": "code",
   "execution_count": 28,
   "id": "ded7f75a",
   "metadata": {},
   "outputs": [
    {
     "name": "stdout",
     "output_type": "stream",
     "text": [
      "Epoch 1/100\n",
      "\u001b[1m1/1\u001b[0m \u001b[32m━━━━━━━━━━━━━━━━━━━━\u001b[0m\u001b[37m\u001b[0m \u001b[1m9s\u001b[0m 9s/step - loss: 0.3642 - mae: 0.5394 - val_loss: 0.0101 - val_mae: 0.0949 - learning_rate: 0.0010\n",
      "Epoch 2/100\n",
      "\u001b[1m1/1\u001b[0m \u001b[32m━━━━━━━━━━━━━━━━━━━━\u001b[0m\u001b[37m\u001b[0m \u001b[1m2s\u001b[0m 2s/step - loss: 0.3134 - mae: 0.4886 - val_loss: 0.0054 - val_mae: 0.0660 - learning_rate: 0.0010\n",
      "Epoch 3/100\n",
      "\u001b[1m1/1\u001b[0m \u001b[32m━━━━━━━━━━━━━━━━━━━━\u001b[0m\u001b[37m\u001b[0m \u001b[1m0s\u001b[0m 115ms/step - loss: 0.2865 - mae: 0.4607 - val_loss: 0.0022 - val_mae: 0.0425 - learning_rate: 0.0010\n",
      "Epoch 4/100\n",
      "\u001b[1m1/1\u001b[0m \u001b[32m━━━━━━━━━━━━━━━━━━━━\u001b[0m\u001b[37m\u001b[0m \u001b[1m0s\u001b[0m 135ms/step - loss: 0.2298 - mae: 0.4102 - val_loss: 0.0011 - val_mae: 0.0303 - learning_rate: 0.0010\n",
      "Epoch 5/100\n",
      "\u001b[1m1/1\u001b[0m \u001b[32m━━━━━━━━━━━━━━━━━━━━\u001b[0m\u001b[37m\u001b[0m \u001b[1m0s\u001b[0m 195ms/step - loss: 0.2023 - mae: 0.3953 - val_loss: 0.0025 - val_mae: 0.0391 - learning_rate: 0.0010\n",
      "Epoch 6/100\n",
      "\u001b[1m1/1\u001b[0m \u001b[32m━━━━━━━━━━━━━━━━━━━━\u001b[0m\u001b[37m\u001b[0m \u001b[1m0s\u001b[0m 104ms/step - loss: 0.1532 - mae: 0.3424 - val_loss: 0.0071 - val_mae: 0.0741 - learning_rate: 0.0010\n",
      "Epoch 7/100\n",
      "\u001b[1m1/1\u001b[0m \u001b[32m━━━━━━━━━━━━━━━━━━━━\u001b[0m\u001b[37m\u001b[0m \u001b[1m0s\u001b[0m 106ms/step - loss: 0.1278 - mae: 0.3047 - val_loss: 0.0159 - val_mae: 0.1179 - learning_rate: 0.0010\n",
      "Epoch 8/100\n",
      "\u001b[1m1/1\u001b[0m \u001b[32m━━━━━━━━━━━━━━━━━━━━\u001b[0m\u001b[37m\u001b[0m \u001b[1m0s\u001b[0m 102ms/step - loss: 0.1018 - mae: 0.2910 - val_loss: 0.0299 - val_mae: 0.1655 - learning_rate: 0.0010\n",
      "Epoch 9/100\n",
      "\u001b[1m1/1\u001b[0m \u001b[32m━━━━━━━━━━━━━━━━━━━━\u001b[0m\u001b[37m\u001b[0m \u001b[1m0s\u001b[0m 108ms/step - loss: 0.0822 - mae: 0.2571 - val_loss: 0.0494 - val_mae: 0.2149 - learning_rate: 0.0010\n",
      "Epoch 10/100\n",
      "\u001b[1m1/1\u001b[0m \u001b[32m━━━━━━━━━━━━━━━━━━━━\u001b[0m\u001b[37m\u001b[0m \u001b[1m0s\u001b[0m 139ms/step - loss: 0.0584 - mae: 0.2083 - val_loss: 0.0608 - val_mae: 0.2392 - learning_rate: 5.0000e-04\n",
      "Epoch 11/100\n",
      "\u001b[1m1/1\u001b[0m \u001b[32m━━━━━━━━━━━━━━━━━━━━\u001b[0m\u001b[37m\u001b[0m \u001b[1m0s\u001b[0m 108ms/step - loss: 0.0614 - mae: 0.2104 - val_loss: 0.0724 - val_mae: 0.2617 - learning_rate: 5.0000e-04\n",
      "Epoch 12/100\n",
      "\u001b[1m1/1\u001b[0m \u001b[32m━━━━━━━━━━━━━━━━━━━━\u001b[0m\u001b[37m\u001b[0m \u001b[1m0s\u001b[0m 138ms/step - loss: 0.0658 - mae: 0.2185 - val_loss: 0.0830 - val_mae: 0.2806 - learning_rate: 5.0000e-04\n",
      "Epoch 13/100\n",
      "\u001b[1m1/1\u001b[0m \u001b[32m━━━━━━━━━━━━━━━━━━━━\u001b[0m\u001b[37m\u001b[0m \u001b[1m0s\u001b[0m 161ms/step - loss: 0.0695 - mae: 0.2131 - val_loss: 0.0927 - val_mae: 0.2969 - learning_rate: 5.0000e-04\n",
      "Epoch 14/100\n",
      "\u001b[1m1/1\u001b[0m \u001b[32m━━━━━━━━━━━━━━━━━━━━\u001b[0m\u001b[37m\u001b[0m \u001b[1m0s\u001b[0m 144ms/step - loss: 0.0696 - mae: 0.2084 - val_loss: 0.0995 - val_mae: 0.3079 - learning_rate: 5.0000e-04\n"
     ]
    }
   ],
   "source": [
    "def build_cnn_lstm_model(input_shape):\n",
    "    \"\"\"Constrói modelo híbrido CNN-LSTM\"\"\"\n",
    "    model = Sequential([\n",
    "        # Camadas convolucionais para extração de features\n",
    "        Conv1D(filters=64, kernel_size=3, activation='relu', input_shape=input_shape),\n",
    "        MaxPooling1D(pool_size=2),\n",
    "        \n",
    "        # Camadas LSTM para capturar dependências temporais\n",
    "        LSTM(64, return_sequences=True),\n",
    "        Dropout(0.2),\n",
    "        LSTM(32),\n",
    "        Dropout(0.2),\n",
    "        \n",
    "        # Camadas densas finais\n",
    "        Dense(16, activation='relu'),\n",
    "        Dense(1)\n",
    "    ])\n",
    "    \n",
    "    model.compile(\n",
    "        optimizer=Adam(learning_rate=0.001),\n",
    "        loss='mse',\n",
    "        metrics=['mae']\n",
    "    )\n",
    "    \n",
    "    return model\n",
    "\n",
    "# Criar e treinar modelo híbrido\n",
    "cnn_lstm_model = build_cnn_lstm_model((SEQ_LENGTH, X_train_seq.shape[2]))\n",
    "\n",
    "history_cnn_lstm = cnn_lstm_model.fit(\n",
    "    X_train_seq, y_train_seq,\n",
    "    epochs=100,\n",
    "    batch_size=32,\n",
    "    validation_split=0.2,\n",
    "    callbacks=[early_stop, reduce_lr],\n",
    "    verbose=1\n",
    ")"
   ]
  },
  {
   "cell_type": "code",
   "execution_count": 29,
   "id": "cf7781a3",
   "metadata": {},
   "outputs": [
    {
     "name": "stdout",
     "output_type": "stream",
     "text": [
      "\u001b[1m1/1\u001b[0m \u001b[32m━━━━━━━━━━━━━━━━━━━━\u001b[0m\u001b[37m\u001b[0m \u001b[1m1s\u001b[0m 985ms/step\n",
      "\n",
      "=== Métricas do Modelo LSTM ===\n",
      "RMSE: 32.95\n",
      "MAE: 32.61\n",
      "R²: -179.9207\n",
      "MAPE: 39.16%\n",
      "\u001b[1m1/1\u001b[0m \u001b[32m━━━━━━━━━━━━━━━━━━━━\u001b[0m\u001b[37m\u001b[0m \u001b[1m1s\u001b[0m 629ms/step\n",
      "\n",
      "=== Métricas do Modelo GRU ===\n",
      "RMSE: 7.85\n",
      "MAE: 6.47\n",
      "R²: -9.2620\n",
      "MAPE: 7.82%\n",
      "\u001b[1m1/1\u001b[0m \u001b[32m━━━━━━━━━━━━━━━━━━━━\u001b[0m\u001b[37m\u001b[0m \u001b[1m0s\u001b[0m 411ms/step\n",
      "\n",
      "=== Métricas do Modelo CNN-LSTM ===\n",
      "RMSE: 20.37\n",
      "MAE: 19.01\n",
      "R²: -68.1466\n",
      "MAPE: 22.66%\n"
     ]
    }
   ],
   "source": [
    "def evaluate_model(model, X_test, y_test, scaler_y, model_name):\n",
    "    \"\"\"Avalia o desempenho do modelo\"\"\"\n",
    "    # Fazer previsões\n",
    "    y_pred_scaled = model.predict(X_test)\n",
    "    \n",
    "    # Reverter normalização\n",
    "    y_pred = scaler_y.inverse_transform(y_pred_scaled)\n",
    "    y_test_original = scaler_y.inverse_transform(y_test.reshape(-1, 1))\n",
    "    \n",
    "    # Calcular métricas\n",
    "    mse = mean_squared_error(y_test_original, y_pred)\n",
    "    rmse = np.sqrt(mse)\n",
    "    mae = mean_absolute_error(y_test_original, y_pred)\n",
    "    r2 = r2_score(y_test_original, y_pred)\n",
    "    \n",
    "    # Calcular MAPE (Mean Absolute Percentage Error)\n",
    "    mape = np.mean(np.abs((y_test_original - y_pred) / y_test_original)) * 100\n",
    "    \n",
    "    print(f\"\\n=== Métricas do Modelo {model_name} ===\")\n",
    "    print(f\"RMSE: {rmse:.2f}\")\n",
    "    print(f\"MAE: {mae:.2f}\")\n",
    "    print(f\"R²: {r2:.4f}\")\n",
    "    print(f\"MAPE: {mape:.2f}%\")\n",
    "    \n",
    "    return y_pred, {\n",
    "        'model': model_name,\n",
    "        'rmse': rmse,\n",
    "        'mae': mae,\n",
    "        'r2': r2,\n",
    "        'mape': mape\n",
    "    }\n",
    "\n",
    "# Avaliar todos os modelos\n",
    "results = []\n",
    "\n",
    "y_pred_lstm, metrics_lstm = evaluate_model(lstm_model, X_test_seq, y_test_seq, scaler_y, \"LSTM\")\n",
    "results.append(metrics_lstm)\n",
    "\n",
    "y_pred_gru, metrics_gru = evaluate_model(gru_model, X_test_seq, y_test_seq, scaler_y, \"GRU\")\n",
    "results.append(metrics_gru)\n",
    "\n",
    "y_pred_cnn_lstm, metrics_cnn_lstm = evaluate_model(cnn_lstm_model, X_test_seq, y_test_seq, scaler_y, \"CNN-LSTM\")\n",
    "results.append(metrics_cnn_lstm)"
   ]
  },
  {
   "cell_type": "code",
   "execution_count": 30,
   "id": "594784b6",
   "metadata": {},
   "outputs": [
    {
     "data": {
      "application/vnd.plotly.v1+json": {
       "config": {
        "plotlyServerURL": "https://plot.ly"
       },
       "data": [
        {
         "line": {
          "color": "black",
          "width": 2
         },
         "mode": "lines",
         "name": "Valores Reais",
         "type": "scatter",
         "x": [
          "2022-04-01T00:00:00.000000000",
          "2022-05-01T00:00:00.000000000",
          "2022-06-01T00:00:00.000000000"
         ],
         "y": {
          "bdata": "AAAAAAAAVEAAAAAAAMBUQAAAAAAAgFVA",
          "dtype": "f8"
         }
        },
        {
         "line": {
          "color": "blue",
          "dash": "dash",
          "width": 2
         },
         "mode": "lines",
         "name": "LSTM",
         "type": "scatter",
         "x": [
          "2022-04-01T00:00:00.000000000",
          "2022-05-01T00:00:00.000000000",
          "2022-06-01T00:00:00.000000000"
         ],
         "y": {
          "bdata": "e/pTQgKlSkI+Cj5C",
          "dtype": "f4"
         }
        },
        {
         "line": {
          "color": "red",
          "dash": "dash",
          "width": 2
         },
         "mode": "lines",
         "name": "GRU",
         "type": "scatter",
         "x": [
          "2022-04-01T00:00:00.000000000",
          "2022-05-01T00:00:00.000000000",
          "2022-06-01T00:00:00.000000000"
         ],
         "y": {
          "bdata": "TSO0Qgl1pkKUv5lC",
          "dtype": "f4"
         }
        },
        {
         "line": {
          "color": "green",
          "dash": "dash",
          "width": 2
         },
         "mode": "lines",
         "name": "CNN-LSTM",
         "type": "scatter",
         "x": [
          "2022-04-01T00:00:00.000000000",
          "2022-05-01T00:00:00.000000000",
          "2022-06-01T00:00:00.000000000"
         ],
         "y": {
          "bdata": "NsaLQm4zgEKA6mdC",
          "dtype": "f4"
         }
        }
       ],
       "layout": {
        "height": 600,
        "template": {
         "data": {
          "bar": [
           {
            "error_x": {
             "color": "#2a3f5f"
            },
            "error_y": {
             "color": "#2a3f5f"
            },
            "marker": {
             "line": {
              "color": "#E5ECF6",
              "width": 0.5
             },
             "pattern": {
              "fillmode": "overlay",
              "size": 10,
              "solidity": 0.2
             }
            },
            "type": "bar"
           }
          ],
          "barpolar": [
           {
            "marker": {
             "line": {
              "color": "#E5ECF6",
              "width": 0.5
             },
             "pattern": {
              "fillmode": "overlay",
              "size": 10,
              "solidity": 0.2
             }
            },
            "type": "barpolar"
           }
          ],
          "carpet": [
           {
            "aaxis": {
             "endlinecolor": "#2a3f5f",
             "gridcolor": "white",
             "linecolor": "white",
             "minorgridcolor": "white",
             "startlinecolor": "#2a3f5f"
            },
            "baxis": {
             "endlinecolor": "#2a3f5f",
             "gridcolor": "white",
             "linecolor": "white",
             "minorgridcolor": "white",
             "startlinecolor": "#2a3f5f"
            },
            "type": "carpet"
           }
          ],
          "choropleth": [
           {
            "colorbar": {
             "outlinewidth": 0,
             "ticks": ""
            },
            "type": "choropleth"
           }
          ],
          "contour": [
           {
            "colorbar": {
             "outlinewidth": 0,
             "ticks": ""
            },
            "colorscale": [
             [
              0,
              "#0d0887"
             ],
             [
              0.1111111111111111,
              "#46039f"
             ],
             [
              0.2222222222222222,
              "#7201a8"
             ],
             [
              0.3333333333333333,
              "#9c179e"
             ],
             [
              0.4444444444444444,
              "#bd3786"
             ],
             [
              0.5555555555555556,
              "#d8576b"
             ],
             [
              0.6666666666666666,
              "#ed7953"
             ],
             [
              0.7777777777777778,
              "#fb9f3a"
             ],
             [
              0.8888888888888888,
              "#fdca26"
             ],
             [
              1,
              "#f0f921"
             ]
            ],
            "type": "contour"
           }
          ],
          "contourcarpet": [
           {
            "colorbar": {
             "outlinewidth": 0,
             "ticks": ""
            },
            "type": "contourcarpet"
           }
          ],
          "heatmap": [
           {
            "colorbar": {
             "outlinewidth": 0,
             "ticks": ""
            },
            "colorscale": [
             [
              0,
              "#0d0887"
             ],
             [
              0.1111111111111111,
              "#46039f"
             ],
             [
              0.2222222222222222,
              "#7201a8"
             ],
             [
              0.3333333333333333,
              "#9c179e"
             ],
             [
              0.4444444444444444,
              "#bd3786"
             ],
             [
              0.5555555555555556,
              "#d8576b"
             ],
             [
              0.6666666666666666,
              "#ed7953"
             ],
             [
              0.7777777777777778,
              "#fb9f3a"
             ],
             [
              0.8888888888888888,
              "#fdca26"
             ],
             [
              1,
              "#f0f921"
             ]
            ],
            "type": "heatmap"
           }
          ],
          "histogram": [
           {
            "marker": {
             "pattern": {
              "fillmode": "overlay",
              "size": 10,
              "solidity": 0.2
             }
            },
            "type": "histogram"
           }
          ],
          "histogram2d": [
           {
            "colorbar": {
             "outlinewidth": 0,
             "ticks": ""
            },
            "colorscale": [
             [
              0,
              "#0d0887"
             ],
             [
              0.1111111111111111,
              "#46039f"
             ],
             [
              0.2222222222222222,
              "#7201a8"
             ],
             [
              0.3333333333333333,
              "#9c179e"
             ],
             [
              0.4444444444444444,
              "#bd3786"
             ],
             [
              0.5555555555555556,
              "#d8576b"
             ],
             [
              0.6666666666666666,
              "#ed7953"
             ],
             [
              0.7777777777777778,
              "#fb9f3a"
             ],
             [
              0.8888888888888888,
              "#fdca26"
             ],
             [
              1,
              "#f0f921"
             ]
            ],
            "type": "histogram2d"
           }
          ],
          "histogram2dcontour": [
           {
            "colorbar": {
             "outlinewidth": 0,
             "ticks": ""
            },
            "colorscale": [
             [
              0,
              "#0d0887"
             ],
             [
              0.1111111111111111,
              "#46039f"
             ],
             [
              0.2222222222222222,
              "#7201a8"
             ],
             [
              0.3333333333333333,
              "#9c179e"
             ],
             [
              0.4444444444444444,
              "#bd3786"
             ],
             [
              0.5555555555555556,
              "#d8576b"
             ],
             [
              0.6666666666666666,
              "#ed7953"
             ],
             [
              0.7777777777777778,
              "#fb9f3a"
             ],
             [
              0.8888888888888888,
              "#fdca26"
             ],
             [
              1,
              "#f0f921"
             ]
            ],
            "type": "histogram2dcontour"
           }
          ],
          "mesh3d": [
           {
            "colorbar": {
             "outlinewidth": 0,
             "ticks": ""
            },
            "type": "mesh3d"
           }
          ],
          "parcoords": [
           {
            "line": {
             "colorbar": {
              "outlinewidth": 0,
              "ticks": ""
             }
            },
            "type": "parcoords"
           }
          ],
          "pie": [
           {
            "automargin": true,
            "type": "pie"
           }
          ],
          "scatter": [
           {
            "fillpattern": {
             "fillmode": "overlay",
             "size": 10,
             "solidity": 0.2
            },
            "type": "scatter"
           }
          ],
          "scatter3d": [
           {
            "line": {
             "colorbar": {
              "outlinewidth": 0,
              "ticks": ""
             }
            },
            "marker": {
             "colorbar": {
              "outlinewidth": 0,
              "ticks": ""
             }
            },
            "type": "scatter3d"
           }
          ],
          "scattercarpet": [
           {
            "marker": {
             "colorbar": {
              "outlinewidth": 0,
              "ticks": ""
             }
            },
            "type": "scattercarpet"
           }
          ],
          "scattergeo": [
           {
            "marker": {
             "colorbar": {
              "outlinewidth": 0,
              "ticks": ""
             }
            },
            "type": "scattergeo"
           }
          ],
          "scattergl": [
           {
            "marker": {
             "colorbar": {
              "outlinewidth": 0,
              "ticks": ""
             }
            },
            "type": "scattergl"
           }
          ],
          "scattermap": [
           {
            "marker": {
             "colorbar": {
              "outlinewidth": 0,
              "ticks": ""
             }
            },
            "type": "scattermap"
           }
          ],
          "scattermapbox": [
           {
            "marker": {
             "colorbar": {
              "outlinewidth": 0,
              "ticks": ""
             }
            },
            "type": "scattermapbox"
           }
          ],
          "scatterpolar": [
           {
            "marker": {
             "colorbar": {
              "outlinewidth": 0,
              "ticks": ""
             }
            },
            "type": "scatterpolar"
           }
          ],
          "scatterpolargl": [
           {
            "marker": {
             "colorbar": {
              "outlinewidth": 0,
              "ticks": ""
             }
            },
            "type": "scatterpolargl"
           }
          ],
          "scatterternary": [
           {
            "marker": {
             "colorbar": {
              "outlinewidth": 0,
              "ticks": ""
             }
            },
            "type": "scatterternary"
           }
          ],
          "surface": [
           {
            "colorbar": {
             "outlinewidth": 0,
             "ticks": ""
            },
            "colorscale": [
             [
              0,
              "#0d0887"
             ],
             [
              0.1111111111111111,
              "#46039f"
             ],
             [
              0.2222222222222222,
              "#7201a8"
             ],
             [
              0.3333333333333333,
              "#9c179e"
             ],
             [
              0.4444444444444444,
              "#bd3786"
             ],
             [
              0.5555555555555556,
              "#d8576b"
             ],
             [
              0.6666666666666666,
              "#ed7953"
             ],
             [
              0.7777777777777778,
              "#fb9f3a"
             ],
             [
              0.8888888888888888,
              "#fdca26"
             ],
             [
              1,
              "#f0f921"
             ]
            ],
            "type": "surface"
           }
          ],
          "table": [
           {
            "cells": {
             "fill": {
              "color": "#EBF0F8"
             },
             "line": {
              "color": "white"
             }
            },
            "header": {
             "fill": {
              "color": "#C8D4E3"
             },
             "line": {
              "color": "white"
             }
            },
            "type": "table"
           }
          ]
         },
         "layout": {
          "annotationdefaults": {
           "arrowcolor": "#2a3f5f",
           "arrowhead": 0,
           "arrowwidth": 1
          },
          "autotypenumbers": "strict",
          "coloraxis": {
           "colorbar": {
            "outlinewidth": 0,
            "ticks": ""
           }
          },
          "colorscale": {
           "diverging": [
            [
             0,
             "#8e0152"
            ],
            [
             0.1,
             "#c51b7d"
            ],
            [
             0.2,
             "#de77ae"
            ],
            [
             0.3,
             "#f1b6da"
            ],
            [
             0.4,
             "#fde0ef"
            ],
            [
             0.5,
             "#f7f7f7"
            ],
            [
             0.6,
             "#e6f5d0"
            ],
            [
             0.7,
             "#b8e186"
            ],
            [
             0.8,
             "#7fbc41"
            ],
            [
             0.9,
             "#4d9221"
            ],
            [
             1,
             "#276419"
            ]
           ],
           "sequential": [
            [
             0,
             "#0d0887"
            ],
            [
             0.1111111111111111,
             "#46039f"
            ],
            [
             0.2222222222222222,
             "#7201a8"
            ],
            [
             0.3333333333333333,
             "#9c179e"
            ],
            [
             0.4444444444444444,
             "#bd3786"
            ],
            [
             0.5555555555555556,
             "#d8576b"
            ],
            [
             0.6666666666666666,
             "#ed7953"
            ],
            [
             0.7777777777777778,
             "#fb9f3a"
            ],
            [
             0.8888888888888888,
             "#fdca26"
            ],
            [
             1,
             "#f0f921"
            ]
           ],
           "sequentialminus": [
            [
             0,
             "#0d0887"
            ],
            [
             0.1111111111111111,
             "#46039f"
            ],
            [
             0.2222222222222222,
             "#7201a8"
            ],
            [
             0.3333333333333333,
             "#9c179e"
            ],
            [
             0.4444444444444444,
             "#bd3786"
            ],
            [
             0.5555555555555556,
             "#d8576b"
            ],
            [
             0.6666666666666666,
             "#ed7953"
            ],
            [
             0.7777777777777778,
             "#fb9f3a"
            ],
            [
             0.8888888888888888,
             "#fdca26"
            ],
            [
             1,
             "#f0f921"
            ]
           ]
          },
          "colorway": [
           "#636efa",
           "#EF553B",
           "#00cc96",
           "#ab63fa",
           "#FFA15A",
           "#19d3f3",
           "#FF6692",
           "#B6E880",
           "#FF97FF",
           "#FECB52"
          ],
          "font": {
           "color": "#2a3f5f"
          },
          "geo": {
           "bgcolor": "white",
           "lakecolor": "white",
           "landcolor": "#E5ECF6",
           "showlakes": true,
           "showland": true,
           "subunitcolor": "white"
          },
          "hoverlabel": {
           "align": "left"
          },
          "hovermode": "closest",
          "mapbox": {
           "style": "light"
          },
          "paper_bgcolor": "white",
          "plot_bgcolor": "#E5ECF6",
          "polar": {
           "angularaxis": {
            "gridcolor": "white",
            "linecolor": "white",
            "ticks": ""
           },
           "bgcolor": "#E5ECF6",
           "radialaxis": {
            "gridcolor": "white",
            "linecolor": "white",
            "ticks": ""
           }
          },
          "scene": {
           "xaxis": {
            "backgroundcolor": "#E5ECF6",
            "gridcolor": "white",
            "gridwidth": 2,
            "linecolor": "white",
            "showbackground": true,
            "ticks": "",
            "zerolinecolor": "white"
           },
           "yaxis": {
            "backgroundcolor": "#E5ECF6",
            "gridcolor": "white",
            "gridwidth": 2,
            "linecolor": "white",
            "showbackground": true,
            "ticks": "",
            "zerolinecolor": "white"
           },
           "zaxis": {
            "backgroundcolor": "#E5ECF6",
            "gridcolor": "white",
            "gridwidth": 2,
            "linecolor": "white",
            "showbackground": true,
            "ticks": "",
            "zerolinecolor": "white"
           }
          },
          "shapedefaults": {
           "line": {
            "color": "#2a3f5f"
           }
          },
          "ternary": {
           "aaxis": {
            "gridcolor": "white",
            "linecolor": "white",
            "ticks": ""
           },
           "baxis": {
            "gridcolor": "white",
            "linecolor": "white",
            "ticks": ""
           },
           "bgcolor": "#E5ECF6",
           "caxis": {
            "gridcolor": "white",
            "linecolor": "white",
            "ticks": ""
           }
          },
          "title": {
           "x": 0.05
          },
          "xaxis": {
           "automargin": true,
           "gridcolor": "white",
           "linecolor": "white",
           "ticks": "",
           "title": {
            "standoff": 15
           },
           "zerolinecolor": "white",
           "zerolinewidth": 2
          },
          "yaxis": {
           "automargin": true,
           "gridcolor": "white",
           "linecolor": "white",
           "ticks": "",
           "title": {
            "standoff": 15
           },
           "zerolinecolor": "white",
           "zerolinewidth": 2
          }
         }
        },
        "title": {
         "text": "Comparação das Previsões dos Modelos"
        },
        "xaxis": {
         "title": {
          "text": "Data"
         }
        },
        "yaxis": {
         "title": {
          "text": "Total de Visitas"
         }
        }
       }
      }
     },
     "metadata": {},
     "output_type": "display_data"
    }
   ],
   "source": [
    "y_test_original = scaler_y.inverse_transform(y_test_seq.reshape(-1, 1)).flatten()\n",
    "dates_test = df_exemplo['data'].iloc[-len(y_test_seq):].values\n",
    "\n",
    "# Criar gráfico comparativo\n",
    "fig = go.Figure()\n",
    "\n",
    "# Valores reais\n",
    "fig.add_trace(go.Scatter(\n",
    "    x=dates_test,\n",
    "    y=y_test_original,\n",
    "    mode='lines',\n",
    "    name='Valores Reais',\n",
    "    line=dict(color='black', width=2)\n",
    "))\n",
    "\n",
    "# Previsões LSTM\n",
    "fig.add_trace(go.Scatter(\n",
    "    x=dates_test,\n",
    "    y=y_pred_lstm.flatten(),\n",
    "    mode='lines',\n",
    "    name='LSTM',\n",
    "    line=dict(color='blue', width=2, dash='dash')\n",
    "))\n",
    "\n",
    "# Previsões GRU\n",
    "fig.add_trace(go.Scatter(\n",
    "    x=dates_test,\n",
    "    y=y_pred_gru.flatten(),\n",
    "    mode='lines',\n",
    "    name='GRU',\n",
    "    line=dict(color='red', width=2, dash='dash')\n",
    "))\n",
    "\n",
    "# Previsões CNN-LSTM\n",
    "fig.add_trace(go.Scatter(\n",
    "    x=dates_test,\n",
    "    y=y_pred_cnn_lstm.flatten(),\n",
    "    mode='lines',\n",
    "    name='CNN-LSTM',\n",
    "    line=dict(color='green', width=2, dash='dash')\n",
    "))\n",
    "\n",
    "fig.update_layout(\n",
    "    title='Comparação das Previsões dos Modelos',\n",
    "    xaxis_title='Data',\n",
    "    yaxis_title='Total de Visitas',\n",
    "    height=600\n",
    ")\n",
    "\n",
    "fig.show()"
   ]
  },
  {
   "cell_type": "code",
   "execution_count": 31,
   "id": "87133da2",
   "metadata": {},
   "outputs": [
    {
     "name": "stdout",
     "output_type": "stream",
     "text": [
      "\n",
      "=== TABELA COMPARATIVA DE DESEMPENHO ===\n",
      "   model      rmse       mae          r2      mape\n",
      "     GRU  7.846796  6.474452   -9.262034  7.824337\n",
      "CNN-LSTM 20.368598 19.011139  -68.146633 22.664728\n",
      "    LSTM 32.947296 32.611416 -179.920715 39.158344\n"
     ]
    },
    {
     "data": {
      "image/png": "[encoded data removed]",
      "text/plain": [
       "<Figure size 1200x1000 with 4 Axes>"
      ]
     },
     "metadata": {},
     "output_type": "display_data"
    }
   ],
   "source": [
    "df_results = pd.DataFrame(results)\n",
    "df_results = df_results.sort_values('rmse')\n",
    "\n",
    "# Visualizar tabela\n",
    "print(\"\\n=== TABELA COMPARATIVA DE DESEMPENHO ===\")\n",
    "print(df_results.to_string(index=False))\n",
    "\n",
    "# Criar gráfico de barras para métricas\n",
    "fig, axes = plt.subplots(2, 2, figsize=(12, 10))\n",
    "\n",
    "metrics = ['rmse', 'mae', 'r2', 'mape']\n",
    "titles = ['RMSE (Menor é melhor)', 'MAE (Menor é melhor)', 'R² (Maior é melhor)', 'MAPE % (Menor é melhor)']\n",
    "\n",
    "for idx, (metric, title) in enumerate(zip(metrics, titles)):\n",
    "    ax = axes[idx//2, idx%2]\n",
    "    bars = ax.bar(df_results['model'], df_results[metric])\n",
    "    \n",
    "    # Colorir a melhor barra\n",
    "    if metric == 'r2':\n",
    "        best_idx = df_results[metric].idxmax()\n",
    "        bars[best_idx].set_color('green')\n",
    "    else:\n",
    "        best_idx = df_results[metric].idxmin()\n",
    "        bars[best_idx].set_color('green')\n",
    "    \n",
    "    ax.set_title(title)\n",
    "    ax.set_ylabel(metric.upper())\n",
    "    \n",
    "    # Adicionar valores nas barras\n",
    "    for bar in bars:\n",
    "        height = bar.get_height()\n",
    "        ax.annotate(f'{height:.2f}',\n",
    "                    xy=(bar.get_x() + bar.get_width() / 2, height),\n",
    "                    xytext=(0, 3),\n",
    "                    textcoords=\"offset points\",\n",
    "                    ha='center', va='bottom')\n",
    "\n",
    "plt.tight_layout()\n",
    "plt.show()"
   ]
  },
  {
   "cell_type": "code",
   "execution_count": 32,
   "id": "b115017a",
   "metadata": {},
   "outputs": [
    {
     "data": {
      "image/png": "[encoded data removed]",
      "text/plain": [
       "<Figure size 1200x1000 with 4 Axes>"
      ]
     },
     "metadata": {},
     "output_type": "display_data"
    }
   ],
   "source": [
    "best_model_name = df_results.iloc[0]['model']\n",
    "if best_model_name == 'LSTM':\n",
    "    y_pred_best = y_pred_lstm\n",
    "elif best_model_name == 'GRU':\n",
    "    y_pred_best = y_pred_gru\n",
    "else:\n",
    "    y_pred_best = y_pred_cnn_lstm\n",
    "\n",
    "residuals = y_test_original - y_pred_best.flatten()\n",
    "\n",
    "# Visualizar resíduos\n",
    "fig, axes = plt.subplots(2, 2, figsize=(12, 10))\n",
    "\n",
    "# Gráfico de resíduos ao longo do tempo\n",
    "axes[0, 0].plot(dates_test, residuals)\n",
    "axes[0, 0].axhline(y=0, color='r', linestyle='--')\n",
    "axes[0, 0].set_title('Resíduos ao Longo do Tempo')\n",
    "axes[0, 0].set_xlabel('Data')\n",
    "axes[0, 0].set_ylabel('Resíduo')\n",
    "\n",
    "# Histograma dos resíduos\n",
    "axes[0, 1].hist(residuals, bins=20, edgecolor='black')\n",
    "axes[0, 1].set_title('Distribuição dos Resíduos')\n",
    "axes[0, 1].set_xlabel('Resíduo')\n",
    "axes[0, 1].set_ylabel('Frequência')\n",
    "\n",
    "# Q-Q Plot\n",
    "from scipy import stats\n",
    "stats.probplot(residuals, dist=\"norm\", plot=axes[1, 0])\n",
    "axes[1, 0].set_title('Q-Q Plot')\n",
    "\n",
    "# Resíduos vs Valores Preditos\n",
    "axes[1, 1].scatter(y_pred_best.flatten(), residuals, alpha=0.6)\n",
    "axes[1, 1].axhline(y=0, color='r', linestyle='--')\n",
    "axes[1, 1].set_title('Resíduos vs Valores Preditos')\n",
    "axes[1, 1].set_xlabel('Valores Preditos')\n",
    "axes[1, 1].set_ylabel('Resíduo')\n",
    "\n",
    "plt.tight_layout()\n",
    "plt.show()\n"
   ]
  },
  {
   "cell_type": "code",
   "execution_count": 33,
   "id": "1f867fb1",
   "metadata": {},
   "outputs": [
    {
     "data": {
      "application/vnd.plotly.v1+json": {
       "config": {
        "plotlyServerURL": "https://plot.ly"
       },
       "data": [
        {
         "line": {
          "color": "blue",
          "width": 2
         },
         "mode": "lines",
         "name": "Dados Históricos",
         "type": "scatter",
         "x": [
          "2020-07-01T00:00:00.000000000",
          "2020-08-01T00:00:00.000000000",
          "2020-09-01T00:00:00.000000000",
          "2020-10-01T00:00:00.000000000",
          "2020-11-01T00:00:00.000000000",
          "2020-12-01T00:00:00.000000000",
          "2021-01-01T00:00:00.000000000",
          "2021-02-01T00:00:00.000000000",
          "2021-03-01T00:00:00.000000000",
          "2021-04-01T00:00:00.000000000",
          "2021-05-01T00:00:00.000000000",
          "2021-06-01T00:00:00.000000000",
          "2021-07-01T00:00:00.000000000",
          "2021-08-01T00:00:00.000000000",
          "2021-09-01T00:00:00.000000000",
          "2021-10-01T00:00:00.000000000",
          "2021-11-01T00:00:00.000000000",
          "2021-12-01T00:00:00.000000000",
          "2022-01-01T00:00:00.000000000",
          "2022-02-01T00:00:00.000000000",
          "2022-03-01T00:00:00.000000000",
          "2022-04-01T00:00:00.000000000",
          "2022-05-01T00:00:00.000000000",
          "2022-06-01T00:00:00.000000000"
         ],
         "y": {
          "bdata": "CwGjAAIBNwHQAN8ASwBLAFYAUgBTAFcAUwAzAFUALwBMAEkAOgA7AFEAUABTAFYA",
          "dtype": "i2"
         }
        },
        {
         "line": {
          "color": "red",
          "dash": "dash",
          "width": 2
         },
         "mode": "lines+markers",
         "name": "Previsões Futuras",
         "type": "scatter",
         "x": [
          "2022-07-01T00:00:00.000000000",
          "2022-08-01T00:00:00.000000000",
          "2022-09-01T00:00:00.000000000",
          "2022-10-01T00:00:00.000000000",
          "2022-11-01T00:00:00.000000000",
          "2022-12-01T00:00:00.000000000"
         ],
         "y": [
          47.51000213623047,
          46.667945861816406,
          46.65691375732422,
          46.26474380493164,
          46.01165008544922,
          46.457950592041016
         ]
        }
       ],
       "layout": {
        "height": 500,
        "template": {
         "data": {
          "bar": [
           {
            "error_x": {
             "color": "#2a3f5f"
            },
            "error_y": {
             "color": "#2a3f5f"
            },
            "marker": {
             "line": {
              "color": "#E5ECF6",
              "width": 0.5
             },
             "pattern": {
              "fillmode": "overlay",
              "size": 10,
              "solidity": 0.2
             }
            },
            "type": "bar"
           }
          ],
          "barpolar": [
           {
            "marker": {
             "line": {
              "color": "#E5ECF6",
              "width": 0.5
             },
             "pattern": {
              "fillmode": "overlay",
              "size": 10,
              "solidity": 0.2
             }
            },
            "type": "barpolar"
           }
          ],
          "carpet": [
           {
            "aaxis": {
             "endlinecolor": "#2a3f5f",
             "gridcolor": "white",
             "linecolor": "white",
             "minorgridcolor": "white",
             "startlinecolor": "#2a3f5f"
            },
            "baxis": {
             "endlinecolor": "#2a3f5f",
             "gridcolor": "white",
             "linecolor": "white",
             "minorgridcolor": "white",
             "startlinecolor": "#2a3f5f"
            },
            "type": "carpet"
           }
          ],
          "choropleth": [
           {
            "colorbar": {
             "outlinewidth": 0,
             "ticks": ""
            },
            "type": "choropleth"
           }
          ],
          "contour": [
           {
            "colorbar": {
             "outlinewidth": 0,
             "ticks": ""
            },
            "colorscale": [
             [
              0,
              "#0d0887"
             ],
             [
              0.1111111111111111,
              "#46039f"
             ],
             [
              0.2222222222222222,
              "#7201a8"
             ],
             [
              0.3333333333333333,
              "#9c179e"
             ],
             [
              0.4444444444444444,
              "#bd3786"
             ],
             [
              0.5555555555555556,
              "#d8576b"
             ],
             [
              0.6666666666666666,
              "#ed7953"
             ],
             [
              0.7777777777777778,
              "#fb9f3a"
             ],
             [
              0.8888888888888888,
              "#fdca26"
             ],
             [
              1,
              "#f0f921"
             ]
            ],
            "type": "contour"
           }
          ],
          "contourcarpet": [
           {
            "colorbar": {
             "outlinewidth": 0,
             "ticks": ""
            },
            "type": "contourcarpet"
           }
          ],
          "heatmap": [
           {
            "colorbar": {
             "outlinewidth": 0,
             "ticks": ""
            },
            "colorscale": [
             [
              0,
              "#0d0887"
             ],
             [
              0.1111111111111111,
              "#46039f"
             ],
             [
              0.2222222222222222,
              "#7201a8"
             ],
             [
              0.3333333333333333,
              "#9c179e"
             ],
             [
              0.4444444444444444,
              "#bd3786"
             ],
             [
              0.5555555555555556,
              "#d8576b"
             ],
             [
              0.6666666666666666,
              "#ed7953"
             ],
             [
              0.7777777777777778,
              "#fb9f3a"
             ],
             [
              0.8888888888888888,
              "#fdca26"
             ],
             [
              1,
              "#f0f921"
             ]
            ],
            "type": "heatmap"
           }
          ],
          "histogram": [
           {
            "marker": {
             "pattern": {
              "fillmode": "overlay",
              "size": 10,
              "solidity": 0.2
             }
            },
            "type": "histogram"
           }
          ],
          "histogram2d": [
           {
            "colorbar": {
             "outlinewidth": 0,
             "ticks": ""
            },
            "colorscale": [
             [
              0,
              "#0d0887"
             ],
             [
              0.1111111111111111,
              "#46039f"
             ],
             [
              0.2222222222222222,
              "#7201a8"
             ],
             [
              0.3333333333333333,
              "#9c179e"
             ],
             [
              0.4444444444444444,
              "#bd3786"
             ],
             [
              0.5555555555555556,
              "#d8576b"
             ],
             [
              0.6666666666666666,
              "#ed7953"
             ],
             [
              0.7777777777777778,
              "#fb9f3a"
             ],
             [
              0.8888888888888888,
              "#fdca26"
             ],
             [
              1,
              "#f0f921"
             ]
            ],
            "type": "histogram2d"
           }
          ],
          "histogram2dcontour": [
           {
            "colorbar": {
             "outlinewidth": 0,
             "ticks": ""
            },
            "colorscale": [
             [
              0,
              "#0d0887"
             ],
             [
              0.1111111111111111,
              "#46039f"
             ],
             [
              0.2222222222222222,
              "#7201a8"
             ],
             [
              0.3333333333333333,
              "#9c179e"
             ],
             [
              0.4444444444444444,
              "#bd3786"
             ],
             [
              0.5555555555555556,
              "#d8576b"
             ],
             [
              0.6666666666666666,
              "#ed7953"
             ],
             [
              0.7777777777777778,
              "#fb9f3a"
             ],
             [
              0.8888888888888888,
              "#fdca26"
             ],
             [
              1,
              "#f0f921"
             ]
            ],
            "type": "histogram2dcontour"
           }
          ],
          "mesh3d": [
           {
            "colorbar": {
             "outlinewidth": 0,
             "ticks": ""
            },
            "type": "mesh3d"
           }
          ],
          "parcoords": [
           {
            "line": {
             "colorbar": {
              "outlinewidth": 0,
              "ticks": ""
             }
            },
            "type": "parcoords"
           }
          ],
          "pie": [
           {
            "automargin": true,
            "type": "pie"
           }
          ],
          "scatter": [
           {
            "fillpattern": {
             "fillmode": "overlay",
             "size": 10,
             "solidity": 0.2
            },
            "type": "scatter"
           }
          ],
          "scatter3d": [
           {
            "line": {
             "colorbar": {
              "outlinewidth": 0,
              "ticks": ""
             }
            },
            "marker": {
             "colorbar": {
              "outlinewidth": 0,
              "ticks": ""
             }
            },
            "type": "scatter3d"
           }
          ],
          "scattercarpet": [
           {
            "marker": {
             "colorbar": {
              "outlinewidth": 0,
              "ticks": ""
             }
            },
            "type": "scattercarpet"
           }
          ],
          "scattergeo": [
           {
            "marker": {
             "colorbar": {
              "outlinewidth": 0,
              "ticks": ""
             }
            },
            "type": "scattergeo"
           }
          ],
          "scattergl": [
           {
            "marker": {
             "colorbar": {
              "outlinewidth": 0,
              "ticks": ""
             }
            },
            "type": "scattergl"
           }
          ],
          "scattermap": [
           {
            "marker": {
             "colorbar": {
              "outlinewidth": 0,
              "ticks": ""
             }
            },
            "type": "scattermap"
           }
          ],
          "scattermapbox": [
           {
            "marker": {
             "colorbar": {
              "outlinewidth": 0,
              "ticks": ""
             }
            },
            "type": "scattermapbox"
           }
          ],
          "scatterpolar": [
           {
            "marker": {
             "colorbar": {
              "outlinewidth": 0,
              "ticks": ""
             }
            },
            "type": "scatterpolar"
           }
          ],
          "scatterpolargl": [
           {
            "marker": {
             "colorbar": {
              "outlinewidth": 0,
              "ticks": ""
             }
            },
            "type": "scatterpolargl"
           }
          ],
          "scatterternary": [
           {
            "marker": {
             "colorbar": {
              "outlinewidth": 0,
              "ticks": ""
             }
            },
            "type": "scatterternary"
           }
          ],
          "surface": [
           {
            "colorbar": {
             "outlinewidth": 0,
             "ticks": ""
            },
            "colorscale": [
             [
              0,
              "#0d0887"
             ],
             [
              0.1111111111111111,
              "#46039f"
             ],
             [
              0.2222222222222222,
              "#7201a8"
             ],
             [
              0.3333333333333333,
              "#9c179e"
             ],
             [
              0.4444444444444444,
              "#bd3786"
             ],
             [
              0.5555555555555556,
              "#d8576b"
             ],
             [
              0.6666666666666666,
              "#ed7953"
             ],
             [
              0.7777777777777778,
              "#fb9f3a"
             ],
             [
              0.8888888888888888,
              "#fdca26"
             ],
             [
              1,
              "#f0f921"
             ]
            ],
            "type": "surface"
           }
          ],
          "table": [
           {
            "cells": {
             "fill": {
              "color": "#EBF0F8"
             },
             "line": {
              "color": "white"
             }
            },
            "header": {
             "fill": {
              "color": "#C8D4E3"
             },
             "line": {
              "color": "white"
             }
            },
            "type": "table"
           }
          ]
         },
         "layout": {
          "annotationdefaults": {
           "arrowcolor": "#2a3f5f",
           "arrowhead": 0,
           "arrowwidth": 1
          },
          "autotypenumbers": "strict",
          "coloraxis": {
           "colorbar": {
            "outlinewidth": 0,
            "ticks": ""
           }
          },
          "colorscale": {
           "diverging": [
            [
             0,
             "#8e0152"
            ],
            [
             0.1,
             "#c51b7d"
            ],
            [
             0.2,
             "#de77ae"
            ],
            [
             0.3,
             "#f1b6da"
            ],
            [
             0.4,
             "#fde0ef"
            ],
            [
             0.5,
             "#f7f7f7"
            ],
            [
             0.6,
             "#e6f5d0"
            ],
            [
             0.7,
             "#b8e186"
            ],
            [
             0.8,
             "#7fbc41"
            ],
            [
             0.9,
             "#4d9221"
            ],
            [
             1,
             "#276419"
            ]
           ],
           "sequential": [
            [
             0,
             "#0d0887"
            ],
            [
             0.1111111111111111,
             "#46039f"
            ],
            [
             0.2222222222222222,
             "#7201a8"
            ],
            [
             0.3333333333333333,
             "#9c179e"
            ],
            [
             0.4444444444444444,
             "#bd3786"
            ],
            [
             0.5555555555555556,
             "#d8576b"
            ],
            [
             0.6666666666666666,
             "#ed7953"
            ],
            [
             0.7777777777777778,
             "#fb9f3a"
            ],
            [
             0.8888888888888888,
             "#fdca26"
            ],
            [
             1,
             "#f0f921"
            ]
           ],
           "sequentialminus": [
            [
             0,
             "#0d0887"
            ],
            [
             0.1111111111111111,
             "#46039f"
            ],
            [
             0.2222222222222222,
             "#7201a8"
            ],
            [
             0.3333333333333333,
             "#9c179e"
            ],
            [
             0.4444444444444444,
             "#bd3786"
            ],
            [
             0.5555555555555556,
             "#d8576b"
            ],
            [
             0.6666666666666666,
             "#ed7953"
            ],
            [
             0.7777777777777778,
             "#fb9f3a"
            ],
            [
             0.8888888888888888,
             "#fdca26"
            ],
            [
             1,
             "#f0f921"
            ]
           ]
          },
          "colorway": [
           "#636efa",
           "#EF553B",
           "#00cc96",
           "#ab63fa",
           "#FFA15A",
           "#19d3f3",
           "#FF6692",
           "#B6E880",
           "#FF97FF",
           "#FECB52"
          ],
          "font": {
           "color": "#2a3f5f"
          },
          "geo": {
           "bgcolor": "white",
           "lakecolor": "white",
           "landcolor": "#E5ECF6",
           "showlakes": true,
           "showland": true,
           "subunitcolor": "white"
          },
          "hoverlabel": {
           "align": "left"
          },
          "hovermode": "closest",
          "mapbox": {
           "style": "light"
          },
          "paper_bgcolor": "white",
          "plot_bgcolor": "#E5ECF6",
          "polar": {
           "angularaxis": {
            "gridcolor": "white",
            "linecolor": "white",
            "ticks": ""
           },
           "bgcolor": "#E5ECF6",
           "radialaxis": {
            "gridcolor": "white",
            "linecolor": "white",
            "ticks": ""
           }
          },
          "scene": {
           "xaxis": {
            "backgroundcolor": "#E5ECF6",
            "gridcolor": "white",
            "gridwidth": 2,
            "linecolor": "white",
            "showbackground": true,
            "ticks": "",
            "zerolinecolor": "white"
           },
           "yaxis": {
            "backgroundcolor": "#E5ECF6",
            "gridcolor": "white",
            "gridwidth": 2,
            "linecolor": "white",
            "showbackground": true,
            "ticks": "",
            "zerolinecolor": "white"
           },
           "zaxis": {
            "backgroundcolor": "#E5ECF6",
            "gridcolor": "white",
            "gridwidth": 2,
            "linecolor": "white",
            "showbackground": true,
            "ticks": "",
            "zerolinecolor": "white"
           }
          },
          "shapedefaults": {
           "line": {
            "color": "#2a3f5f"
           }
          },
          "ternary": {
           "aaxis": {
            "gridcolor": "white",
            "linecolor": "white",
            "ticks": ""
           },
           "baxis": {
            "gridcolor": "white",
            "linecolor": "white",
            "ticks": ""
           },
           "bgcolor": "#E5ECF6",
           "caxis": {
            "gridcolor": "white",
            "linecolor": "white",
            "ticks": ""
           }
          },
          "title": {
           "x": 0.05
          },
          "xaxis": {
           "automargin": true,
           "gridcolor": "white",
           "linecolor": "white",
           "ticks": "",
           "title": {
            "standoff": 15
           },
           "zerolinecolor": "white",
           "zerolinewidth": 2
          },
          "yaxis": {
           "automargin": true,
           "gridcolor": "white",
           "linecolor": "white",
           "ticks": "",
           "title": {
            "standoff": 15
           },
           "zerolinecolor": "white",
           "zerolinewidth": 2
          }
         }
        },
        "title": {
         "text": "Previsões para os Próximos 6 Meses"
        },
        "xaxis": {
         "title": {
          "text": "Data"
         }
        },
        "yaxis": {
         "title": {
          "text": "Total de Visitas"
         }
        }
       }
      }
     },
     "metadata": {},
     "output_type": "display_data"
    }
   ],
   "source": [
    "def predict_future(model, last_sequence, n_months, scaler_X, scaler_y):\n",
    "    \"\"\"Faz previsões para n_months meses futuros\"\"\"\n",
    "    predictions = []\n",
    "    current_sequence = last_sequence.copy()\n",
    "    \n",
    "    for _ in range(n_months):\n",
    "        # Fazer previsão\n",
    "        pred_scaled = model.predict(current_sequence.reshape(1, SEQ_LENGTH, -1), verbose=0)\n",
    "        pred = scaler_y.inverse_transform(pred_scaled)[0, 0]\n",
    "        predictions.append(pred)\n",
    "        \n",
    "        # Atualizar sequência (simplificado - em produção, atualizaria todas as features)\n",
    "        # Aqui estamos apenas rolando a janela\n",
    "        current_sequence = np.roll(current_sequence, -1, axis=0)\n",
    "        # A última linha seria atualizada com as novas features do período previsto\n",
    "        \n",
    "    return predictions\n",
    "\n",
    "# Fazer previsões para os próximos 6 meses\n",
    "last_sequence = X_test_seq[-1]\n",
    "future_predictions = predict_future(lstm_model, last_sequence, 6, scaler_X, scaler_y)\n",
    "\n",
    "# Criar datas futuras\n",
    "last_date = df_exemplo['data'].iloc[-1]\n",
    "future_dates = pd.date_range(start=last_date + pd.DateOffset(months=1), periods=6, freq='MS')\n",
    "\n",
    "# Visualizar previsões futuras\n",
    "fig = go.Figure()\n",
    "\n",
    "# Dados históricos\n",
    "fig.add_trace(go.Scatter(\n",
    "    x=df_exemplo['data'].iloc[-24:],\n",
    "    y=df_exemplo['total_visitas'].iloc[-24:],\n",
    "    mode='lines',\n",
    "    name='Dados Históricos',\n",
    "    line=dict(color='blue', width=2)\n",
    "))\n",
    "\n",
    "# Previsões futuras\n",
    "fig.add_trace(go.Scatter(\n",
    "    x=future_dates,\n",
    "    y=future_predictions,\n",
    "    mode='lines+markers',\n",
    "    name='Previsões Futuras',\n",
    "    line=dict(color='red', width=2, dash='dash')\n",
    "))\n",
    "\n",
    "fig.update_layout(\n",
    "    title='Previsões para os Próximos 6 Meses',\n",
    "    xaxis_title='Data',\n",
    "    yaxis_title='Total de Visitas',\n",
    "    height=500\n",
    ")\n",
    "\n",
    "fig.show()"
   ]
  }
 ],
 "metadata": {
  "kernelspec": {
   "display_name": "Python 3",
   "language": "python",
   "name": "python3"
  },
  "language_info": {
   "codemirror_mode": {
    "name": "ipython",
    "version": 3
   },
   "file_extension": ".py",
   "mimetype": "text/x-python",
   "name": "python",
   "nbconvert_exporter": "python",
   "pygments_lexer": "ipython3",
   "version": "3.10.10"
  }
 },
 "nbformat": 4,
 "nbformat_minor": 5
}
